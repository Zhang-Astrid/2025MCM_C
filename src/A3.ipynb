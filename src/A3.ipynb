{
 "cells": [
  {
   "cell_type": "markdown",
   "id": "c268e00b-e42e-4c4e-ac42-36bca7956baf",
   "metadata": {},
   "source": [
    "### 数据处理"
   ]
  },
  {
   "cell_type": "code",
   "id": "251d8621-ee11-477b-a30b-19ff4531b4e3",
   "metadata": {
    "ExecuteTime": {
     "end_time": "2025-01-25T13:14:49.973380Z",
     "start_time": "2025-01-25T13:14:49.960082Z"
    }
   },
   "source": [
    "import pandas as pd\n",
    "import numpy as np"
   ],
   "outputs": [],
   "execution_count": 11
  },
  {
   "cell_type": "code",
   "id": "d45c6c49-b97b-45c6-be7c-cefab4a58d97",
   "metadata": {
    "ExecuteTime": {
     "end_time": "2025-01-25T13:14:50.597363Z",
     "start_time": "2025-01-25T13:14:50.094883Z"
    }
   },
   "source": [
    "# file_Countries = 'ProcessedData/Countries.csv'\n",
    "# file_Athletes = 'ProcessedData/Athletes.csv'\n",
    "# file_Medals = 'ProcessedData/Medals.csv'\n",
    "file_countries = 'ProcessedData/Countries.csv'\n",
    "file_athletes = 'data/summerOly_athletes.csv'\n",
    "file_medals = 'ProcessedData/Medals.csv'\n",
    "file_programs = 'data/summerOly_programs.csv'\n",
    "\n",
    "df_countries = pd.read_csv(\n",
    "    file_countries,\n",
    "    encoding='utf-8',\n",
    "    encoding_errors='ignore'  # 忽略解码错误\n",
    ")\n",
    "print(df_countries)\n",
    "df_athletes = pd.read_csv(\n",
    "    file_athletes,\n",
    "    encoding='utf-8',\n",
    "    encoding_errors='ignore'  # 忽略解码错误\n",
    ")\n",
    "df_athletes.loc[df_athletes[\"NOC\"] == \"ROC\", \"NOC\"] = \"RUS\"\n",
    "df_athletes.loc[df_athletes[\"NOC\"] == \"LBN\", \"NOC\"] = \"LBI\"\n",
    "print(df_athletes)\n",
    "df_medals = pd.read_csv(\n",
    "    file_medals,\n",
    "    encoding='utf-8',\n",
    "    encoding_errors='ignore'  # 忽略解码错误\n",
    ")\n",
    "print(df_medals)\n",
    "df_programs = pd.read_csv(\n",
    "    file_programs,\n",
    "    encoding='utf-8',\n",
    "    encoding_errors='ignore'  # 忽略解码错误\n",
    ")\n",
    "print(df_programs)"
   ],
   "outputs": [
    {
     "name": "stdout",
     "output_type": "stream",
     "text": [
      "     Unnamed: 0  NOC                      Country_Name  \\\n",
      "0             0  AFG                       Afghanistan   \n",
      "1             1  AHO              Netherlands Antilles   \n",
      "2             2  AIN                               AIN   \n",
      "3             3  ALB                           Albania   \n",
      "4             4  ALG                           Algeria   \n",
      "..          ...  ...                               ...   \n",
      "229         229  SWZ                         Swaziland   \n",
      "230         230  TLS                       Timor Leste   \n",
      "231         231  VIN  Saint Vincent and the Grenadines   \n",
      "232         232  WIF            West Indies Federation   \n",
      "233         233  USA                     United States   \n",
      "\n",
      "                         Host_Years  \n",
      "0                               NaN  \n",
      "1                               NaN  \n",
      "2                               NaN  \n",
      "3                               NaN  \n",
      "4                               NaN  \n",
      "..                              ...  \n",
      "229                             NaN  \n",
      "230                             NaN  \n",
      "231                             NaN  \n",
      "232                             NaN  \n",
      "233  [1904, 1932, 1984, 1996, 2028]  \n",
      "\n",
      "[234 rows x 4 columns]\n",
      "                         Name Sex               Team  NOC  Year         City  \\\n",
      "0                   A Dijiang   M              China  CHN  1992    Barcelona   \n",
      "1                    A Lamusi   M              China  CHN  2012       London   \n",
      "2                 Gunnar Aaby   M            Denmark  DEN  1920    Antwerpen   \n",
      "3                 Edgar Aabye   M     Denmark/Sweden  DEN  1900        Paris   \n",
      "4       Cornelia (-strannood)   F        Netherlands  NED  1932  Los Angeles   \n",
      "...                       ...  ..                ...  ...   ...          ...   \n",
      "252560             Sefora Ada   F  Equatorial Guinea  GEQ  2024        Paris   \n",
      "252561        Emanuela Liuzzi   F              Italy  ITA  2024        Paris   \n",
      "252562           Isayah Boers   M        Netherlands  NED  2024        Paris   \n",
      "252563            Kevin Staut   M             France  FRA  2024        Paris   \n",
      "252564        Charlie Carvell   M      Great Britain  GBR  2024        Paris   \n",
      "\n",
      "             Sport                         Event     Medal  \n",
      "0       Basketball   Basketball Men's Basketball  No medal  \n",
      "1             Judo  Judo Men's Extra-Lightweight  No medal  \n",
      "2         Football       Football Men's Football  No medal  \n",
      "3       Tug-Of-War   Tug-Of-War Men's Tug-Of-War      Gold  \n",
      "4        Athletics  Athletics Women's 100 metres  No medal  \n",
      "...            ...                           ...       ...  \n",
      "252560   Athletics                  Women's 100m  No medal  \n",
      "252561   Wrestling        Women's Freestyle 50kg  No medal  \n",
      "252562   Athletics          4 x 400m Relay Mixed      Gold  \n",
      "252563  Equestrian                  Jumping Team    Bronze  \n",
      "252564   Athletics          Men's 4 x 400m Relay    Bronze  \n",
      "\n",
      "[252565 rows x 9 columns]\n",
      "      Rank  NOC  Gold  Silver  Bronze  Total  Year\n",
      "0        1  USA    11       7       2     20  1896\n",
      "1        2  GRE    10      18      19     47  1896\n",
      "2        3  GER     6       5       2     13  1896\n",
      "3        4  FRA     5       4       2     11  1896\n",
      "4        5  GBR     2       3       2      7  1896\n",
      "...    ...  ...   ...     ...     ...    ...   ...\n",
      "1424    84  PER     0       0       1      1  2024\n",
      "1425    84  QAT     0       0       1      1  2024\n",
      "1426    84  SGP     0       0       1      1  2024\n",
      "1427    84  SVK     0       0       1      1  2024\n",
      "1428    84  ZAM     0       0       1      1  2024\n",
      "\n",
      "[1429 rows x 7 columns]\n",
      "                Sport         Discipline               Code  \\\n",
      "0            Aquatics  Artistic Swimming                SWA   \n",
      "1            Aquatics             Diving                DIV   \n",
      "2            Aquatics  Marathon Swimming                OWS   \n",
      "3            Aquatics           Swimming                SWM   \n",
      "4            Aquatics         Water Polo                WPO   \n",
      "..                ...                ...                ...   \n",
      "69            Skating             Figure                FSK   \n",
      "70         Ice Hockey         Ice Hockey                IHO   \n",
      "71       Total events       Total events       Total events   \n",
      "72  Total disciplines  Total disciplines  Total disciplines   \n",
      "73       Total sports       Total sports       Total sports   \n",
      "\n",
      "   Sports Governing Body 1896 1900 1904  1906*  1908 1912  ...  1988 1992  \\\n",
      "0         World Aquatics    0    0    0      0     0    0  ...     2    2   \n",
      "1         World Aquatics    0    0    2      1     2    4  ...     4    4   \n",
      "2         World Aquatics    0    0    0      0     0    0  ...     0    0   \n",
      "3         World Aquatics    4    7    9      4     6    9  ...    31   31   \n",
      "4         World Aquatics    0    1    1      0     1    1  ...     1    1   \n",
      "..                   ...  ...  ...  ...    ...   ...  ...  ...   ...  ...   \n",
      "69                   ISU    0    0    0      0     4    0  ...   NaN  NaN   \n",
      "70                  IIHF    0    0    0      0     0    0  ...   NaN  NaN   \n",
      "71          Total events   43   97   95     76   110  102  ...   237  257   \n",
      "72     Total disciplines   10   22   18     13    25   18  ...    31   34   \n",
      "73          Total sports   11   20   16     11    22   14  ...    23   25   \n",
      "\n",
      "     1996   2000   2004   2008   2012   2016   2020   2024  \n",
      "0     1.0    2.0    2.0    2.0    2.0    2.0    2.0    2.0  \n",
      "1     4.0    8.0    8.0    8.0    8.0    8.0    8.0    8.0  \n",
      "2     0.0    0.0    0.0    2.0    2.0    2.0    2.0    2.0  \n",
      "3    32.0   32.0   32.0   32.0   32.0   32.0   35.0   35.0  \n",
      "4     1.0    2.0    2.0    2.0    2.0    2.0    2.0    2.0  \n",
      "..    ...    ...    ...    ...    ...    ...    ...    ...  \n",
      "69    NaN    NaN    NaN    NaN    NaN    NaN    NaN    NaN  \n",
      "70    NaN    NaN    NaN    NaN    NaN    NaN    NaN    NaN  \n",
      "71  271.0  300.0  301.0  302.0  302.0  306.0  339.0  329.0  \n",
      "72   37.0   40.0   40.0   42.0   40.0   42.0   50.0   48.0  \n",
      "73   25.0   27.0   27.0   27.0   26.0   28.0   33.0   32.0  \n",
      "\n",
      "[74 rows x 35 columns]\n"
     ]
    }
   ],
   "execution_count": 12
  },
  {
   "cell_type": "code",
   "id": "325acb25-e6b5-42f3-adb3-d41e2d8ac263",
   "metadata": {
    "ExecuteTime": {
     "end_time": "2025-01-25T13:14:51.270424Z",
     "start_time": "2025-01-25T13:14:50.600421Z"
    }
   },
   "source": [
    "# # 1. 按 NOC、Year 和 Sport 分组\n",
    "# grouped = df_athletes.groupby(['NOC', 'Year', 'Sport'])\n",
    "# print(grouped)\n",
    "\n",
    "# # 2. 统计每个组的参赛人数    TODO:考虑重名？\n",
    "# contestants = grouped[['Name', 'Sex']].nunique().reset_index()\n",
    "# contestants = contestants.rename(columns={'Name': 'Participants'})\n",
    "# print(contestants)\n",
    "\n",
    "# # 3. 统计男女比例\n",
    "# gender_ratio = grouped['Sex'].apply(lambda x: x['Name'].nunique()).unstack(fill_value=0).reset_index()\n",
    "# print(gender_ratio.columns)\n",
    "# gender_ratio.columns = ['NOC', 'Year', 'Sport', 'Female', 'Male']\n",
    "# print(gender_ratio)\n",
    "\n",
    "# 1. 按 NOC、Year 和 Sport 分组\n",
    "grouped = df_athletes.groupby(['NOC', 'Year', 'Sport'])\n",
    "print(grouped)\n",
    "\n",
    "# 2. 统计每个组的参赛人数（去重，考虑重名情况）\n",
    "df_unique = df_athletes.drop_duplicates(subset=['Name', 'NOC', 'Year', 'Sport'])\n",
    "contestants = df_unique.groupby(['NOC', 'Year', 'Sport'])[['Name', 'Sex']].nunique().reset_index()\n",
    "contestants = contestants.rename(columns={'Name': 'Participants'})\n",
    "print(contestants)\n",
    "\n",
    "# 3. 统计每个组的男女人数比\n",
    "gender_count = df_unique.groupby(['NOC', 'Year', 'Sport', 'Sex']).size().unstack(fill_value=0).reset_index()\n",
    "\n",
    "# 4. 合并参赛人数与男女人数数据\n",
    "gender_ratio = pd.merge(contestants, gender_count, on=['NOC', 'Year', 'Sport'], how='left')\n",
    "\n",
    "# 5. 给列命名并显示结果\n",
    "gender_ratio = gender_ratio[['NOC', 'Year', 'Sport', 'Participants', 'F', 'M']]\n",
    "gender_ratio.columns = ['NOC', 'Year', 'Sport', 'Participants', 'Female', 'Male']\n",
    "print(gender_ratio)\n",
    "\n",
    "# 4. 统计得奖情况，创建一个新的列，标记是否得奖\n",
    "df_athletes['Medal_Status'] = df_athletes['Medal'].apply(lambda x: 'No medal' if pd.isna(x) else x)\n",
    "print(df_athletes)\n",
    "\n",
    "# 统计金、银、铜和无奖的数量\n",
    "medals = df_athletes.groupby(['NOC', 'Year', 'Sport', 'Medal_Status']).size().unstack(fill_value=0).reset_index()\n",
    "print(medals)\n",
    "\n",
    "# 5. 将参赛人数、男女比和得奖情况合并成一个最终的 DataFrame\n",
    "summary = gender_ratio\n",
    "summary = pd.merge(summary, medals, on=['NOC', 'Year', 'Sport'], how='left')\n",
    "print(summary)\n",
    "\n",
    "# 6. 如果需要，对每个运动项目的得奖人数进行进一步处理\n",
    "summary['Gold'] = summary.get('Gold', 0)\n",
    "summary['Silver'] = summary.get('Silver', 0)\n",
    "summary['Bronze'] = summary.get('Bronze', 0)\n",
    "summary['No medal'] = summary.get('No medal', 0)\n",
    "\n",
    "# 显示最终汇总表\n",
    "print(summary)\n",
    "summary.to_csv(\"sports_summary.csv\")"
   ],
   "outputs": [
    {
     "name": "stdout",
     "output_type": "stream",
     "text": [
      "<pandas.core.groupby.generic.DataFrameGroupBy object at 0x000001C8D13E80A0>\n",
      "       NOC  Year      Sport  Participants  Sex\n",
      "0      AFG  1936  Athletics             2    1\n",
      "1      AFG  1936     Hockey            13    1\n",
      "2      AFG  1948   Football            10    1\n",
      "3      AFG  1948     Hockey            12    1\n",
      "4      AFG  1956     Hockey            12    1\n",
      "...    ...   ...        ...           ...  ...\n",
      "26224  ZIM  2020     Rowing             1    1\n",
      "26225  ZIM  2020   Swimming             2    2\n",
      "26226  ZIM  2024  Athletics             4    2\n",
      "26227  ZIM  2024     Rowing             1    1\n",
      "26228  ZIM  2024   Swimming             2    2\n",
      "\n",
      "[26229 rows x 5 columns]\n",
      "       NOC  Year      Sport  Participants  Female  Male\n",
      "0      AFG  1936  Athletics             2       0     2\n",
      "1      AFG  1936     Hockey            13       0    13\n",
      "2      AFG  1948   Football            10       0    10\n",
      "3      AFG  1948     Hockey            12       0    12\n",
      "4      AFG  1956     Hockey            12       0    12\n",
      "...    ...   ...        ...           ...     ...   ...\n",
      "26224  ZIM  2020     Rowing             1       0     1\n",
      "26225  ZIM  2020   Swimming             2       1     1\n",
      "26226  ZIM  2024  Athletics             4       1     3\n",
      "26227  ZIM  2024     Rowing             1       0     1\n",
      "26228  ZIM  2024   Swimming             2       1     1\n",
      "\n",
      "[26229 rows x 6 columns]\n",
      "                         Name Sex               Team  NOC  Year         City  \\\n",
      "0                   A Dijiang   M              China  CHN  1992    Barcelona   \n",
      "1                    A Lamusi   M              China  CHN  2012       London   \n",
      "2                 Gunnar Aaby   M            Denmark  DEN  1920    Antwerpen   \n",
      "3                 Edgar Aabye   M     Denmark/Sweden  DEN  1900        Paris   \n",
      "4       Cornelia (-strannood)   F        Netherlands  NED  1932  Los Angeles   \n",
      "...                       ...  ..                ...  ...   ...          ...   \n",
      "252560             Sefora Ada   F  Equatorial Guinea  GEQ  2024        Paris   \n",
      "252561        Emanuela Liuzzi   F              Italy  ITA  2024        Paris   \n",
      "252562           Isayah Boers   M        Netherlands  NED  2024        Paris   \n",
      "252563            Kevin Staut   M             France  FRA  2024        Paris   \n",
      "252564        Charlie Carvell   M      Great Britain  GBR  2024        Paris   \n",
      "\n",
      "             Sport                         Event     Medal Medal_Status  \n",
      "0       Basketball   Basketball Men's Basketball  No medal     No medal  \n",
      "1             Judo  Judo Men's Extra-Lightweight  No medal     No medal  \n",
      "2         Football       Football Men's Football  No medal     No medal  \n",
      "3       Tug-Of-War   Tug-Of-War Men's Tug-Of-War      Gold         Gold  \n",
      "4        Athletics  Athletics Women's 100 metres  No medal     No medal  \n",
      "...            ...                           ...       ...          ...  \n",
      "252560   Athletics                  Women's 100m  No medal     No medal  \n",
      "252561   Wrestling        Women's Freestyle 50kg  No medal     No medal  \n",
      "252562   Athletics          4 x 400m Relay Mixed      Gold         Gold  \n",
      "252563  Equestrian                  Jumping Team    Bronze       Bronze  \n",
      "252564   Athletics          Men's 4 x 400m Relay    Bronze       Bronze  \n",
      "\n",
      "[252565 rows x 10 columns]\n",
      "Medal_Status  NOC  Year      Sport  Bronze  Gold  No medal  Silver\n",
      "0             AFG  1936  Athletics       0     0         3       0\n",
      "1             AFG  1936     Hockey       0     0        13       0\n",
      "2             AFG  1948   Football       0     0        11       0\n",
      "3             AFG  1948     Hockey       0     0        14       0\n",
      "4             AFG  1956     Hockey       0     0        12       0\n",
      "...           ...   ...        ...     ...   ...       ...     ...\n",
      "26224         ZIM  2020     Rowing       0     0         1       0\n",
      "26225         ZIM  2020   Swimming       0     0         2       0\n",
      "26226         ZIM  2024  Athletics       0     0         4       0\n",
      "26227         ZIM  2024     Rowing       0     0         1       0\n",
      "26228         ZIM  2024   Swimming       0     0         2       0\n",
      "\n",
      "[26229 rows x 7 columns]\n",
      "       NOC  Year      Sport  Participants  Female  Male  Bronze  Gold  \\\n",
      "0      AFG  1936  Athletics             2       0     2       0     0   \n",
      "1      AFG  1936     Hockey            13       0    13       0     0   \n",
      "2      AFG  1948   Football            10       0    10       0     0   \n",
      "3      AFG  1948     Hockey            12       0    12       0     0   \n",
      "4      AFG  1956     Hockey            12       0    12       0     0   \n",
      "...    ...   ...        ...           ...     ...   ...     ...   ...   \n",
      "26224  ZIM  2020     Rowing             1       0     1       0     0   \n",
      "26225  ZIM  2020   Swimming             2       1     1       0     0   \n",
      "26226  ZIM  2024  Athletics             4       1     3       0     0   \n",
      "26227  ZIM  2024     Rowing             1       0     1       0     0   \n",
      "26228  ZIM  2024   Swimming             2       1     1       0     0   \n",
      "\n",
      "       No medal  Silver  \n",
      "0             3       0  \n",
      "1            13       0  \n",
      "2            11       0  \n",
      "3            14       0  \n",
      "4            12       0  \n",
      "...         ...     ...  \n",
      "26224         1       0  \n",
      "26225         2       0  \n",
      "26226         4       0  \n",
      "26227         1       0  \n",
      "26228         2       0  \n",
      "\n",
      "[26229 rows x 10 columns]\n",
      "       NOC  Year      Sport  Participants  Female  Male  Bronze  Gold  \\\n",
      "0      AFG  1936  Athletics             2       0     2       0     0   \n",
      "1      AFG  1936     Hockey            13       0    13       0     0   \n",
      "2      AFG  1948   Football            10       0    10       0     0   \n",
      "3      AFG  1948     Hockey            12       0    12       0     0   \n",
      "4      AFG  1956     Hockey            12       0    12       0     0   \n",
      "...    ...   ...        ...           ...     ...   ...     ...   ...   \n",
      "26224  ZIM  2020     Rowing             1       0     1       0     0   \n",
      "26225  ZIM  2020   Swimming             2       1     1       0     0   \n",
      "26226  ZIM  2024  Athletics             4       1     3       0     0   \n",
      "26227  ZIM  2024     Rowing             1       0     1       0     0   \n",
      "26228  ZIM  2024   Swimming             2       1     1       0     0   \n",
      "\n",
      "       No medal  Silver  \n",
      "0             3       0  \n",
      "1            13       0  \n",
      "2            11       0  \n",
      "3            14       0  \n",
      "4            12       0  \n",
      "...         ...     ...  \n",
      "26224         1       0  \n",
      "26225         2       0  \n",
      "26226         4       0  \n",
      "26227         1       0  \n",
      "26228         2       0  \n",
      "\n",
      "[26229 rows x 10 columns]\n"
     ]
    }
   ],
   "execution_count": 13
  },
  {
   "cell_type": "code",
   "id": "e149557e-29f3-4538-80f7-e1165551eb65",
   "metadata": {
    "ExecuteTime": {
     "end_time": "2025-01-25T13:14:51.285597Z",
     "start_time": "2025-01-25T13:14:51.272430Z"
    }
   },
   "source": [
    "print(summary.columns)"
   ],
   "outputs": [
    {
     "name": "stdout",
     "output_type": "stream",
     "text": [
      "Index(['NOC', 'Year', 'Sport', 'Participants', 'Female', 'Male', 'Bronze',\n",
      "       'Gold', 'No medal', 'Silver'],\n",
      "      dtype='object')\n"
     ]
    }
   ],
   "execution_count": 14
  },
  {
   "cell_type": "markdown",
   "id": "cce4097c-4136-4e71-868f-a658aa9c2720",
   "metadata": {},
   "source": [
    "### 模型评估（未使用历史数据作为特征）"
   ]
  },
  {
   "cell_type": "code",
   "id": "60299aa0-6862-493f-9e94-9a4bcf4669d8",
   "metadata": {
    "ExecuteTime": {
     "end_time": "2025-01-25T13:14:51.347949Z",
     "start_time": "2025-01-25T13:14:51.289110Z"
    }
   },
   "source": [
    "from sklearn.model_selection import train_test_split\n",
    "from sklearn.ensemble import RandomForestRegressor\n",
    "from sklearn.ensemble import GradientBoostingRegressor\n",
    "from sklearn.tree import DecisionTreeRegressor\n",
    "from sklearn.linear_model import LinearRegression\n",
    "import xgboost as xgb\n",
    "from sklearn.metrics import mean_absolute_error\n",
    "from sklearn.metrics import mean_squared_error"
   ],
   "outputs": [],
   "execution_count": 15
  },
  {
   "cell_type": "code",
   "id": "ad108927-fb43-433b-bb67-b5c8c3b118e6",
   "metadata": {
    "ExecuteTime": {
     "end_time": "2025-01-25T13:16:10.294566Z",
     "start_time": "2025-01-25T13:14:51.349952Z"
    }
   },
   "source": [
    "# 选择需要的特征列和目标列，TODO：添加上届参赛人员赛绩？\n",
    "X = summary[['NOC', 'Year', 'Sport', 'Participants', 'Female', 'Male']]\n",
    "y = summary['Gold']\n",
    "\n",
    "# 对类别变量进行编码，例如NOC和Sport\n",
    "X = pd.get_dummies(X, columns=['NOC', 'Sport'], drop_first=True)\n",
    "\n",
    "# 划分训练集和测试集\n",
    "X_train, X_test, y_train, y_test = train_test_split(X, y, test_size=0.2, random_state=42)\n",
    "\n",
    "# 线性回归\n",
    "model = LinearRegression()\n",
    "model.fit(X_train, y_train)\n",
    "y_pred = model.predict(X_test)\n",
    "\n",
    "mse = mean_squared_error(y_test, y_pred)\n",
    "print(f\"Mean Squared Error: {mse}\")\n",
    "\n",
    "# 随机森林回归\n",
    "rf_model = RandomForestRegressor(n_estimators=100, random_state=42)\n",
    "rf_model.fit(X_train, y_train)\n",
    "rf_y_pred = rf_model.predict(X_test)\n",
    "\n",
    "rf_mse = mean_squared_error(y_test, rf_y_pred)\n",
    "print(f'Random Forest Mean Squared Error: {rf_mse}')\n",
    "\n",
    "# 决策树\n",
    "dt_model = DecisionTreeRegressor(max_depth=None, min_samples_split=5, max_features=None, max_leaf_nodes=None,\n",
    "                                 random_state=42)\n",
    "dt_model.fit(X_train, y_train)\n",
    "dt_y_pred = dt_model.predict(X_test)\n",
    "\n",
    "dt_mse = mean_squared_error(y_test, dt_y_pred)\n",
    "print(f'Decision Tree Mean Squared Error: {dt_mse}')\n",
    "\n",
    "# 梯度回归提升\n",
    "gb_model = GradientBoostingRegressor(n_estimators=100, random_state=42)\n",
    "gb_model.fit(X_train, y_train)\n",
    "gb_y_pred = gb_model.predict(X_test)\n",
    "\n",
    "gb_mse = mean_squared_error(y_test, gb_y_pred)\n",
    "print(\"Gradient Boosting Mean Squared Error:\", gb_mse)\n",
    "\n",
    "# XBGBoost\n",
    "xgb_model = xgb.XGBRegressor(n_estimators=100, random_state=42)\n",
    "xgb_model.fit(X_train, y_train)\n",
    "xgb_y_pred = xgb_model.predict(X_test)\n",
    "\n",
    "xgb_mse = mean_squared_error(y_test, xgb_y_pred)\n",
    "print(\"XGBoost Mean Squared Error:\", xgb_mse)"
   ],
   "outputs": [
    {
     "name": "stdout",
     "output_type": "stream",
     "text": [
      "Mean Squared Error: 160.1035762825446\n",
      "Random Forest Mean Squared Error: 3.2816309950438423\n",
      "Decision Tree Mean Squared Error: 4.400482378108188\n",
      "Gradient Boosting Mean Squared Error: 3.6971943981621127\n",
      "XGBoost Mean Squared Error: 3.575558223718012\n"
     ]
    }
   ],
   "execution_count": 16
  },
  {
   "cell_type": "code",
   "id": "512fa4d2-d9b3-4618-844f-b92ef3f5828c",
   "metadata": {
    "ExecuteTime": {
     "end_time": "2025-01-25T13:19:00.493991Z",
     "start_time": "2025-01-25T13:16:10.298218Z"
    }
   },
   "source": [
    "# 同上，测银牌铜牌\n",
    "print(\"Silver:\")\n",
    "X = summary[['NOC', 'Year', 'Sport', 'Participants', 'Female', 'Male']]\n",
    "y = summary['Silver']\n",
    "\n",
    "# 对类别变量进行编码，例如NOC和Sport\n",
    "X = pd.get_dummies(X, columns=['NOC', 'Sport'], drop_first=True)\n",
    "\n",
    "# 划分训练集和测试集\n",
    "X_train, X_test, y_train, y_test = train_test_split(X, y, test_size=0.2, random_state=42)\n",
    "\n",
    "# 线性回归\n",
    "model = LinearRegression()\n",
    "model.fit(X_train, y_train)\n",
    "y_pred = model.predict(X_test)\n",
    "\n",
    "mse = mean_squared_error(y_test, y_pred)\n",
    "print(f\"Mean Squared Error: {mse}\")\n",
    "\n",
    "# 随机森林回归\n",
    "rf_model = RandomForestRegressor(n_estimators=100, random_state=42)\n",
    "rf_model.fit(X_train, y_train)\n",
    "rf_y_pred = rf_model.predict(X_test)\n",
    "\n",
    "rf_mse = mean_squared_error(y_test, rf_y_pred)\n",
    "print(f'Random Forest Mean Squared Error: {rf_mse}')\n",
    "\n",
    "# 决策树\n",
    "dt_model = DecisionTreeRegressor(max_depth=None, min_samples_split=5, max_features=None, max_leaf_nodes=None,\n",
    "                                 random_state=42)\n",
    "dt_model.fit(X_train, y_train)\n",
    "dt_y_pred = dt_model.predict(X_test)\n",
    "\n",
    "dt_mse = mean_squared_error(y_test, dt_y_pred)\n",
    "print(f'Decision Tree Mean Squared Error: {dt_mse}')\n",
    "\n",
    "# 梯度回归提升\n",
    "gb_model = GradientBoostingRegressor(n_estimators=100, random_state=42)\n",
    "gb_model.fit(X_train, y_train)\n",
    "gb_y_pred = gb_model.predict(X_test)\n",
    "\n",
    "gb_mse = mean_squared_error(y_test, gb_y_pred)\n",
    "print(\"Gradient Boosting Mean Squared Error:\", gb_mse)\n",
    "\n",
    "# XBGBoost\n",
    "xgb_model = xgb.XGBRegressor(n_estimators=100, random_state=42)\n",
    "xgb_model.fit(X_train, y_train)\n",
    "xgb_y_pred = xgb_model.predict(X_test)\n",
    "\n",
    "xgb_mse = mean_squared_error(y_test, xgb_y_pred)\n",
    "print(\"XGBoost Mean Squared Error:\", xgb_mse)\n",
    "\n",
    "print(\"Bronze:\")\n",
    "X = summary[['NOC', 'Year', 'Sport', 'Participants', 'Female', 'Male']]\n",
    "y = summary['Bronze']\n",
    "\n",
    "# 对类别变量进行编码，例如NOC和Sport\n",
    "X = pd.get_dummies(X, columns=['NOC', 'Sport'], drop_first=True)\n",
    "\n",
    "# 划分训练集和测试集\n",
    "X_train, X_test, y_train, y_test = train_test_split(X, y, test_size=0.2, random_state=42)\n",
    "\n",
    "# 线性回归\n",
    "model = LinearRegression()\n",
    "model.fit(X_train, y_train)\n",
    "y_pred = model.predict(X_test)\n",
    "\n",
    "mse = mean_squared_error(y_test, y_pred)\n",
    "print(f\"Mean Squared Error: {mse}\")\n",
    "\n",
    "# 随机森林回归\n",
    "rf_model = RandomForestRegressor(n_estimators=100, random_state=42)\n",
    "rf_model.fit(X_train, y_train)\n",
    "rf_y_pred = rf_model.predict(X_test)\n",
    "\n",
    "rf_mse = mean_squared_error(y_test, rf_y_pred)\n",
    "print(f'Random Forest Mean Squared Error: {rf_mse}')\n",
    "\n",
    "# 决策树\n",
    "dt_model = DecisionTreeRegressor(max_depth=None, min_samples_split=5, max_features=None, max_leaf_nodes=None,\n",
    "                                 random_state=42)\n",
    "dt_model.fit(X_train, y_train)\n",
    "dt_y_pred = dt_model.predict(X_test)\n",
    "\n",
    "dt_mse = mean_squared_error(y_test, dt_y_pred)\n",
    "print(f'Decision Tree Mean Squared Error: {dt_mse}')\n",
    "\n",
    "# 梯度回归提升\n",
    "gb_model = GradientBoostingRegressor(n_estimators=100, random_state=42)\n",
    "gb_model.fit(X_train, y_train)\n",
    "gb_y_pred = gb_model.predict(X_test)\n",
    "\n",
    "gb_mse = mean_squared_error(y_test, gb_y_pred)\n",
    "print(\"Gradient Boosting Mean Squared Error:\", gb_mse)\n",
    "\n",
    "# XBGBoost\n",
    "xgb_model = xgb.XGBRegressor(n_estimators=100, random_state=42)\n",
    "xgb_model.fit(X_train, y_train)\n",
    "xgb_y_pred = xgb_model.predict(X_test)\n",
    "\n",
    "xgb_mse = mean_squared_error(y_test, xgb_y_pred)\n",
    "print(\"XGBoost Mean Squared Error:\", xgb_mse)"
   ],
   "outputs": [
    {
     "name": "stdout",
     "output_type": "stream",
     "text": [
      "Silver:\n",
      "Mean Squared Error: 41.75824058250581\n",
      "Random Forest Mean Squared Error: 4.136943537933663\n",
      "Decision Tree Mean Squared Error: 5.7496002245096784\n",
      "Gradient Boosting Mean Squared Error: 3.8312704506368247\n",
      "XGBoost Mean Squared Error: 4.096944836475989\n",
      "Bronze:\n",
      "Mean Squared Error: 5.91871456487345\n",
      "Random Forest Mean Squared Error: 3.8591373046130384\n",
      "Decision Tree Mean Squared Error: 5.197629410767992\n",
      "Gradient Boosting Mean Squared Error: 3.562157643785668\n",
      "XGBoost Mean Squared Error: 3.888372831587583\n"
     ]
    }
   ],
   "execution_count": 17
  },
  {
   "cell_type": "code",
   "id": "878e0c47-726b-43d3-adeb-cd20558733f3",
   "metadata": {
    "ExecuteTime": {
     "end_time": "2025-01-25T13:19:11.518702Z",
     "start_time": "2025-01-25T13:19:00.495992Z"
    }
   },
   "source": [
    "# 假设延续24年的比赛项目：\n",
    "sports = summary[summary['Year'] == 2024][['NOC', 'Year', 'Sport']]\n",
    "sports['Year'] = 2025\n",
    "\n",
    "X = summary[['NOC', 'Year', 'Sport', 'Participants', 'Female', 'Male']]\n",
    "y = summary['Bronze']\n",
    "\n",
    "# 对类别变量进行编码，例如NOC和Sport\n",
    "X = pd.get_dummies(X, columns=['NOC', 'Sport'], drop_first=True)\n",
    "\n",
    "# 划分训练集和测试集\n",
    "X_train, X_test, y_train, y_test = train_test_split(X, y, test_size=0.2, random_state=42)\n",
    "\n",
    "gb_model = GradientBoostingRegressor(n_estimators=100, random_state=42)\n",
    "gb_model.fit(X_train, y_train)\n",
    "gb_y_pred = gb_model.predict(X_test)\n",
    "\n",
    "gb_mse = mean_squared_error(y_test, gb_y_pred)\n",
    "print(\"Gradient Boosting Mean Squared Error:\", gb_mse)"
   ],
   "outputs": [
    {
     "name": "stdout",
     "output_type": "stream",
     "text": [
      "Gradient Boosting Mean Squared Error: 3.562157643785668\n"
     ]
    }
   ],
   "execution_count": 18
  },
  {
   "cell_type": "markdown",
   "id": "782ae8d1-347c-4128-92ac-7a0f61eac9fb",
   "metadata": {},
   "source": [
    "### 模型评估（使用历史数据） 以预测24年为测试"
   ]
  },
  {
   "cell_type": "code",
   "id": "01adf436-6146-459b-8510-7e2e9ab20092",
   "metadata": {
    "ExecuteTime": {
     "end_time": "2025-01-25T13:19:11.768078Z",
     "start_time": "2025-01-25T13:19:11.520706Z"
    }
   },
   "source": [
    "summary['Past_Gold'] = summary.groupby(['NOC', 'Sport'])['Gold'].shift(1)\n",
    "summary['Past_Silver'] = summary.groupby(['NOC', 'Sport'])['Silver'].shift(1)\n",
    "summary['Past_Bronze'] = summary.groupby(['NOC', 'Sport'])['Bronze'].shift(1)\n",
    "summary['Past_Participants'] = summary.groupby(['NOC', 'Sport'])['Participants'].shift(1)\n",
    "summary['Past_Female'] = summary.groupby(['NOC', 'Sport'])['Female'].shift(1)\n",
    "summary['Past_Male'] = summary.groupby(['NOC', 'Sport'])['Male'].shift(1)\n",
    "summary = summary[~pd.isna(summary['Past_Gold'])]\n",
    "summary.to_csv(\"sports_summary.csv\")"
   ],
   "outputs": [],
   "execution_count": 19
  },
  {
   "metadata": {
    "ExecuteTime": {
     "end_time": "2025-01-25T13:19:11.784141Z",
     "start_time": "2025-01-25T13:19:11.770748Z"
    }
   },
   "cell_type": "code",
   "source": "print(summary.columns)",
   "id": "730103938a84ee92",
   "outputs": [
    {
     "name": "stdout",
     "output_type": "stream",
     "text": [
      "Index(['NOC', 'Year', 'Sport', 'Participants', 'Female', 'Male', 'Bronze',\n",
      "       'Gold', 'No medal', 'Silver', 'Past_Gold', 'Past_Silver', 'Past_Bronze',\n",
      "       'Past_Participants', 'Past_Female', 'Past_Male'],\n",
      "      dtype='object')\n"
     ]
    }
   ],
   "execution_count": 20
  },
  {
   "cell_type": "code",
   "id": "4de8e3ca-63af-4644-8dbf-41a4184366de",
   "metadata": {
    "ExecuteTime": {
     "end_time": "2025-01-25T13:22:56.172832Z",
     "start_time": "2025-01-25T13:19:11.791325Z"
    }
   },
   "source": [
    "# 对 'NOC' 和 'Sport' 进行 one-hot 编码，并在 train 和 test 上分别应用相同的列\n",
    "total_encoded = pd.get_dummies(summary, columns=['NOC', 'Sport'], drop_first=True)\n",
    "\n",
    "train = total_encoded[total_encoded['Year'] != 2024]\n",
    "test = total_encoded[total_encoded['Year'] == 2024]\n",
    "\n",
    "# 获取训练集的特征列\n",
    "X_train = train[['Year', 'Past_Gold', 'Past_Silver', 'Past_Bronze', 'Past_Participants', 'Past_Female', 'Past_Male']\n",
    "                + [col for col in total_encoded.columns if col.startswith('NOC_') or col.startswith('Sport_')]]\n",
    "# 获取训练集的标签（目标变量）\n",
    "y_train1 = train['Gold']\n",
    "y_train2 = train['Silver']\n",
    "y_train3 = train['Bronze']\n",
    "# 获取测试集的特征列\n",
    "X_test = test[['Year', 'Past_Gold', 'Past_Silver', 'Past_Bronze', 'Past_Participants', 'Past_Female', 'Past_Male']\n",
    "              + [col for col in total_encoded.columns if col.startswith('NOC_') or col.startswith('Sport_')]]\n",
    "y_test1 = test['Gold']\n",
    "y_test2 = test['Silver']\n",
    "y_test3 = test['Bronze']\n",
    "\n",
    "print(\"Gold\")\n",
    "# 线性回归\n",
    "model = LinearRegression()\n",
    "model.fit(X_train, y_train1)\n",
    "y_pred = model.predict(X_test)\n",
    "\n",
    "mse = mean_squared_error(y_test1, y_pred)\n",
    "print(f\"Mean Squared Error: {mse}\")\n",
    "\n",
    "# 随机森林回归\n",
    "rf_model = RandomForestRegressor(n_estimators=100, random_state=42)\n",
    "rf_model.fit(X_train, y_train1)\n",
    "rf_y_pred = rf_model.predict(X_test)\n",
    "\n",
    "rf_mse = mean_squared_error(y_test1, rf_y_pred)\n",
    "print(f'Random Forest Mean Squared Error: {rf_mse}')\n",
    "\n",
    "# 决策树\n",
    "dt_model = DecisionTreeRegressor(max_depth=None, min_samples_split=5, max_features=None, max_leaf_nodes=None,\n",
    "                                 random_state=42)\n",
    "dt_model.fit(X_train, y_train1)\n",
    "dt_y_pred = dt_model.predict(X_test)\n",
    "\n",
    "dt_mse = mean_squared_error(y_test1, dt_y_pred)\n",
    "print(f'Decision Tree Mean Squared Error: {dt_mse}')\n",
    "\n",
    "# 梯度回归提升\n",
    "gb_model = GradientBoostingRegressor(n_estimators=100, random_state=42)\n",
    "gb_model.fit(X_train, y_train1)\n",
    "gb_y_pred = gb_model.predict(X_test)\n",
    "\n",
    "gb_mse = mean_squared_error(y_test1, gb_y_pred)\n",
    "print(\"Gradient Boosting Mean Squared Error:\", gb_mse)\n",
    "\n",
    "# XBGBoost\n",
    "xgb_model = xgb.XGBRegressor(n_estimators=100, random_state=42)\n",
    "xgb_model.fit(X_train, y_train1)\n",
    "xgb_y_pred = xgb_model.predict(X_test)\n",
    "\n",
    "xgb_mse = mean_squared_error(y_test1, xgb_y_pred)\n",
    "print(\"XGBoost Mean Squared Error:\", xgb_mse)\n",
    "\n",
    "print(\"Silver\")\n",
    "# 线性回归\n",
    "model = LinearRegression()\n",
    "model.fit(X_train, y_train2)\n",
    "y_pred = model.predict(X_test)\n",
    "\n",
    "mse = mean_squared_error(y_test2, y_pred)\n",
    "print(f\"Mean Squared Error: {mse}\")\n",
    "\n",
    "# 随机森林回归\n",
    "rf_model = RandomForestRegressor(n_estimators=100, random_state=42)\n",
    "rf_model.fit(X_train, y_train2)\n",
    "rf_y_pred = rf_model.predict(X_test)\n",
    "\n",
    "rf_mse = mean_squared_error(y_test2, rf_y_pred)\n",
    "print(f'Random Forest Mean Squared Error: {rf_mse}')\n",
    "\n",
    "# 决策树\n",
    "dt_model = DecisionTreeRegressor(max_depth=None, min_samples_split=5, max_features=None, max_leaf_nodes=None,\n",
    "                                 random_state=42)\n",
    "dt_model.fit(X_train, y_train2)\n",
    "dt_y_pred = dt_model.predict(X_test)\n",
    "\n",
    "dt_mse = mean_squared_error(y_test2, dt_y_pred)\n",
    "print(f'Decision Tree Mean Squared Error: {dt_mse}')\n",
    "\n",
    "# 梯度回归提升\n",
    "gb_model = GradientBoostingRegressor(n_estimators=100, random_state=42)\n",
    "gb_model.fit(X_train, y_train2)\n",
    "gb_y_pred = gb_model.predict(X_test)\n",
    "\n",
    "gb_mse = mean_squared_error(y_test2, gb_y_pred)\n",
    "print(\"Gradient Boosting Mean Squared Error:\", gb_mse)\n",
    "\n",
    "# XBGBoost\n",
    "xgb_model = xgb.XGBRegressor(n_estimators=100, random_state=42)\n",
    "xgb_model.fit(X_train, y_train2)\n",
    "xgb_y_pred = xgb_model.predict(X_test)\n",
    "\n",
    "xgb_mse = mean_squared_error(y_test2, xgb_y_pred)\n",
    "print(\"XGBoost Mean Squared Error:\", xgb_mse)\n",
    "\n",
    "print(\"Bronze\")\n",
    "# 线性回归\n",
    "model = LinearRegression()\n",
    "model.fit(X_train, y_train3)\n",
    "y_pred = model.predict(X_test)\n",
    "\n",
    "mse = mean_squared_error(y_test3, y_pred)\n",
    "print(f\"Mean Squared Error: {mse}\")\n",
    "\n",
    "# 随机森林回归\n",
    "rf_model = RandomForestRegressor(n_estimators=100, random_state=42)\n",
    "rf_model.fit(X_train, y_train3)\n",
    "rf_y_pred = rf_model.predict(X_test)\n",
    "\n",
    "rf_mse = mean_squared_error(y_test3, rf_y_pred)\n",
    "print(f'Random Forest Mean Squared Error: {rf_mse}')\n",
    "\n",
    "# 决策树\n",
    "dt_model = DecisionTreeRegressor(max_depth=None, min_samples_split=5, max_features=None, max_leaf_nodes=None,\n",
    "                                 random_state=42)\n",
    "dt_model.fit(X_train, y_train3)\n",
    "dt_y_pred = dt_model.predict(X_test)\n",
    "\n",
    "dt_mse = mean_squared_error(y_test3, dt_y_pred)\n",
    "print(f'Decision Tree Mean Squared Error: {dt_mse}')\n",
    "\n",
    "# 梯度回归提升\n",
    "gb_model = GradientBoostingRegressor(n_estimators=100, random_state=42)\n",
    "gb_model.fit(X_train, y_train3)\n",
    "gb_y_pred = gb_model.predict(X_test)\n",
    "\n",
    "gb_mse = mean_squared_error(y_test3, gb_y_pred)\n",
    "print(\"Gradient Boosting Mean Squared Error:\", gb_mse)\n",
    "\n",
    "# XBGBoost\n",
    "xgb_model = xgb.XGBRegressor(n_estimators=100, random_state=42)\n",
    "xgb_model.fit(X_train, y_train3)\n",
    "xgb_y_pred = xgb_model.predict(X_test)\n",
    "\n",
    "xgb_mse = mean_squared_error(y_test3, xgb_y_pred)\n",
    "print(\"XGBoost Mean Squared Error:\", xgb_mse)"
   ],
   "outputs": [
    {
     "name": "stdout",
     "output_type": "stream",
     "text": [
      "Gold\n",
      "Mean Squared Error: 4.11919002007579e+16\n",
      "Random Forest Mean Squared Error: 2.7904401713979645\n",
      "Decision Tree Mean Squared Error: 4.9653000952210915\n",
      "Gradient Boosting Mean Squared Error: 2.7019807351205327\n",
      "XGBoost Mean Squared Error: 3.1721023967404762\n",
      "Silver\n",
      "Mean Squared Error: 1.489387899627988e+17\n",
      "Random Forest Mean Squared Error: 2.671715158007498\n",
      "Decision Tree Mean Squared Error: 3.867906772600131\n",
      "Gradient Boosting Mean Squared Error: 2.69235775173151\n",
      "XGBoost Mean Squared Error: 3.240314266157306\n",
      "Bronze\n",
      "Mean Squared Error: 3.1319224698474444e+16\n",
      "Random Forest Mean Squared Error: 2.94719282271023\n",
      "Decision Tree Mean Squared Error: 5.673417693269059\n",
      "Gradient Boosting Mean Squared Error: 2.7866209603141225\n",
      "XGBoost Mean Squared Error: 2.9956849152675025\n"
     ]
    }
   ],
   "execution_count": 21
  },
  {
   "cell_type": "markdown",
   "id": "d6d76b2d-31fe-4ed1-975c-24252b30c7bb",
   "metadata": {},
   "source": [
    "### 使用历史数据预测（使用随机森林）"
   ]
  },
  {
   "cell_type": "code",
   "id": "137e8c0a-e143-4f0a-9d8a-99d782877b05",
   "metadata": {
    "ExecuteTime": {
     "end_time": "2025-01-25T13:22:56.235328Z",
     "start_time": "2025-01-25T13:22:56.174834Z"
    }
   },
   "source": [
    "summary['Past_Gold'] = summary.groupby(['NOC', 'Sport'])['Gold'].shift(1)\n",
    "summary['Past_Silver'] = summary.groupby(['NOC', 'Sport'])['Silver'].shift(1)\n",
    "summary['Past_Bronze'] = summary.groupby(['NOC', 'Sport'])['Bronze'].shift(1)\n",
    "summary['Past_Participants'] = summary.groupby(['NOC', 'Sport'])['Participants'].shift(1)\n",
    "summary['Past_Female'] = summary.groupby(['NOC', 'Sport'])['Female'].shift(1)\n",
    "summary['Past_Male'] = summary.groupby(['NOC', 'Sport'])['Male'].shift(1)\n",
    "summary = summary[~pd.isna(summary['Past_Gold'])]"
   ],
   "outputs": [],
   "execution_count": 22
  },
  {
   "cell_type": "code",
   "id": "e6100ab9-fee1-49bd-b23e-51aa1b58e348",
   "metadata": {
    "ExecuteTime": {
     "end_time": "2025-01-25T13:22:56.358394Z",
     "start_time": "2025-01-25T13:22:56.236834Z"
    }
   },
   "source": [
    "summary.to_csv(\"sports_summary.csv\")"
   ],
   "outputs": [],
   "execution_count": 23
  },
  {
   "cell_type": "code",
   "id": "73f5adde-3628-4c39-b5c2-7a2a7ba73acc",
   "metadata": {
    "ExecuteTime": {
     "end_time": "2025-01-25T13:22:56.375067Z",
     "start_time": "2025-01-25T13:22:56.360202Z"
    }
   },
   "source": [
    "test = summary[summary['Year'] == 2024]\n",
    "test['Year'] = 2028\n",
    "test['Participants'] = 0\n",
    "test['Female'] = 0\n",
    "test['Male'] = 0\n",
    "test['Bronze'] = 0\n",
    "test['Gold'] = 0\n",
    "test['No medal'] = 0\n",
    "test['Silver'] = 0\n",
    "\n",
    "total = pd.concat([summary, test], axis=0, ignore_index=True)"
   ],
   "outputs": [
    {
     "name": "stderr",
     "output_type": "stream",
     "text": [
      "C:\\Users\\ZS\\AppData\\Local\\Temp\\ipykernel_13820\\2237228711.py:2: SettingWithCopyWarning: \n",
      "A value is trying to be set on a copy of a slice from a DataFrame.\n",
      "Try using .loc[row_indexer,col_indexer] = value instead\n",
      "\n",
      "See the caveats in the documentation: https://pandas.pydata.org/pandas-docs/stable/user_guide/indexing.html#returning-a-view-versus-a-copy\n",
      "  test['Year'] = 2028\n",
      "C:\\Users\\ZS\\AppData\\Local\\Temp\\ipykernel_13820\\2237228711.py:3: SettingWithCopyWarning: \n",
      "A value is trying to be set on a copy of a slice from a DataFrame.\n",
      "Try using .loc[row_indexer,col_indexer] = value instead\n",
      "\n",
      "See the caveats in the documentation: https://pandas.pydata.org/pandas-docs/stable/user_guide/indexing.html#returning-a-view-versus-a-copy\n",
      "  test['Participants'] = 0\n",
      "C:\\Users\\ZS\\AppData\\Local\\Temp\\ipykernel_13820\\2237228711.py:4: SettingWithCopyWarning: \n",
      "A value is trying to be set on a copy of a slice from a DataFrame.\n",
      "Try using .loc[row_indexer,col_indexer] = value instead\n",
      "\n",
      "See the caveats in the documentation: https://pandas.pydata.org/pandas-docs/stable/user_guide/indexing.html#returning-a-view-versus-a-copy\n",
      "  test['Female'] = 0\n",
      "C:\\Users\\ZS\\AppData\\Local\\Temp\\ipykernel_13820\\2237228711.py:5: SettingWithCopyWarning: \n",
      "A value is trying to be set on a copy of a slice from a DataFrame.\n",
      "Try using .loc[row_indexer,col_indexer] = value instead\n",
      "\n",
      "See the caveats in the documentation: https://pandas.pydata.org/pandas-docs/stable/user_guide/indexing.html#returning-a-view-versus-a-copy\n",
      "  test['Male'] = 0\n",
      "C:\\Users\\ZS\\AppData\\Local\\Temp\\ipykernel_13820\\2237228711.py:6: SettingWithCopyWarning: \n",
      "A value is trying to be set on a copy of a slice from a DataFrame.\n",
      "Try using .loc[row_indexer,col_indexer] = value instead\n",
      "\n",
      "See the caveats in the documentation: https://pandas.pydata.org/pandas-docs/stable/user_guide/indexing.html#returning-a-view-versus-a-copy\n",
      "  test['Bronze'] = 0\n",
      "C:\\Users\\ZS\\AppData\\Local\\Temp\\ipykernel_13820\\2237228711.py:7: SettingWithCopyWarning: \n",
      "A value is trying to be set on a copy of a slice from a DataFrame.\n",
      "Try using .loc[row_indexer,col_indexer] = value instead\n",
      "\n",
      "See the caveats in the documentation: https://pandas.pydata.org/pandas-docs/stable/user_guide/indexing.html#returning-a-view-versus-a-copy\n",
      "  test['Gold'] = 0\n",
      "C:\\Users\\ZS\\AppData\\Local\\Temp\\ipykernel_13820\\2237228711.py:8: SettingWithCopyWarning: \n",
      "A value is trying to be set on a copy of a slice from a DataFrame.\n",
      "Try using .loc[row_indexer,col_indexer] = value instead\n",
      "\n",
      "See the caveats in the documentation: https://pandas.pydata.org/pandas-docs/stable/user_guide/indexing.html#returning-a-view-versus-a-copy\n",
      "  test['No medal'] = 0\n",
      "C:\\Users\\ZS\\AppData\\Local\\Temp\\ipykernel_13820\\2237228711.py:9: SettingWithCopyWarning: \n",
      "A value is trying to be set on a copy of a slice from a DataFrame.\n",
      "Try using .loc[row_indexer,col_indexer] = value instead\n",
      "\n",
      "See the caveats in the documentation: https://pandas.pydata.org/pandas-docs/stable/user_guide/indexing.html#returning-a-view-versus-a-copy\n",
      "  test['Silver'] = 0\n"
     ]
    }
   ],
   "execution_count": 24
  },
  {
   "cell_type": "code",
   "id": "82c51e53-e2ef-4970-9b7e-4d9373939ad4",
   "metadata": {
    "ExecuteTime": {
     "end_time": "2025-01-25T13:25:10.959289Z",
     "start_time": "2025-01-25T13:22:56.376577Z"
    }
   },
   "source": [
    "# 对 'NOC' 和 'Sport' 进行 one-hot 编码，并在 train 和 test 上分别应用相同的列\n",
    "total_encoded = pd.get_dummies(total, columns=['NOC', 'Sport'], drop_first=True)\n",
    "\n",
    "train = total_encoded[total_encoded['Year'] != 2028]\n",
    "test = total_encoded[total_encoded['Year'] == 2028]\n",
    "\n",
    "# 获取训练集的特征列\n",
    "X_train = train[['Year', 'Past_Gold', 'Past_Silver', 'Past_Bronze', 'Past_Participants', 'Past_Female', 'Past_Male']\n",
    "                + [col for col in total_encoded.columns if col.startswith('NOC_') or col.startswith('Sport_')]]\n",
    "# 获取训练集的标签（目标变量）\n",
    "y_train1 = train['Gold']\n",
    "y_train2 = train['Silver']\n",
    "y_train3 = train['Bronze']\n",
    "# 获取测试集的特征列\n",
    "X_test = test[['Year', 'Past_Gold', 'Past_Silver', 'Past_Bronze', 'Past_Participants', 'Past_Female', 'Past_Male']\n",
    "              + [col for col in total_encoded.columns if col.startswith('NOC_') or col.startswith('Sport_')]]\n",
    "\n",
    "# 随机森林回归\n",
    "rf_model = RandomForestRegressor(n_estimators=100, random_state=42)\n",
    "rf_model.fit(X_train, y_train1)\n",
    "rf_y_pred1 = rf_model.predict(X_test)\n",
    "print(rf_y_pred1)\n",
    "rf_model = RandomForestRegressor(n_estimators=100, random_state=42)\n",
    "rf_model.fit(X_train, y_train2)\n",
    "rf_y_pred2 = rf_model.predict(X_test)\n",
    "print(rf_y_pred2)\n",
    "rf_model = RandomForestRegressor(n_estimators=100, random_state=42)\n",
    "rf_model.fit(X_train, y_train3)\n",
    "rf_y_pred3 = rf_model.predict(X_test)\n",
    "print(rf_y_pred3)"
   ],
   "outputs": [
    {
     "name": "stdout",
     "output_type": "stream",
     "text": [
      "[0.   0.   0.   ... 0.   0.   0.03]\n",
      "[0. 0. 0. ... 0. 0. 0.]\n",
      "[0. 0. 0. ... 0. 0. 0.]\n"
     ]
    }
   ],
   "execution_count": 25
  },
  {
   "cell_type": "code",
   "id": "aa4f496e-d483-4bd6-a4c3-7ffade889de3",
   "metadata": {
    "ExecuteTime": {
     "end_time": "2025-01-25T13:25:11.051661Z",
     "start_time": "2025-01-25T13:25:10.961292Z"
    }
   },
   "source": [
    "rf_y_pred1_df = pd.DataFrame(rf_y_pred1, columns=['Pred_Gold']).reset_index(drop=True)\n",
    "rf_y_pred2_df = pd.DataFrame(rf_y_pred2, columns=['Pred_Silver']).reset_index(drop=True)\n",
    "rf_y_pred3_df = pd.DataFrame(rf_y_pred3, columns=['Pred_Bronze']).reset_index(drop=True)\n",
    "X_test = X_test.reset_index(drop=True)\n",
    "X_test_with_predictions = pd.concat([X_test, rf_y_pred1_df, rf_y_pred2_df, rf_y_pred3_df], axis=1)\n",
    "X_test_with_predictions.to_csv(\"pred.csv\")"
   ],
   "outputs": [],
   "execution_count": 26
  },
  {
   "cell_type": "code",
   "id": "5b9fa7f5-ae0e-4846-a2bc-23cb3316b868",
   "metadata": {
    "ExecuteTime": {
     "end_time": "2025-01-25T13:25:12.877687Z",
     "start_time": "2025-01-25T13:25:11.053968Z"
    }
   },
   "source": [
    "# 将预测值转换为 DataFrame，命名为 'Predictions' 或其他适当的名称\n",
    "rf_y_pred_df = pd.DataFrame(rf_y_pred, columns=['Pred_Bronze', 'Pred_Gold', 'Pred_Silver']).reset_index(drop=True)"
   ],
   "outputs": [
    {
     "ename": "ValueError",
     "evalue": "Shape of passed values is (1867, 1), indices imply (1867, 3)",
     "output_type": "error",
     "traceback": [
      "\u001B[1;31m---------------------------------------------------------------------------\u001B[0m",
      "\u001B[1;31mValueError\u001B[0m                                Traceback (most recent call last)",
      "Cell \u001B[1;32mIn[27], line 2\u001B[0m\n\u001B[0;32m      1\u001B[0m \u001B[38;5;66;03m# 将预测值转换为 DataFrame，命名为 'Predictions' 或其他适当的名称\u001B[39;00m\n\u001B[1;32m----> 2\u001B[0m rf_y_pred_df \u001B[38;5;241m=\u001B[39m \u001B[43mpd\u001B[49m\u001B[38;5;241;43m.\u001B[39;49m\u001B[43mDataFrame\u001B[49m\u001B[43m(\u001B[49m\u001B[43mrf_y_pred\u001B[49m\u001B[43m,\u001B[49m\u001B[43m \u001B[49m\u001B[43mcolumns\u001B[49m\u001B[38;5;241;43m=\u001B[39;49m\u001B[43m[\u001B[49m\u001B[38;5;124;43m'\u001B[39;49m\u001B[38;5;124;43mPred_Bronze\u001B[39;49m\u001B[38;5;124;43m'\u001B[39;49m\u001B[43m,\u001B[49m\u001B[43m \u001B[49m\u001B[38;5;124;43m'\u001B[39;49m\u001B[38;5;124;43mPred_Gold\u001B[39;49m\u001B[38;5;124;43m'\u001B[39;49m\u001B[43m,\u001B[49m\u001B[43m \u001B[49m\u001B[38;5;124;43m'\u001B[39;49m\u001B[38;5;124;43mPred_Silver\u001B[39;49m\u001B[38;5;124;43m'\u001B[39;49m\u001B[43m]\u001B[49m\u001B[43m)\u001B[49m\u001B[38;5;241m.\u001B[39mreset_index(drop\u001B[38;5;241m=\u001B[39m\u001B[38;5;28;01mTrue\u001B[39;00m)\n",
      "File \u001B[1;32m~\\anaconda3\\envs\\2025MCM\\lib\\site-packages\\pandas\\core\\frame.py:827\u001B[0m, in \u001B[0;36mDataFrame.__init__\u001B[1;34m(self, data, index, columns, dtype, copy)\u001B[0m\n\u001B[0;32m    816\u001B[0m         mgr \u001B[38;5;241m=\u001B[39m dict_to_mgr(\n\u001B[0;32m    817\u001B[0m             \u001B[38;5;66;03m# error: Item \"ndarray\" of \"Union[ndarray, Series, Index]\" has no\u001B[39;00m\n\u001B[0;32m    818\u001B[0m             \u001B[38;5;66;03m# attribute \"name\"\u001B[39;00m\n\u001B[1;32m   (...)\u001B[0m\n\u001B[0;32m    824\u001B[0m             copy\u001B[38;5;241m=\u001B[39m_copy,\n\u001B[0;32m    825\u001B[0m         )\n\u001B[0;32m    826\u001B[0m     \u001B[38;5;28;01melse\u001B[39;00m:\n\u001B[1;32m--> 827\u001B[0m         mgr \u001B[38;5;241m=\u001B[39m \u001B[43mndarray_to_mgr\u001B[49m\u001B[43m(\u001B[49m\n\u001B[0;32m    828\u001B[0m \u001B[43m            \u001B[49m\u001B[43mdata\u001B[49m\u001B[43m,\u001B[49m\n\u001B[0;32m    829\u001B[0m \u001B[43m            \u001B[49m\u001B[43mindex\u001B[49m\u001B[43m,\u001B[49m\n\u001B[0;32m    830\u001B[0m \u001B[43m            \u001B[49m\u001B[43mcolumns\u001B[49m\u001B[43m,\u001B[49m\n\u001B[0;32m    831\u001B[0m \u001B[43m            \u001B[49m\u001B[43mdtype\u001B[49m\u001B[38;5;241;43m=\u001B[39;49m\u001B[43mdtype\u001B[49m\u001B[43m,\u001B[49m\n\u001B[0;32m    832\u001B[0m \u001B[43m            \u001B[49m\u001B[43mcopy\u001B[49m\u001B[38;5;241;43m=\u001B[39;49m\u001B[43mcopy\u001B[49m\u001B[43m,\u001B[49m\n\u001B[0;32m    833\u001B[0m \u001B[43m            \u001B[49m\u001B[43mtyp\u001B[49m\u001B[38;5;241;43m=\u001B[39;49m\u001B[43mmanager\u001B[49m\u001B[43m,\u001B[49m\n\u001B[0;32m    834\u001B[0m \u001B[43m        \u001B[49m\u001B[43m)\u001B[49m\n\u001B[0;32m    836\u001B[0m \u001B[38;5;66;03m# For data is list-like, or Iterable (will consume into list)\u001B[39;00m\n\u001B[0;32m    837\u001B[0m \u001B[38;5;28;01melif\u001B[39;00m is_list_like(data):\n",
      "File \u001B[1;32m~\\anaconda3\\envs\\2025MCM\\lib\\site-packages\\pandas\\core\\internals\\construction.py:336\u001B[0m, in \u001B[0;36mndarray_to_mgr\u001B[1;34m(values, index, columns, dtype, copy, typ)\u001B[0m\n\u001B[0;32m    331\u001B[0m \u001B[38;5;66;03m# _prep_ndarraylike ensures that values.ndim == 2 at this point\u001B[39;00m\n\u001B[0;32m    332\u001B[0m index, columns \u001B[38;5;241m=\u001B[39m _get_axes(\n\u001B[0;32m    333\u001B[0m     values\u001B[38;5;241m.\u001B[39mshape[\u001B[38;5;241m0\u001B[39m], values\u001B[38;5;241m.\u001B[39mshape[\u001B[38;5;241m1\u001B[39m], index\u001B[38;5;241m=\u001B[39mindex, columns\u001B[38;5;241m=\u001B[39mcolumns\n\u001B[0;32m    334\u001B[0m )\n\u001B[1;32m--> 336\u001B[0m \u001B[43m_check_values_indices_shape_match\u001B[49m\u001B[43m(\u001B[49m\u001B[43mvalues\u001B[49m\u001B[43m,\u001B[49m\u001B[43m \u001B[49m\u001B[43mindex\u001B[49m\u001B[43m,\u001B[49m\u001B[43m \u001B[49m\u001B[43mcolumns\u001B[49m\u001B[43m)\u001B[49m\n\u001B[0;32m    338\u001B[0m \u001B[38;5;28;01mif\u001B[39;00m typ \u001B[38;5;241m==\u001B[39m \u001B[38;5;124m\"\u001B[39m\u001B[38;5;124marray\u001B[39m\u001B[38;5;124m\"\u001B[39m:\n\u001B[0;32m    339\u001B[0m     \u001B[38;5;28;01mif\u001B[39;00m \u001B[38;5;28missubclass\u001B[39m(values\u001B[38;5;241m.\u001B[39mdtype\u001B[38;5;241m.\u001B[39mtype, \u001B[38;5;28mstr\u001B[39m):\n",
      "File \u001B[1;32m~\\anaconda3\\envs\\2025MCM\\lib\\site-packages\\pandas\\core\\internals\\construction.py:420\u001B[0m, in \u001B[0;36m_check_values_indices_shape_match\u001B[1;34m(values, index, columns)\u001B[0m\n\u001B[0;32m    418\u001B[0m passed \u001B[38;5;241m=\u001B[39m values\u001B[38;5;241m.\u001B[39mshape\n\u001B[0;32m    419\u001B[0m implied \u001B[38;5;241m=\u001B[39m (\u001B[38;5;28mlen\u001B[39m(index), \u001B[38;5;28mlen\u001B[39m(columns))\n\u001B[1;32m--> 420\u001B[0m \u001B[38;5;28;01mraise\u001B[39;00m \u001B[38;5;167;01mValueError\u001B[39;00m(\u001B[38;5;124mf\u001B[39m\u001B[38;5;124m\"\u001B[39m\u001B[38;5;124mShape of passed values is \u001B[39m\u001B[38;5;132;01m{\u001B[39;00mpassed\u001B[38;5;132;01m}\u001B[39;00m\u001B[38;5;124m, indices imply \u001B[39m\u001B[38;5;132;01m{\u001B[39;00mimplied\u001B[38;5;132;01m}\u001B[39;00m\u001B[38;5;124m\"\u001B[39m)\n",
      "\u001B[1;31mValueError\u001B[0m: Shape of passed values is (1867, 1), indices imply (1867, 3)"
     ]
    }
   ],
   "execution_count": 27
  },
  {
   "cell_type": "code",
   "id": "7f608ec5-d4cc-4c51-a1da-bd8fe69bc897",
   "metadata": {
    "ExecuteTime": {
     "end_time": "2025-01-25T13:25:12.880200Z",
     "start_time": "2025-01-25T13:25:12.879198Z"
    }
   },
   "source": [
    "# 将预测值与 X_test 合并\n",
    "X_test = X_test.reset_index(drop=True)\n",
    "X_test_with_predictions = pd.concat([X_test, rf_y_pred_df], axis=1)"
   ],
   "outputs": [],
   "execution_count": null
  },
  {
   "cell_type": "code",
   "id": "d53c58b6-351e-4d73-8a9c-f7cf4e889547",
   "metadata": {
    "ExecuteTime": {
     "end_time": "2025-01-25T13:25:12.882205Z",
     "start_time": "2025-01-25T13:25:12.882205Z"
    }
   },
   "source": [
    "X_test_with_predictions.to_csv(\"pred.csv\")"
   ],
   "outputs": [],
   "execution_count": null
  },
  {
   "cell_type": "code",
   "id": "0a5b81c1-bee4-4a85-acad-e0c030096ab3",
   "metadata": {
    "ExecuteTime": {
     "end_time": "2025-01-25T13:25:12.884308Z",
     "start_time": "2025-01-25T13:25:12.883301Z"
    }
   },
   "source": [
    "X_test_with_predictions['Pred_Bronze'] = rf_y_pred_df['Pred_Bronze']"
   ],
   "outputs": [],
   "execution_count": null
  },
  {
   "metadata": {},
   "cell_type": "markdown",
   "source": "### 使用历史数据预测（使用随机森林）",
   "id": "4f4d2ddaaf819ed"
  },
  {
   "metadata": {
    "ExecuteTime": {
     "end_time": "2025-01-25T13:25:12.885350Z",
     "start_time": "2025-01-25T13:25:12.885350Z"
    }
   },
   "cell_type": "code",
   "source": [
    "# 创建特征\n",
    "summary['Past_Gold'] = summary.groupby(['NOC', 'Sport'])['Gold'].shift(1)\n",
    "summary['Past_Silver'] = summary.groupby(['NOC', 'Sport'])['Silver'].shift(1)\n",
    "summary['Past_Bronze'] = summary.groupby(['NOC', 'Sport'])['Bronze'].shift(1)\n",
    "summary['Total'] = 0\n",
    "summary['Past_Total'] = summary['Past_Gold'] + summary['Past_Silver'] + summary['Past_Bronze']\n",
    "summary['Gold_Ratio'] = summary['Past_Gold'] / (summary['Past_Total'] + 1e-6)  # 防止除零\n",
    "summary['Silver_Ratio'] = summary['Past_Silver'] / (summary['Past_Total'] + 1e-6)\n",
    "summary['Bronze_Ratio'] = summary['Past_Bronze'] / (summary['Past_Total'] + 1e-6)"
   ],
   "id": "813cb5ff42377f21",
   "outputs": [],
   "execution_count": null
  },
  {
   "metadata": {},
   "cell_type": "code",
   "source": "print(summary.columns)",
   "id": "9ecdc1c14dd8ee95",
   "outputs": [],
   "execution_count": null
  },
  {
   "metadata": {},
   "cell_type": "code",
   "source": [
    "# 最终特征集\n",
    "X = summary[[\n",
    "    'Gold', 'Silver', 'Bronze',  # 当前表现\n",
    "    'Past_Gold', 'Past_Silver', 'Past_Bronze', 'Past_Total',  # 历史表现\n",
    "    'Gold_Ratio', 'Silver_Ratio', 'Bronze_Ratio',  # 奖牌比例\n",
    "    # 'Events_Count', 'Sports_Count',  # 参赛规模\n",
    "    # 'isHoster',  # 主办国效应\n",
    "    'Year'  # 时间趋势\n",
    "]]\n",
    "\n",
    "# 目标变量（根据需求切换）\n",
    "y_total = summary['Total']  # 奖牌总数\n",
    "y_gold = summary['Gold']  # 金牌\n",
    "y_silver = summary['Silver']  # 银牌\n",
    "y_bronze = summary['Bronze']  # 铜牌"
   ],
   "id": "83be4b2cf52678bd",
   "outputs": [],
   "execution_count": null
  },
  {
   "metadata": {},
   "cell_type": "code",
   "source": [
    "from sklearn.ensemble import GradientBoostingRegressor\n",
    "from sklearn.model_selection import train_test_split\n",
    "\n",
    "# 数据分割\n",
    "X_train, X_test, y_train_total, y_test_total = train_test_split(X, y_total, test_size=0.2, random_state=42)\n",
    "\n",
    "# 模型初始化\n",
    "gbr_total = GradientBoostingRegressor(\n",
    "    random_state=42,\n",
    "    max_depth=2,\n",
    "    min_samples_split=12,\n",
    "    n_estimators=1549,\n",
    "    learning_rate=0.072,\n",
    "    min_samples_leaf=2\n",
    ")\n",
    "\n",
    "# 训练模型（预测总奖牌）\n",
    "gbr_total.fit(X_train, y_train_total)\n",
    "\n",
    "# 测试模型\n",
    "y_pred_total = gbr_total.predict(X_test)\n",
    "print(\"Total Medal Prediction Complete.\")\n"
   ],
   "id": "222e7ca9c7f1036b",
   "outputs": [],
   "execution_count": null
  },
  {
   "metadata": {},
   "cell_type": "code",
   "source": [
    "from sklearn.multioutput import MultiOutputRegressor\n",
    "\n",
    "# 定义多目标变量\n",
    "y_multi = summary[['Gold', 'Silver', 'Bronze', 'Total']]\n",
    "\n",
    "# 数据分割\n",
    "X_train, X_test, y_train_multi, y_test_multi = train_test_split(X, y_multi, test_size=0.2, random_state=42)\n",
    "\n",
    "# 初始化多目标模型\n",
    "multi_target_model = MultiOutputRegressor(GradientBoostingRegressor(\n",
    "    random_state=42,\n",
    "    max_depth=2,\n",
    "    min_samples_split=12,\n",
    "    n_estimators=1549,\n",
    "    learning_rate=0.072,\n",
    "    min_samples_leaf=2\n",
    "))\n",
    "\n",
    "# 训练多目标模型\n",
    "multi_target_model.fit(X_train, y_train_multi)\n",
    "\n",
    "# 测试多目标模型\n",
    "y_pred_multi = multi_target_model.predict(X_test)\n",
    "print(\"Multi-output Prediction Complete.\")\n"
   ],
   "id": "13882de9b62201d",
   "outputs": [],
   "execution_count": null
  },
  {
   "metadata": {},
   "cell_type": "code",
   "source": [
    "from sklearn.metrics import mean_squared_error, r2_score\n",
    "\n",
    "# 评估单目标模型\n",
    "mse_total = mean_squared_error(y_test_total, y_pred_total)\n",
    "r2_total = r2_score(y_test_total, y_pred_total)\n",
    "print(f\"Total Medals - MSE: {mse_total}, R2: {r2_total}\")\n",
    "\n",
    "# 评估多目标模型\n",
    "for i, medal_type in enumerate(['Gold', 'Silver', 'Bronze', 'Total']):\n",
    "    mse = mean_squared_error(y_test_multi.iloc[:, i], y_pred_multi[:, i])\n",
    "    r2 = r2_score(y_test_multi.iloc[:, i], y_pred_multi[:, i])\n",
    "    print(f\"{medal_type} - MSE: {mse}, R2: {r2}\")\n"
   ],
   "id": "43120cfe9b0187be",
   "outputs": [],
   "execution_count": null
  },
  {
   "metadata": {},
   "cell_type": "code",
   "source": [
    "import matplotlib.pyplot as plt\n",
    "\n",
    "for i, target in enumerate(['Gold', 'Silver', 'Bronze', 'Total']):\n",
    "    plt.figure(figsize=(8, 5))\n",
    "    plt.scatter(y_test_multi.iloc[:, i], y_pred_multi[:, i], alpha=0.7)\n",
    "    plt.plot([y_test_multi.iloc[:, i].min(), y_test_multi.iloc[:, i].max()],\n",
    "             [y_test_multi.iloc[:, i].min(), y_test_multi.iloc[:, i].max()],\n",
    "             color='red', linestyle='--')\n",
    "    plt.title(f\"{target} Prediction vs Actual\")\n",
    "    plt.xlabel(\"Actual Values\")\n",
    "    plt.ylabel(\"Predicted Values\")\n",
    "    plt.grid()\n",
    "    plt.show()\n"
   ],
   "id": "71779b6bc94a743b",
   "outputs": [],
   "execution_count": null
  }
 ],
 "metadata": {
  "kernelspec": {
   "display_name": "Python 3 (ipykernel)",
   "language": "python",
   "name": "python3"
  },
  "language_info": {
   "codemirror_mode": {
    "name": "ipython",
    "version": 3
   },
   "file_extension": ".py",
   "mimetype": "text/x-python",
   "name": "python",
   "nbconvert_exporter": "python",
   "pygments_lexer": "ipython3",
   "version": "3.11.7"
  }
 },
 "nbformat": 4,
 "nbformat_minor": 5
}
