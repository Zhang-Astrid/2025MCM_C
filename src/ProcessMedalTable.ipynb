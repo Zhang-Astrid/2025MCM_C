{
 "cells": [
  {
   "cell_type": "code",
   "execution_count": 30,
   "id": "initial_id",
   "metadata": {
    "ExecuteTime": {
     "end_time": "2025-01-24T02:49:02.725092Z",
     "start_time": "2025-01-24T02:49:02.709798Z"
    }
   },
   "outputs": [],
   "source": [
    "import pandas as pd\n",
    "import numpy as np"
   ]
  },
  {
   "cell_type": "code",
   "execution_count": 31,
   "id": "7afee5ab21550927",
   "metadata": {
    "ExecuteTime": {
     "end_time": "2025-01-24T02:49:02.740764Z",
     "start_time": "2025-01-24T02:49:02.728391Z"
    }
   },
   "outputs": [
    {
     "name": "stdout",
     "output_type": "stream",
     "text": [
      "['.ipynb_checkpoints', 'data', 'Medals.csv', 'Medals11.csv', 'ProcessMedalTable.ipynb', 'Untitled.ipynb']\n"
     ]
    }
   ],
   "source": [
    "import os\n",
    "print(os.listdir('.'))"
   ]
  },
  {
   "cell_type": "code",
   "execution_count": 32,
   "id": "6aefb096-ee0a-45c9-9bf4-a7555d66fef3",
   "metadata": {},
   "outputs": [],
   "source": [
    "medals = df_summerOly_medal_counts.copy(deep=True)"
   ]
  },
  {
   "cell_type": "code",
   "execution_count": 33,
   "id": "7d7a5d7f-1ed7-4f06-a846-877aaec09274",
   "metadata": {},
   "outputs": [
    {
     "name": "stdout",
     "output_type": "stream",
     "text": [
      "     NOC                      Country_Name Host_Years\n",
      "0    AFG                       Afghanistan        NaN\n",
      "1    AHO              Netherlands Antilles        NaN\n",
      "2    AIN                               AIN        NaN\n",
      "3    ALB                           Albania        NaN\n",
      "4    ALG                           Algeria        NaN\n",
      "..   ...                               ...        ...\n",
      "229  STP             Sao Tome and Principe        NaN\n",
      "230  SWZ                         Swaziland        NaN\n",
      "231  TLS                       Timor Leste        NaN\n",
      "232  VIN  Saint Vincent and the Grenadines        NaN\n",
      "233  WIF            West Indies Federation        NaN\n",
      "\n",
      "[234 rows x 3 columns]\n"
     ]
    }
   ],
   "source": [
    "# - `NOC`（国家代码，外键）\n",
    "# - `Year`（奥运年份）\n",
    "# - `Gold`（金牌数）\n",
    "# - `Silver`（银牌数）\n",
    "# - `Bronze`（铜牌数）\n",
    "# - `Total`（总奖牌数）\n",
    "# - `Rank`（排名）\n",
    "\n",
    "file_countries = 'data/Countries.csv'\n",
    "countries = pd.read_csv(\n",
    "    file_countries,\n",
    "    encoding='utf-8',\n",
    "    index_col= 0,\n",
    "    encoding_errors='ignore'  # 忽略解码错误\n",
    ")\n",
    "print(countries)\n",
    "\n",
    "medals = df_summerOly_medal_counts.copy(deep=True)"
   ]
  },
  {
   "cell_type": "code",
   "execution_count": 34,
   "id": "70da5f8f-5050-4920-802f-92da4775838b",
   "metadata": {},
   "outputs": [],
   "source": [
    "for i in range(len(medals)):\n",
    "    coun = medals.loc[i][\"NOC\"].strip()\n",
    "    # print(coun)\n",
    "    result = countries[countries[\"Country_Name\"]==coun].reset_index(drop=True)\n",
    "    # print(result)\n",
    "    if not result.empty:\n",
    "        noc = result[\"NOC\"].to_string(index=False)\n",
    "        medals.loc[i,\"NOC\"] = noc\n",
    "        # print(f\"{coun} - {noc}\")"
   ]
  },
  {
   "cell_type": "code",
   "execution_count": 45,
   "id": "c43d5c2d-d5c9-49ff-a239-61cb8d0f0f3f",
   "metadata": {},
   "outputs": [],
   "source": [
    "medals = medals[medals[\"NOC\"] != \"Mixed team\"]\n",
    "medals = medals[medals[\"NOC\"] != \"Independent Olympic Athletes\"]\n",
    "medals = medals[medals[\"NOC\"] != \"Independent Olympic Participants\"]\n",
    "medals.loc[medals[\"NOC\"] == \"Russian Empire\", \"NOC\"] = \"RUS\"\n",
    "medals.loc[medals[\"NOC\"].str.startswith(\"ROC\"), \"NOC\"] = \"RUS\"\n",
    "medals.loc[medals[\"NOC\"].str.startswith(\"LBN\"), \"NOC\"] = \"LBN\"\n",
    "medals.loc[medals[\"NOC\"].str.startswith(\"United Team of Germany\"), \"NOC\"] = \"GER\"\n",
    "medals.loc[medals[\"NOC\"].str.startswith(\"North Macedonia\"), \"NOC\"] = \"MKD\"\n",
    "medals.loc[medals[\"NOC\"] == \"Taiwan\", \"NOC\"] = \"TPE\"\n",
    "medals.loc[medals[\"NOC\"] == \"FR Yugoslavia\", \"NOC\"] = \"YUG\"\n",
    "medals.loc[medals[\"NOC\"].str.startswith(\"Formosa\"), \"NOC\"] = \"TPE\"\n",
    "medals.loc[medals[\"NOC\"] == \"Ceylon\", \"NOC\"] = \"SRI\""
   ]
  },
  {
   "cell_type": "code",
   "execution_count": 49,
   "id": "f88c7d16-537b-4544-a063-fb32c91d911c",
   "metadata": {},
   "outputs": [],
   "source": [
    "medals.to_csv('Medals.csv', index=False)"
   ]
  },
  {
   "cell_type": "code",
   "execution_count": null,
   "id": "7cd2d7e9-768b-4926-bcdf-83689af040e7",
   "metadata": {},
   "outputs": [],
   "source": [
    "#手动合并：British West Indies-->Great Britain"
   ]
  }
 ],
 "metadata": {
  "kernelspec": {
   "display_name": "Python 3 (ipykernel)",
   "language": "python",
   "name": "python3"
  },
  "language_info": {
   "codemirror_mode": {
    "name": "ipython",
    "version": 3
   },
   "file_extension": ".py",
   "mimetype": "text/x-python",
   "name": "python",
   "nbconvert_exporter": "python",
   "pygments_lexer": "ipython3",
   "version": "3.11.7"
  }
 },
 "nbformat": 4,
 "nbformat_minor": 5
}
