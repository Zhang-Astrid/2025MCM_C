{
 "cells": [
  {
   "cell_type": "code",
   "execution_count": null,
   "id": "initial_id",
   "metadata": {
    "collapsed": true
   },
   "outputs": [],
   "source": [
    "import pandas as pd\n",
    "import numpy as np"
   ]
  },
  {
   "metadata": {},
   "cell_type": "code",
   "outputs": [],
   "execution_count": null,
   "source": [
    "# 定义相对路径\n",
    "file_data_dictionary = 'data/data_dictionary.csv'\n",
    "file_summerOly_athletes = 'data/summerOly_athletes.csv'\n",
    "file_summerOly_hosts = 'data/summerOly_hosts.csv'\n",
    "file_summerOly_medal_counts = 'data/summerOly_medal_counts.csv'\n",
    "file_summerOly_programs = 'data/summerOly_programs.csv'\n",
    "\n",
    "# 读取表格\n",
    "df_data_dictionary = pd.read_csv(\n",
    "    file_data_dictionary,\n",
    "    encoding='utf-8',\n",
    "    encoding_errors='ignore'  # 忽略解码错误\n",
    ")\n",
    "\n",
    "df_summerOly_athletes = pd.read_csv(\n",
    "    file_summerOly_athletes,\n",
    "    encoding='utf-8',\n",
    "    encoding_errors='ignore'  # 忽略解码错误\n",
    ")\n",
    "# 筛选并修改 'NOC' 列中 LBA 为 LBI\n",
    "df_summerOly_athletes.loc[df_summerOly_athletes['NOC'] == 'LBA', 'NOC'] = 'LBI'\n",
    "# 筛选并修改 'NOC' 列中 ROC 为 RUS\n",
    "df_summerOly_athletes.loc[df_summerOly_athletes['NOC'] == 'ROC', 'NOC'] = 'RUS'\n",
    "# 创建映射字典\n",
    "replacement_map = {\n",
    "    'North Macedonia': 'Macedonia',\n",
    "    'Taiwan': 'Chinese Taipei',\n",
    "    'FR Yugoslavia': 'Yugoslavia',\n",
    "    'Formosa': 'Chinese Taipei',\n",
    "    'Ceylon': 'Sri Lanka',\n",
    "    'British West Indies': 'Great Britain'\n",
    "}\n",
    "# 使用 replace 方法替换\n",
    "df_summerOly_athletes['Team'] = df_summerOly_athletes['Team'].replace(replacement_map)\n",
    "\n",
    "\n",
    "df_summerOly_hosts = pd.read_csv(\n",
    "    file_summerOly_hosts,\n",
    "    encoding='utf-8',\n",
    "    encoding_errors='ignore'  # 忽略解码错误\n",
    ")\n",
    "\n",
    "df_summerOly_medal_counts = pd.read_csv(\n",
    "    file_summerOly_medal_counts,\n",
    "    encoding='utf-8',\n",
    "    encoding_errors='ignore'  # 忽略解码错误\n",
    ")\n",
    "df_summerOly_medal_counts['NOC'] = df_summerOly_medal_counts['NOC'].replace(replacement_map)\n",
    "\n",
    "\n",
    "df_summerOly_programs = pd.read_csv(\n",
    "    file_summerOly_programs,\n",
    "    encoding='utf-8',\n",
    "    encoding_errors='ignore'  # 忽略解码错误\n",
    ")"
   ],
   "id": "2012c158720d6b80"
  },
  {
   "metadata": {},
   "cell_type": "code",
   "outputs": [],
   "execution_count": null,
   "source": "",
   "id": "2071dc480cbeac9"
  }
 ],
 "metadata": {
  "kernelspec": {
   "display_name": "Python 3",
   "language": "python",
   "name": "python3"
  },
  "language_info": {
   "codemirror_mode": {
    "name": "ipython",
    "version": 2
   },
   "file_extension": ".py",
   "mimetype": "text/x-python",
   "name": "python",
   "nbconvert_exporter": "python",
   "pygments_lexer": "ipython2",
   "version": "2.7.6"
  }
 },
 "nbformat": 4,
 "nbformat_minor": 5
}
