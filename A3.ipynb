{
 "cells": [
  {
   "cell_type": "markdown",
   "id": "c268e00b-e42e-4c4e-ac42-36bca7956baf",
   "metadata": {},
   "source": [
    "### 数据处理"
   ]
  },
  {
   "cell_type": "code",
   "execution_count": 55,
   "id": "251d8621-ee11-477b-a30b-19ff4531b4e3",
   "metadata": {},
   "outputs": [],
   "source": [
    "import pandas as pd\n",
    "import numpy as np"
   ]
  },
  {
   "cell_type": "code",
   "execution_count": 57,
   "id": "d45c6c49-b97b-45c6-be7c-cefab4a58d97",
   "metadata": {},
   "outputs": [
    {
     "name": "stdout",
     "output_type": "stream",
     "text": [
      "     Unnamed: 0  NOC                      Country_Name          Host_Years\n",
      "0             0  AFG                       Afghanistan                 NaN\n",
      "1             1  AHO              Netherlands Antilles                 NaN\n",
      "2             2  AIN                               AIN                 NaN\n",
      "3             3  ALB                           Albania                 NaN\n",
      "4             4  ALG                           Algeria                 NaN\n",
      "5             5  AND                           Andorra                 NaN\n",
      "6             6  ANG                            Angola                 NaN\n",
      "7             7  ANT               Antigua and Barbuda                 NaN\n",
      "8             8  ANZ                       Australasia                 NaN\n",
      "9             9  ARG                         Argentina                 NaN\n",
      "10           10  ARM                           Armenia                 NaN\n",
      "11           11  ARU                             Aruba                 NaN\n",
      "12           12  ASA                    American Samoa                 NaN\n",
      "13           13  AUS                         Australia  [1956, 2000, 2032]\n",
      "14           14  AUT                           Austria                 NaN\n",
      "15           15  AZE                        Azerbaijan                 NaN\n",
      "16           16  BAH                           Bahamas                 NaN\n",
      "17           17  BAN                        Bangladesh                 NaN\n",
      "18           18  BAR                          Barbados                 NaN\n",
      "19           19  BDI                           Burundi                 NaN\n",
      "20           20  BEL                           Belgium              [1920]\n",
      "21           21  BEN                             Benin                 NaN\n",
      "22           22  BER                           Bermuda                 NaN\n",
      "23           23  BHU                            Bhutan                 NaN\n",
      "24           24  BIZ                            Belize                 NaN\n",
      "25           25  BLR                           Belarus                 NaN\n",
      "26           26  BOH                           Bohemia                 NaN\n",
      "27           27  BOL                           Bolivia                 NaN\n",
      "28           28  BOT                          Botswana                 NaN\n",
      "29           29  BRA                            Brazil              [2016]\n",
      "30           30  BRN                           Bahrain                 NaN\n",
      "31           31  BUL                          Bulgaria                 NaN\n",
      "32           32  BUR                      Burkina Faso                 NaN\n",
      "33           33  CAN                            Canada              [1976]\n",
      "34           34  CAY                    Cayman Islands                 NaN\n",
      "35           35  CHA                              Chad                 NaN\n",
      "36           36  CHI                             Chile                 NaN\n",
      "37           37  CHN                             China              [2008]\n",
      "38           38  CIV                       Ivory Coast                 NaN\n",
      "39           39  CMR                          Cameroon                 NaN\n",
      "40           40  COK                      Cook Islands                 NaN\n",
      "41           41  COL                          Colombia                 NaN\n",
      "42           42  COM                           Comoros                 NaN\n",
      "43           43  CPV                        Cabo Verde                 NaN\n",
      "44           44  CRC                        Costa Rica                 NaN\n",
      "45           45  CRO                           Croatia                 NaN\n",
      "46           46  CRT                             Crete                 NaN\n",
      "47           47  CUB                              Cuba                 NaN\n",
      "48           48  CYP                            Cyprus                 NaN\n",
      "49           49  CZE                    Czech Republic                 NaN\n",
      "50           50  DEN                           Denmark                 NaN\n",
      "51           51  DJI                          Djibouti                 NaN\n",
      "52           52  DMA                          Dominica                 NaN\n",
      "53           53  DOM                Dominican Republic                 NaN\n",
      "54           54  ECU                           Ecuador                 NaN\n",
      "55           55  EGY                             Egypt                 NaN\n",
      "56           56  EOR              Refugee Olympic Team                 NaN\n",
      "57           57  ERI                           Eritrea                 NaN\n",
      "58           58  ESA                       El Salvador                 NaN\n",
      "59           59  ESP                             Spain              [1992]\n",
      "60           60  EST                           Estonia                 NaN\n",
      "61           61  ETH                          Ethiopia                 NaN\n",
      "62           62  EUN                      Unified Team                 NaN\n",
      "63           63  FIJ                              Fiji                 NaN\n",
      "64           64  FIN                           Finland              [1952]\n",
      "65           65  FRA                            France  [1900, 1924, 2024]\n",
      "66           66  FRG                      West Germany        [1916, 1936]\n",
      "67           67  GAB                             Gabon                 NaN\n",
      "68           68  GDR                      East Germany                 NaN\n",
      "69           69  GEO                           Georgia                 NaN\n",
      "70           70  GEQ                 Equatorial Guinea                 NaN\n",
      "71           71  GER                           Germany        [1916, 1936]\n",
      "72           72  GHA                             Ghana                 NaN\n",
      "73           73  GRE                            Greece        [1896, 2004]\n",
      "74           74  GRN                           Grenada                 NaN\n",
      "75           75  GUA                         Guatemala                 NaN\n",
      "76           76  GUI                            Guinea                 NaN\n",
      "77           77  GUM                              Guam                 NaN\n",
      "78           78  GUY                            Guyana                 NaN\n",
      "79           79  HAI                             Haiti                 NaN\n",
      "80           80  HKG                         Hong Kong                 NaN\n",
      "81           81  HON                          Honduras                 NaN\n",
      "82           82  HUN                           Hungary                 NaN\n",
      "83           83  INA                         Indonesia                 NaN\n",
      "84           84  IND                             India                 NaN\n",
      "85           85  IOA       Individual Olympic Athletes                 NaN\n",
      "86           86  IRI                              Iran                 NaN\n",
      "87           87  IRL                           Ireland                 NaN\n",
      "88           88  IRQ                              Iraq                 NaN\n",
      "89           89  ISL                           Iceland                 NaN\n",
      "90           90  ISR                            Israel                 NaN\n",
      "91           91  ISV                    Virgin Islands                 NaN\n",
      "92           92  ITA                             Italy              [1960]\n",
      "93           93  JAM                           Jamaica                 NaN\n",
      "94           94  JOR                            Jordan                 NaN\n",
      "95           95  JPN                             Japan              [1940]\n",
      "96           96  KAZ                        Kazakhstan                 NaN\n",
      "97           97  KEN                             Kenya                 NaN\n",
      "98           98  KGZ                        Kyrgyzstan                 NaN\n",
      "99           99  KIR                          Kiribati                 NaN\n",
      "100         100  KOR                       South Korea              [1988]\n",
      "101         101  KOS                            Kosovo                 NaN\n",
      "102         102  KSA                      Saudi Arabia                 NaN\n",
      "103         103  KUW                            Kuwait                 NaN\n",
      "104         104  LAT                            Latvia                 NaN\n",
      "105         105  LBI                             Libya                 NaN\n",
      "106         106  LBN                           Lebanon                 NaN\n",
      "107         107  LBR                           Liberia                 NaN\n",
      "108         108  LCA                       Saint Lucia                 NaN\n",
      "109         109  LES                           Lesotho                 NaN\n",
      "110         110  LIB                           Lebanon                 NaN\n",
      "111         111  LIE                     Liechtenstein                 NaN\n",
      "112         112  LTU                         Lithuania                 NaN\n",
      "113         113  LUX                        Luxembourg                 NaN\n",
      "114         114  MAD                        Madagascar                 NaN\n",
      "115         115  MAL                            Malaya                 NaN\n",
      "116         116  MAR                           Morocco                 NaN\n",
      "117         117  MAS                          Malaysia                 NaN\n",
      "118         118  MAW                            Malawi                 NaN\n",
      "119         119  MDA                           Moldova                 NaN\n",
      "120         120  MDV                          Maldives                 NaN\n",
      "121         121  MEX                            Mexico              [1968]\n",
      "122         122  MGL                          Mongolia                 NaN\n",
      "123         123  MHL                  Marshall Islands                 NaN\n",
      "124         124  MKD                         Macedonia                 NaN\n",
      "125         125  MLI                              Mali                 NaN\n",
      "126         126  MNE                        Montenegro                 NaN\n",
      "127         127  MOZ                        Mozambique                 NaN\n",
      "128         128  MRI                         Mauritius                 NaN\n",
      "129         129  MTN                        Mauritania                 NaN\n",
      "130         130  NAM                           Namibia                 NaN\n",
      "131         131  NBO                      North Borneo                 NaN\n",
      "132         132  NCA                         Nicaragua                 NaN\n",
      "133         133  NED                       Netherlands              [1928]\n",
      "134         134  NEP                             Nepal                 NaN\n",
      "135         135  NFL                      Newfoundland                 NaN\n",
      "136         136  NGR                           Nigeria                 NaN\n",
      "137         137  NIG                             Niger                 NaN\n",
      "138         138  NOR                            Norway                 NaN\n",
      "139         139  NRU                             Nauru                 NaN\n",
      "140         140  NZL                       New Zealand                 NaN\n",
      "141         141  OMA                              Oman                 NaN\n",
      "142         142  PAK                          Pakistan                 NaN\n",
      "143         143  PAN                            Panama                 NaN\n",
      "144         144  PAR                          Paraguay                 NaN\n",
      "145         145  PER                              Peru                 NaN\n",
      "146         146  PHI                       Philippines                 NaN\n",
      "147         147  PLE                         Palestine                 NaN\n",
      "148         148  PLW                             Palau                 NaN\n",
      "149         149  PNG                  Papua New Guinea                 NaN\n",
      "150         150  POL                            Poland                 NaN\n",
      "151         151  POR                          Portugal                 NaN\n",
      "152         152  PRK                       North Korea                 NaN\n",
      "153         153  PUR                       Puerto Rico                 NaN\n",
      "154         154  QAT                             Qatar                 NaN\n",
      "155         155  ROT          Refugee Olympic Athletes                 NaN\n",
      "156         156  ROU                           Romania                 NaN\n",
      "157         157  RSA                      South Africa                 NaN\n",
      "158         158  RUS                            Russia                 NaN\n",
      "159         159  RWA                            Rwanda                 NaN\n",
      "160         160  SAA                              Saar                 NaN\n",
      "161         161  SAM                             Samoa                 NaN\n",
      "162         162  SCG             Serbia and Montenegro                 NaN\n",
      "163         163  SEN                           Senegal                 NaN\n",
      "164         164  SEY                        Seychelles                 NaN\n",
      "165         165  SGP                         Singapore                 NaN\n",
      "166         166  SLE                      Sierra Leone                 NaN\n",
      "167         167  SLO                          Slovenia                 NaN\n",
      "168         168  SMR                        San Marino                 NaN\n",
      "169         169  SOL                   Solomon Islands                 NaN\n",
      "170         170  SOM                           Somalia                 NaN\n",
      "171         171  SRB                            Serbia                 NaN\n",
      "172         172  SRI                         Sri Lanka                 NaN\n",
      "173         173  SSD                       South Sudan                 NaN\n",
      "174         174  SUD                             Sudan                 NaN\n",
      "175         175  SUI                       Switzerland                 NaN\n",
      "176         176  SUR                          Suriname                 NaN\n",
      "177         177  SVK                          Slovakia                 NaN\n",
      "178         178  SWE                            Sweden              [1912]\n",
      "179         179  SYR                             Syria                 NaN\n",
      "180         180  TAN                          Tanzania                 NaN\n",
      "181         181  TCH                    Czechoslovakia                 NaN\n",
      "182         182  TGA                             Tonga                 NaN\n",
      "183         183  THA                          Thailand                 NaN\n",
      "184         184  TJK                        Tajikistan                 NaN\n",
      "185         185  TKM                      Turkmenistan                 NaN\n",
      "186         186  TOG                              Togo                 NaN\n",
      "187         187  TPE                    Chinese Taipei                 NaN\n",
      "188         188  TTO               Trinidad and Tobago                 NaN\n",
      "189         189  TUN                           Tunisia                 NaN\n",
      "190         190  TUR                            Turkey                 NaN\n",
      "191         191  TUV                            Tuvalu                 NaN\n",
      "192         192  UAE              United Arab Emirates                 NaN\n",
      "193         193  UAR              United Arab Republic                 NaN\n",
      "194         194  UGA                            Uganda                 NaN\n",
      "195         195  UKR                           Ukraine                 NaN\n",
      "196         196  UNK                           Unknown                 NaN\n",
      "197         197  URS                      Soviet Union              [1980]\n",
      "198         198  URU                           Uruguay                 NaN\n",
      "199         199  UZB                        Uzbekistan                 NaN\n",
      "200         200  VAN                           Vanuatu                 NaN\n",
      "201         201  VEN                         Venezuela                 NaN\n",
      "202         202  VIE                           Vietnam                 NaN\n",
      "203         203  VNM                     South Vietnam                 NaN\n",
      "204         204  YAR                       North Yemen                 NaN\n",
      "205         205  YEM                             Yemen                 NaN\n",
      "206         206  YMD                       South Yemen                 NaN\n",
      "207         207  YUG                        Yugoslavia                 NaN\n",
      "208         208  ZAM                            Zambia                 NaN\n",
      "209         209  ZIM                          Zimbabwe                 NaN\n",
      "210         210  BIH            Bosnia and Herzegovina                 NaN\n",
      "211         211  BRU                            Brunei                 NaN\n",
      "212         212  CAF          Central African Republic                 NaN\n",
      "213         213  CAM                          Cambodia                 NaN\n",
      "214         214  CGO                             Congo                 NaN\n",
      "215         215  COD  Democratic Republic of the Congo                 NaN\n",
      "216         216  FSM    Federated States of Micronesia                 NaN\n",
      "217         217  GAM                            Gambia                 NaN\n",
      "218         218  GBR                     Great Britain                 NaN\n",
      "219         219  GBS                     Guinea Bissau                 NaN\n",
      "220         220  IVB            British Virgin Islands                 NaN\n",
      "221         221  LAO                              Laos                 NaN\n",
      "222         222  MKD                         Macedonia                 NaN\n",
      "223         223  MLT                             Malta                 NaN\n",
      "224         224  MON                            Monaco                 NaN\n",
      "225         225  MYA                           Myanmar                 NaN\n",
      "226         226  RHO                          Rhodesia                 NaN\n",
      "227         227  SKN             Saint Kitts and Nevis                 NaN\n",
      "228         228  STP             Sao Tome and Principe                 NaN\n",
      "229         229  SWZ                         Swaziland                 NaN\n",
      "230         230  TLS                       Timor Leste                 NaN\n",
      "231         231  VIN  Saint Vincent and the Grenadines                 NaN\n",
      "232         232  WIF            West Indies Federation                 NaN\n"
     ]
    },
    {
     "name": "stderr",
     "output_type": "stream",
     "text": [
      "IOPub data rate exceeded.\n",
      "The Jupyter server will temporarily stop sending output\n",
      "to the client in order to avoid crashing it.\n",
      "To change this limit, set the config variable\n",
      "`--ServerApp.iopub_data_rate_limit`.\n",
      "\n",
      "Current values:\n",
      "ServerApp.iopub_data_rate_limit=1000000.0 (bytes/sec)\n",
      "ServerApp.rate_limit_window=3.0 (secs)\n",
      "\n"
     ]
    }
   ],
   "source": [
    "# file_Countries = 'ProcessedData/Countries.csv'\n",
    "# file_Athletes = 'ProcessedData/Athletes.csv'\n",
    "# file_Medals = 'ProcessedData/Medals.csv'\n",
    "file_countries = 'Countries.csv'\n",
    "file_athletes = 'data/summerOly_athletes.csv'\n",
    "file_medals = 'Medals.csv'\n",
    "file_programs = 'data/summerOly_programs.csv'\n",
    "\n",
    "df_countries = pd.read_csv(\n",
    "    file_countries,\n",
    "    encoding='utf-8',\n",
    "    encoding_errors='ignore'  # 忽略解码错误\n",
    ")\n",
    "print(df_countries)\n",
    "df_athletes = pd.read_csv(\n",
    "    file_athletes,\n",
    "    encoding='utf-8',\n",
    "    encoding_errors='ignore'  # 忽略解码错误\n",
    ")\n",
    "df_athletes.loc[df_athletes[\"NOC\"]==\"ROC\", \"NOC\"] = \"RUS\"\n",
    "df_athletes.loc[df_athletes[\"NOC\"]==\"LBN\", \"NOC\"] = \"LBI\"\n",
    "print(df_athletes)\n",
    "df_medals = pd.read_csv(\n",
    "    file_medals,\n",
    "    encoding='utf-8',\n",
    "    encoding_errors='ignore'  # 忽略解码错误\n",
    ")\n",
    "print(df_medals)\n",
    "df_programs = pd.read_csv(\n",
    "    file_programs,\n",
    "    encoding='utf-8',\n",
    "    encoding_errors='ignore'  # 忽略解码错误\n",
    ")\n",
    "print(df_programs)"
   ]
  },
  {
   "cell_type": "code",
   "execution_count": 4,
   "id": "325acb25-e6b5-42f3-adb3-d41e2d8ac263",
   "metadata": {},
   "outputs": [
    {
     "name": "stdout",
     "output_type": "stream",
     "text": [
      "<pandas.core.groupby.generic.DataFrameGroupBy object at 0x000001EB038833D0>\n",
      "       NOC  Year      Sport  Participants  Sex\n",
      "0      AFG  1936  Athletics             2    1\n",
      "1      AFG  1936     Hockey            13    1\n",
      "2      AFG  1948   Football            10    1\n",
      "3      AFG  1948     Hockey            12    1\n",
      "4      AFG  1956     Hockey            12    1\n",
      "...    ...   ...        ...           ...  ...\n",
      "26224  ZIM  2020     Rowing             1    1\n",
      "26225  ZIM  2020   Swimming             2    2\n",
      "26226  ZIM  2024  Athletics             4    2\n",
      "26227  ZIM  2024     Rowing             1    1\n",
      "26228  ZIM  2024   Swimming             2    2\n",
      "\n",
      "[26229 rows x 5 columns]\n",
      "       NOC  Year      Sport  Participants  Female  Male\n",
      "0      AFG  1936  Athletics             2       0     2\n",
      "1      AFG  1936     Hockey            13       0    13\n",
      "2      AFG  1948   Football            10       0    10\n",
      "3      AFG  1948     Hockey            12       0    12\n",
      "4      AFG  1956     Hockey            12       0    12\n",
      "...    ...   ...        ...           ...     ...   ...\n",
      "26224  ZIM  2020     Rowing             1       0     1\n",
      "26225  ZIM  2020   Swimming             2       1     1\n",
      "26226  ZIM  2024  Athletics             4       1     3\n",
      "26227  ZIM  2024     Rowing             1       0     1\n",
      "26228  ZIM  2024   Swimming             2       1     1\n",
      "\n",
      "[26229 rows x 6 columns]\n",
      "                         Name Sex               Team  NOC  Year         City  \\\n",
      "0                   A Dijiang   M              China  CHN  1992    Barcelona   \n",
      "1                    A Lamusi   M              China  CHN  2012       London   \n",
      "2                 Gunnar Aaby   M            Denmark  DEN  1920    Antwerpen   \n",
      "3                 Edgar Aabye   M     Denmark/Sweden  DEN  1900        Paris   \n",
      "4       Cornelia (-strannood)   F        Netherlands  NED  1932  Los Angeles   \n",
      "...                       ...  ..                ...  ...   ...          ...   \n",
      "252560             Sefora Ada   F  Equatorial Guinea  GEQ  2024        Paris   \n",
      "252561        Emanuela Liuzzi   F              Italy  ITA  2024        Paris   \n",
      "252562           Isayah Boers   M        Netherlands  NED  2024        Paris   \n",
      "252563            Kevin Staut   M             France  FRA  2024        Paris   \n",
      "252564        Charlie Carvell   M      Great Britain  GBR  2024        Paris   \n",
      "\n",
      "             Sport                         Event     Medal Medal_Status  \n",
      "0       Basketball   Basketball Men's Basketball  No medal     No medal  \n",
      "1             Judo  Judo Men's Extra-Lightweight  No medal     No medal  \n",
      "2         Football       Football Men's Football  No medal     No medal  \n",
      "3       Tug-Of-War   Tug-Of-War Men's Tug-Of-War      Gold         Gold  \n",
      "4        Athletics  Athletics Women's 100 metres  No medal     No medal  \n",
      "...            ...                           ...       ...          ...  \n",
      "252560   Athletics                  Women's 100m  No medal     No medal  \n",
      "252561   Wrestling        Women's Freestyle 50kg  No medal     No medal  \n",
      "252562   Athletics          4 x 400m Relay Mixed      Gold         Gold  \n",
      "252563  Equestrian                  Jumping Team    Bronze       Bronze  \n",
      "252564   Athletics          Men's 4 x 400m Relay    Bronze       Bronze  \n",
      "\n",
      "[252565 rows x 10 columns]\n",
      "Medal_Status  NOC  Year      Sport  Bronze  Gold  No medal  Silver\n",
      "0             AFG  1936  Athletics       0     0         3       0\n",
      "1             AFG  1936     Hockey       0     0        13       0\n",
      "2             AFG  1948   Football       0     0        11       0\n",
      "3             AFG  1948     Hockey       0     0        14       0\n",
      "4             AFG  1956     Hockey       0     0        12       0\n",
      "...           ...   ...        ...     ...   ...       ...     ...\n",
      "26224         ZIM  2020     Rowing       0     0         1       0\n",
      "26225         ZIM  2020   Swimming       0     0         2       0\n",
      "26226         ZIM  2024  Athletics       0     0         4       0\n",
      "26227         ZIM  2024     Rowing       0     0         1       0\n",
      "26228         ZIM  2024   Swimming       0     0         2       0\n",
      "\n",
      "[26229 rows x 7 columns]\n",
      "       NOC  Year      Sport  Participants  Female  Male  Bronze  Gold  \\\n",
      "0      AFG  1936  Athletics             2       0     2       0     0   \n",
      "1      AFG  1936     Hockey            13       0    13       0     0   \n",
      "2      AFG  1948   Football            10       0    10       0     0   \n",
      "3      AFG  1948     Hockey            12       0    12       0     0   \n",
      "4      AFG  1956     Hockey            12       0    12       0     0   \n",
      "...    ...   ...        ...           ...     ...   ...     ...   ...   \n",
      "26224  ZIM  2020     Rowing             1       0     1       0     0   \n",
      "26225  ZIM  2020   Swimming             2       1     1       0     0   \n",
      "26226  ZIM  2024  Athletics             4       1     3       0     0   \n",
      "26227  ZIM  2024     Rowing             1       0     1       0     0   \n",
      "26228  ZIM  2024   Swimming             2       1     1       0     0   \n",
      "\n",
      "       No medal  Silver  \n",
      "0             3       0  \n",
      "1            13       0  \n",
      "2            11       0  \n",
      "3            14       0  \n",
      "4            12       0  \n",
      "...         ...     ...  \n",
      "26224         1       0  \n",
      "26225         2       0  \n",
      "26226         4       0  \n",
      "26227         1       0  \n",
      "26228         2       0  \n",
      "\n",
      "[26229 rows x 10 columns]\n",
      "       NOC  Year      Sport  Participants  Female  Male  Bronze  Gold  \\\n",
      "0      AFG  1936  Athletics             2       0     2       0     0   \n",
      "1      AFG  1936     Hockey            13       0    13       0     0   \n",
      "2      AFG  1948   Football            10       0    10       0     0   \n",
      "3      AFG  1948     Hockey            12       0    12       0     0   \n",
      "4      AFG  1956     Hockey            12       0    12       0     0   \n",
      "...    ...   ...        ...           ...     ...   ...     ...   ...   \n",
      "26224  ZIM  2020     Rowing             1       0     1       0     0   \n",
      "26225  ZIM  2020   Swimming             2       1     1       0     0   \n",
      "26226  ZIM  2024  Athletics             4       1     3       0     0   \n",
      "26227  ZIM  2024     Rowing             1       0     1       0     0   \n",
      "26228  ZIM  2024   Swimming             2       1     1       0     0   \n",
      "\n",
      "       No medal  Silver  \n",
      "0             3       0  \n",
      "1            13       0  \n",
      "2            11       0  \n",
      "3            14       0  \n",
      "4            12       0  \n",
      "...         ...     ...  \n",
      "26224         1       0  \n",
      "26225         2       0  \n",
      "26226         4       0  \n",
      "26227         1       0  \n",
      "26228         2       0  \n",
      "\n",
      "[26229 rows x 10 columns]\n"
     ]
    }
   ],
   "source": [
    "# # 1. 按 NOC、Year 和 Sport 分组\n",
    "# grouped = df_athletes.groupby(['NOC', 'Year', 'Sport'])\n",
    "# print(grouped)\n",
    "\n",
    "# # 2. 统计每个组的参赛人数    TODO:考虑重名？\n",
    "# contestants = grouped[['Name', 'Sex']].nunique().reset_index()\n",
    "# contestants = contestants.rename(columns={'Name': 'Participants'})\n",
    "# print(contestants)\n",
    "\n",
    "# # 3. 统计男女比例\n",
    "# gender_ratio = grouped['Sex'].apply(lambda x: x['Name'].nunique()).unstack(fill_value=0).reset_index()\n",
    "# print(gender_ratio.columns)\n",
    "# gender_ratio.columns = ['NOC', 'Year', 'Sport', 'Female', 'Male']\n",
    "# print(gender_ratio)\n",
    "\n",
    "# 1. 按 NOC、Year 和 Sport 分组\n",
    "grouped = df_athletes.groupby(['NOC', 'Year', 'Sport'])\n",
    "print(grouped)\n",
    "\n",
    "# 2. 统计每个组的参赛人数（去重，考虑重名情况）\n",
    "df_unique = df_athletes.drop_duplicates(subset=['Name', 'NOC', 'Year', 'Sport'])\n",
    "contestants = df_unique.groupby(['NOC', 'Year', 'Sport'])[['Name', 'Sex']].nunique().reset_index()\n",
    "contestants = contestants.rename(columns={'Name': 'Participants'})\n",
    "print(contestants)\n",
    "\n",
    "# 3. 统计每个组的男女人数比\n",
    "gender_count = df_unique.groupby(['NOC', 'Year', 'Sport', 'Sex']).size().unstack(fill_value=0).reset_index()\n",
    "\n",
    "# 4. 合并参赛人数与男女人数数据\n",
    "gender_ratio = pd.merge(contestants, gender_count, on=['NOC', 'Year', 'Sport'], how='left')\n",
    "\n",
    "# 5. 给列命名并显示结果\n",
    "gender_ratio = gender_ratio[['NOC', 'Year', 'Sport', 'Participants', 'F', 'M']]\n",
    "gender_ratio.columns = ['NOC', 'Year', 'Sport', 'Participants', 'Female', 'Male']\n",
    "print(gender_ratio)\n",
    "\n",
    "# 4. 统计得奖情况，创建一个新的列，标记是否得奖\n",
    "df_athletes['Medal_Status'] = df_athletes['Medal'].apply(lambda x: 'No medal' if pd.isna(x) else x)\n",
    "print(df_athletes)\n",
    "\n",
    "# 统计金、银、铜和无奖的数量\n",
    "medals = df_athletes.groupby(['NOC', 'Year', 'Sport', 'Medal_Status']).size().unstack(fill_value=0).reset_index()\n",
    "print(medals)\n",
    "\n",
    "# 5. 将参赛人数、男女比和得奖情况合并成一个最终的 DataFrame\n",
    "summary = gender_ratio\n",
    "summary = pd.merge(summary, medals, on=['NOC', 'Year', 'Sport'], how='left')\n",
    "print(summary)\n",
    "\n",
    "# 6. 如果需要，对每个运动项目的得奖人数进行进一步处理\n",
    "summary['Gold'] = summary.get('Gold', 0)\n",
    "summary['Silver'] = summary.get('Silver', 0)\n",
    "summary['Bronze'] = summary.get('Bronze', 0)\n",
    "summary['No medal'] = summary.get('No medal', 0)\n",
    "\n",
    "# 显示最终汇总表\n",
    "print(summary)\n",
    "summary.to_csv(\"sports_summary.csv\")"
   ]
  },
  {
   "cell_type": "code",
   "execution_count": 5,
   "id": "e149557e-29f3-4538-80f7-e1165551eb65",
   "metadata": {},
   "outputs": [
    {
     "name": "stdout",
     "output_type": "stream",
     "text": [
      "Index(['NOC', 'Year', 'Sport', 'Participants', 'Female', 'Male', 'Bronze',\n",
      "       'Gold', 'No medal', 'Silver'],\n",
      "      dtype='object')\n"
     ]
    }
   ],
   "source": [
    "print(summary.columns)"
   ]
  },
  {
   "cell_type": "markdown",
   "id": "cce4097c-4136-4e71-868f-a658aa9c2720",
   "metadata": {},
   "source": [
    "### 模型评估（未使用历史数据作为特征）"
   ]
  },
  {
   "cell_type": "code",
   "execution_count": 7,
   "id": "60299aa0-6862-493f-9e94-9a4bcf4669d8",
   "metadata": {},
   "outputs": [],
   "source": [
    "from sklearn.model_selection import train_test_split\n",
    "from sklearn.ensemble import RandomForestRegressor\n",
    "from sklearn.ensemble import GradientBoostingRegressor\n",
    "from sklearn.tree import DecisionTreeRegressor\n",
    "from sklearn.linear_model import LinearRegression\n",
    "import xgboost as xgb\n",
    "from sklearn.metrics import mean_absolute_error\n",
    "from sklearn.metrics import mean_squared_error"
   ]
  },
  {
   "cell_type": "code",
   "execution_count": 8,
   "id": "ad108927-fb43-433b-bb67-b5c8c3b118e6",
   "metadata": {},
   "outputs": [
    {
     "name": "stdout",
     "output_type": "stream",
     "text": [
      "Mean Squared Error: 331318.2568629713\n",
      "Random Forest Mean Squared Error: 3.2816309950438423\n",
      "Decision Tree Mean Squared Error: 4.400482378108188\n",
      "Gradient Boosting Mean Squared Error: 3.6971943981621127\n",
      "XGBoost Mean Squared Error: 3.575558223718012\n"
     ]
    }
   ],
   "source": [
    "# 选择需要的特征列和目标列，TODO：添加上届参赛人员赛绩？\n",
    "X = summary[['NOC', 'Year', 'Sport', 'Participants', 'Female', 'Male']]\n",
    "y = summary['Gold']\n",
    "\n",
    "# 对类别变量进行编码，例如NOC和Sport\n",
    "X = pd.get_dummies(X, columns=['NOC', 'Sport'], drop_first=True)\n",
    "\n",
    "# 划分训练集和测试集\n",
    "X_train, X_test, y_train, y_test = train_test_split(X, y, test_size=0.2, random_state=42)\n",
    "\n",
    "# 线性回归\n",
    "model = LinearRegression()\n",
    "model.fit(X_train, y_train)\n",
    "y_pred = model.predict(X_test)\n",
    "\n",
    "mse = mean_squared_error(y_test, y_pred)\n",
    "print(f\"Mean Squared Error: {mse}\")\n",
    "\n",
    "# 随机森林回归\n",
    "rf_model = RandomForestRegressor(n_estimators=100, random_state=42)\n",
    "rf_model.fit(X_train, y_train)\n",
    "rf_y_pred = rf_model.predict(X_test)\n",
    "\n",
    "rf_mse = mean_squared_error(y_test, rf_y_pred)\n",
    "print(f'Random Forest Mean Squared Error: {rf_mse}')\n",
    "\n",
    "# 决策树\n",
    "dt_model = DecisionTreeRegressor(max_depth=None, min_samples_split=5, max_features=None, max_leaf_nodes=None, random_state=42)\n",
    "dt_model.fit(X_train, y_train)\n",
    "dt_y_pred = dt_model.predict(X_test)\n",
    "\n",
    "dt_mse = mean_squared_error(y_test, dt_y_pred)\n",
    "print(f'Decision Tree Mean Squared Error: {dt_mse}')\n",
    "\n",
    "# 梯度回归提升\n",
    "gb_model = GradientBoostingRegressor(n_estimators=100, random_state=42)\n",
    "gb_model.fit(X_train, y_train)\n",
    "gb_y_pred = gb_model.predict(X_test)\n",
    "\n",
    "gb_mse = mean_squared_error(y_test, gb_y_pred)\n",
    "print(\"Gradient Boosting Mean Squared Error:\", gb_mse)\n",
    "\n",
    "# XBGBoost\n",
    "xgb_model = xgb.XGBRegressor(n_estimators=100, random_state=42)\n",
    "xgb_model.fit(X_train, y_train)\n",
    "xgb_y_pred = xgb_model.predict(X_test)\n",
    "\n",
    "xgb_mse = mean_squared_error(y_test, xgb_y_pred)\n",
    "print(\"XGBoost Mean Squared Error:\", xgb_mse)"
   ]
  },
  {
   "cell_type": "code",
   "execution_count": 9,
   "id": "512fa4d2-d9b3-4618-844f-b92ef3f5828c",
   "metadata": {},
   "outputs": [
    {
     "name": "stdout",
     "output_type": "stream",
     "text": [
      "Silver:\n",
      "Mean Squared Error: 110964.27026578423\n",
      "Random Forest Mean Squared Error: 4.136943537933663\n",
      "Decision Tree Mean Squared Error: 5.7496002245096784\n",
      "Gradient Boosting Mean Squared Error: 3.8312704506368247\n",
      "XGBoost Mean Squared Error: 4.096944836475989\n",
      "Bronze:\n",
      "Mean Squared Error: 33345.69942984816\n",
      "Random Forest Mean Squared Error: 3.8591373046130384\n",
      "Decision Tree Mean Squared Error: 5.197629410767992\n",
      "Gradient Boosting Mean Squared Error: 3.562157643785668\n",
      "XGBoost Mean Squared Error: 3.888372831587583\n"
     ]
    }
   ],
   "source": [
    "# 同上，测银牌铜牌\n",
    "print(\"Silver:\")\n",
    "X = summary[['NOC', 'Year', 'Sport', 'Participants', 'Female', 'Male']]\n",
    "y = summary['Silver']\n",
    "\n",
    "# 对类别变量进行编码，例如NOC和Sport\n",
    "X = pd.get_dummies(X, columns=['NOC', 'Sport'], drop_first=True)\n",
    "\n",
    "# 划分训练集和测试集\n",
    "X_train, X_test, y_train, y_test = train_test_split(X, y, test_size=0.2, random_state=42)\n",
    "\n",
    "# 线性回归\n",
    "model = LinearRegression()\n",
    "model.fit(X_train, y_train)\n",
    "y_pred = model.predict(X_test)\n",
    "\n",
    "mse = mean_squared_error(y_test, y_pred)\n",
    "print(f\"Mean Squared Error: {mse}\")\n",
    "\n",
    "# 随机森林回归\n",
    "rf_model = RandomForestRegressor(n_estimators=100, random_state=42)\n",
    "rf_model.fit(X_train, y_train)\n",
    "rf_y_pred = rf_model.predict(X_test)\n",
    "\n",
    "rf_mse = mean_squared_error(y_test, rf_y_pred)\n",
    "print(f'Random Forest Mean Squared Error: {rf_mse}')\n",
    "\n",
    "# 决策树\n",
    "dt_model = DecisionTreeRegressor(max_depth=None, min_samples_split=5, max_features=None, max_leaf_nodes=None, random_state=42)\n",
    "dt_model.fit(X_train, y_train)\n",
    "dt_y_pred = dt_model.predict(X_test)\n",
    "\n",
    "dt_mse = mean_squared_error(y_test, dt_y_pred)\n",
    "print(f'Decision Tree Mean Squared Error: {dt_mse}')\n",
    "\n",
    "# 梯度回归提升\n",
    "gb_model = GradientBoostingRegressor(n_estimators=100, random_state=42)\n",
    "gb_model.fit(X_train, y_train)\n",
    "gb_y_pred = gb_model.predict(X_test)\n",
    "\n",
    "gb_mse = mean_squared_error(y_test, gb_y_pred)\n",
    "print(\"Gradient Boosting Mean Squared Error:\", gb_mse)\n",
    "\n",
    "# XBGBoost\n",
    "xgb_model = xgb.XGBRegressor(n_estimators=100, random_state=42)\n",
    "xgb_model.fit(X_train, y_train)\n",
    "xgb_y_pred = xgb_model.predict(X_test)\n",
    "\n",
    "xgb_mse = mean_squared_error(y_test, xgb_y_pred)\n",
    "print(\"XGBoost Mean Squared Error:\", xgb_mse)\n",
    "\n",
    "print(\"Bronze:\")\n",
    "X = summary[['NOC', 'Year', 'Sport', 'Participants', 'Female', 'Male']]\n",
    "y = summary['Bronze']\n",
    "\n",
    "# 对类别变量进行编码，例如NOC和Sport\n",
    "X = pd.get_dummies(X, columns=['NOC', 'Sport'], drop_first=True)\n",
    "\n",
    "# 划分训练集和测试集\n",
    "X_train, X_test, y_train, y_test = train_test_split(X, y, test_size=0.2, random_state=42)\n",
    "\n",
    "# 线性回归\n",
    "model = LinearRegression()\n",
    "model.fit(X_train, y_train)\n",
    "y_pred = model.predict(X_test)\n",
    "\n",
    "mse = mean_squared_error(y_test, y_pred)\n",
    "print(f\"Mean Squared Error: {mse}\")\n",
    "\n",
    "# 随机森林回归\n",
    "rf_model = RandomForestRegressor(n_estimators=100, random_state=42)\n",
    "rf_model.fit(X_train, y_train)\n",
    "rf_y_pred = rf_model.predict(X_test)\n",
    "\n",
    "rf_mse = mean_squared_error(y_test, rf_y_pred)\n",
    "print(f'Random Forest Mean Squared Error: {rf_mse}')\n",
    "\n",
    "# 决策树\n",
    "dt_model = DecisionTreeRegressor(max_depth=None, min_samples_split=5, max_features=None, max_leaf_nodes=None, random_state=42)\n",
    "dt_model.fit(X_train, y_train)\n",
    "dt_y_pred = dt_model.predict(X_test)\n",
    "\n",
    "dt_mse = mean_squared_error(y_test, dt_y_pred)\n",
    "print(f'Decision Tree Mean Squared Error: {dt_mse}')\n",
    "\n",
    "# 梯度回归提升\n",
    "gb_model = GradientBoostingRegressor(n_estimators=100, random_state=42)\n",
    "gb_model.fit(X_train, y_train)\n",
    "gb_y_pred = gb_model.predict(X_test)\n",
    "\n",
    "gb_mse = mean_squared_error(y_test, gb_y_pred)\n",
    "print(\"Gradient Boosting Mean Squared Error:\", gb_mse)\n",
    "\n",
    "# XBGBoost\n",
    "xgb_model = xgb.XGBRegressor(n_estimators=100, random_state=42)\n",
    "xgb_model.fit(X_train, y_train)\n",
    "xgb_y_pred = xgb_model.predict(X_test)\n",
    "\n",
    "xgb_mse = mean_squared_error(y_test, xgb_y_pred)\n",
    "print(\"XGBoost Mean Squared Error:\", xgb_mse)"
   ]
  },
  {
   "cell_type": "code",
   "execution_count": 10,
   "id": "878e0c47-726b-43d3-adeb-cd20558733f3",
   "metadata": {},
   "outputs": [
    {
     "name": "stdout",
     "output_type": "stream",
     "text": [
      "Gradient Boosting Mean Squared Error: 3.562157643785668\n"
     ]
    }
   ],
   "source": [
    "# 假设延续24年的比赛项目：\n",
    "sports = summary[summary['Year']==2024][['NOC','Year','Sport']]\n",
    "sports['Year'] = 2025\n",
    "\n",
    "X = summary[['NOC', 'Year', 'Sport', 'Participants', 'Female', 'Male']]\n",
    "y = summary['Bronze']\n",
    "\n",
    "# 对类别变量进行编码，例如NOC和Sport\n",
    "X = pd.get_dummies(X, columns=['NOC', 'Sport'], drop_first=True)\n",
    "\n",
    "# 划分训练集和测试集\n",
    "X_train, X_test, y_train, y_test = train_test_split(X, y, test_size=0.2, random_state=42)\n",
    "\n",
    "gb_model = GradientBoostingRegressor(n_estimators=100, random_state=42)\n",
    "gb_model.fit(X_train, y_train)\n",
    "gb_y_pred = gb_model.predict(X_test)\n",
    "\n",
    "gb_mse = mean_squared_error(y_test, gb_y_pred)\n",
    "print(\"Gradient Boosting Mean Squared Error:\", gb_mse)"
   ]
  },
  {
   "cell_type": "markdown",
   "id": "782ae8d1-347c-4128-92ac-7a0f61eac9fb",
   "metadata": {},
   "source": [
    "### 模型评估（使用历史数据） 以预测24年为测试"
   ]
  },
  {
   "cell_type": "code",
   "execution_count": 62,
   "id": "01adf436-6146-459b-8510-7e2e9ab20092",
   "metadata": {},
   "outputs": [],
   "source": [
    "summary['Past_Gold'] = summary.groupby(['NOC','Sport'])['Gold'].shift(1)\n",
    "summary['Past_Silver'] = summary.groupby(['NOC','Sport'])['Silver'].shift(1)\n",
    "summary['Past_Bronze'] = summary.groupby(['NOC','Sport'])['Bronze'].shift(1)\n",
    "summary['Past_Participants'] = summary.groupby(['NOC','Sport'])['Participants'].shift(1)\n",
    "summary['Past_Female'] = summary.groupby(['NOC','Sport'])['Female'].shift(1)\n",
    "summary['Past_Male'] = summary.groupby(['NOC','Sport'])['Male'].shift(1)\n",
    "summary = summary[~pd.isna(summary['Past_Gold'])]\n",
    "summary.to_csv(\"sports_summary.csv\")"
   ]
  },
  {
   "cell_type": "code",
   "execution_count": 66,
   "id": "4de8e3ca-63af-4644-8dbf-41a4184366de",
   "metadata": {},
   "outputs": [
    {
     "name": "stdout",
     "output_type": "stream",
     "text": [
      "Gold\n"
     ]
    },
    {
     "data": {
      "text/html": [
       "<style>#sk-container-id-6 {color: black;background-color: white;}#sk-container-id-6 pre{padding: 0;}#sk-container-id-6 div.sk-toggleable {background-color: white;}#sk-container-id-6 label.sk-toggleable__label {cursor: pointer;display: block;width: 100%;margin-bottom: 0;padding: 0.3em;box-sizing: border-box;text-align: center;}#sk-container-id-6 label.sk-toggleable__label-arrow:before {content: \"▸\";float: left;margin-right: 0.25em;color: #696969;}#sk-container-id-6 label.sk-toggleable__label-arrow:hover:before {color: black;}#sk-container-id-6 div.sk-estimator:hover label.sk-toggleable__label-arrow:before {color: black;}#sk-container-id-6 div.sk-toggleable__content {max-height: 0;max-width: 0;overflow: hidden;text-align: left;background-color: #f0f8ff;}#sk-container-id-6 div.sk-toggleable__content pre {margin: 0.2em;color: black;border-radius: 0.25em;background-color: #f0f8ff;}#sk-container-id-6 input.sk-toggleable__control:checked~div.sk-toggleable__content {max-height: 200px;max-width: 100%;overflow: auto;}#sk-container-id-6 input.sk-toggleable__control:checked~label.sk-toggleable__label-arrow:before {content: \"▾\";}#sk-container-id-6 div.sk-estimator input.sk-toggleable__control:checked~label.sk-toggleable__label {background-color: #d4ebff;}#sk-container-id-6 div.sk-label input.sk-toggleable__control:checked~label.sk-toggleable__label {background-color: #d4ebff;}#sk-container-id-6 input.sk-hidden--visually {border: 0;clip: rect(1px 1px 1px 1px);clip: rect(1px, 1px, 1px, 1px);height: 1px;margin: -1px;overflow: hidden;padding: 0;position: absolute;width: 1px;}#sk-container-id-6 div.sk-estimator {font-family: monospace;background-color: #f0f8ff;border: 1px dotted black;border-radius: 0.25em;box-sizing: border-box;margin-bottom: 0.5em;}#sk-container-id-6 div.sk-estimator:hover {background-color: #d4ebff;}#sk-container-id-6 div.sk-parallel-item::after {content: \"\";width: 100%;border-bottom: 1px solid gray;flex-grow: 1;}#sk-container-id-6 div.sk-label:hover label.sk-toggleable__label {background-color: #d4ebff;}#sk-container-id-6 div.sk-serial::before {content: \"\";position: absolute;border-left: 1px solid gray;box-sizing: border-box;top: 0;bottom: 0;left: 50%;z-index: 0;}#sk-container-id-6 div.sk-serial {display: flex;flex-direction: column;align-items: center;background-color: white;padding-right: 0.2em;padding-left: 0.2em;position: relative;}#sk-container-id-6 div.sk-item {position: relative;z-index: 1;}#sk-container-id-6 div.sk-parallel {display: flex;align-items: stretch;justify-content: center;background-color: white;position: relative;}#sk-container-id-6 div.sk-item::before, #sk-container-id-6 div.sk-parallel-item::before {content: \"\";position: absolute;border-left: 1px solid gray;box-sizing: border-box;top: 0;bottom: 0;left: 50%;z-index: -1;}#sk-container-id-6 div.sk-parallel-item {display: flex;flex-direction: column;z-index: 1;position: relative;background-color: white;}#sk-container-id-6 div.sk-parallel-item:first-child::after {align-self: flex-end;width: 50%;}#sk-container-id-6 div.sk-parallel-item:last-child::after {align-self: flex-start;width: 50%;}#sk-container-id-6 div.sk-parallel-item:only-child::after {width: 0;}#sk-container-id-6 div.sk-dashed-wrapped {border: 1px dashed gray;margin: 0 0.4em 0.5em 0.4em;box-sizing: border-box;padding-bottom: 0.4em;background-color: white;}#sk-container-id-6 div.sk-label label {font-family: monospace;font-weight: bold;display: inline-block;line-height: 1.2em;}#sk-container-id-6 div.sk-label-container {text-align: center;}#sk-container-id-6 div.sk-container {/* jupyter's `normalize.less` sets `[hidden] { display: none; }` but bootstrap.min.css set `[hidden] { display: none !important; }` so we also need the `!important` here to be able to override the default hidden behavior on the sphinx rendered scikit-learn.org. See: https://github.com/scikit-learn/scikit-learn/issues/21755 */display: inline-block !important;position: relative;}#sk-container-id-6 div.sk-text-repr-fallback {display: none;}</style><div id=\"sk-container-id-6\" class=\"sk-top-container\"><div class=\"sk-text-repr-fallback\"><pre>LinearRegression()</pre><b>In a Jupyter environment, please rerun this cell to show the HTML representation or trust the notebook. <br />On GitHub, the HTML representation is unable to render, please try loading this page with nbviewer.org.</b></div><div class=\"sk-container\" hidden><div class=\"sk-item\"><div class=\"sk-estimator sk-toggleable\"><input class=\"sk-toggleable__control sk-hidden--visually\" id=\"sk-estimator-id-6\" type=\"checkbox\" checked><label for=\"sk-estimator-id-6\" class=\"sk-toggleable__label sk-toggleable__label-arrow\">LinearRegression</label><div class=\"sk-toggleable__content\"><pre>LinearRegression()</pre></div></div></div></div></div>"
      ],
      "text/plain": [
       "LinearRegression()"
      ]
     },
     "execution_count": 66,
     "metadata": {},
     "output_type": "execute_result"
    },
    {
     "name": "stdout",
     "output_type": "stream",
     "text": [
      "Mean Squared Error: 3.3005555117951397\n"
     ]
    },
    {
     "data": {
      "text/html": [
       "<style>#sk-container-id-7 {color: black;background-color: white;}#sk-container-id-7 pre{padding: 0;}#sk-container-id-7 div.sk-toggleable {background-color: white;}#sk-container-id-7 label.sk-toggleable__label {cursor: pointer;display: block;width: 100%;margin-bottom: 0;padding: 0.3em;box-sizing: border-box;text-align: center;}#sk-container-id-7 label.sk-toggleable__label-arrow:before {content: \"▸\";float: left;margin-right: 0.25em;color: #696969;}#sk-container-id-7 label.sk-toggleable__label-arrow:hover:before {color: black;}#sk-container-id-7 div.sk-estimator:hover label.sk-toggleable__label-arrow:before {color: black;}#sk-container-id-7 div.sk-toggleable__content {max-height: 0;max-width: 0;overflow: hidden;text-align: left;background-color: #f0f8ff;}#sk-container-id-7 div.sk-toggleable__content pre {margin: 0.2em;color: black;border-radius: 0.25em;background-color: #f0f8ff;}#sk-container-id-7 input.sk-toggleable__control:checked~div.sk-toggleable__content {max-height: 200px;max-width: 100%;overflow: auto;}#sk-container-id-7 input.sk-toggleable__control:checked~label.sk-toggleable__label-arrow:before {content: \"▾\";}#sk-container-id-7 div.sk-estimator input.sk-toggleable__control:checked~label.sk-toggleable__label {background-color: #d4ebff;}#sk-container-id-7 div.sk-label input.sk-toggleable__control:checked~label.sk-toggleable__label {background-color: #d4ebff;}#sk-container-id-7 input.sk-hidden--visually {border: 0;clip: rect(1px 1px 1px 1px);clip: rect(1px, 1px, 1px, 1px);height: 1px;margin: -1px;overflow: hidden;padding: 0;position: absolute;width: 1px;}#sk-container-id-7 div.sk-estimator {font-family: monospace;background-color: #f0f8ff;border: 1px dotted black;border-radius: 0.25em;box-sizing: border-box;margin-bottom: 0.5em;}#sk-container-id-7 div.sk-estimator:hover {background-color: #d4ebff;}#sk-container-id-7 div.sk-parallel-item::after {content: \"\";width: 100%;border-bottom: 1px solid gray;flex-grow: 1;}#sk-container-id-7 div.sk-label:hover label.sk-toggleable__label {background-color: #d4ebff;}#sk-container-id-7 div.sk-serial::before {content: \"\";position: absolute;border-left: 1px solid gray;box-sizing: border-box;top: 0;bottom: 0;left: 50%;z-index: 0;}#sk-container-id-7 div.sk-serial {display: flex;flex-direction: column;align-items: center;background-color: white;padding-right: 0.2em;padding-left: 0.2em;position: relative;}#sk-container-id-7 div.sk-item {position: relative;z-index: 1;}#sk-container-id-7 div.sk-parallel {display: flex;align-items: stretch;justify-content: center;background-color: white;position: relative;}#sk-container-id-7 div.sk-item::before, #sk-container-id-7 div.sk-parallel-item::before {content: \"\";position: absolute;border-left: 1px solid gray;box-sizing: border-box;top: 0;bottom: 0;left: 50%;z-index: -1;}#sk-container-id-7 div.sk-parallel-item {display: flex;flex-direction: column;z-index: 1;position: relative;background-color: white;}#sk-container-id-7 div.sk-parallel-item:first-child::after {align-self: flex-end;width: 50%;}#sk-container-id-7 div.sk-parallel-item:last-child::after {align-self: flex-start;width: 50%;}#sk-container-id-7 div.sk-parallel-item:only-child::after {width: 0;}#sk-container-id-7 div.sk-dashed-wrapped {border: 1px dashed gray;margin: 0 0.4em 0.5em 0.4em;box-sizing: border-box;padding-bottom: 0.4em;background-color: white;}#sk-container-id-7 div.sk-label label {font-family: monospace;font-weight: bold;display: inline-block;line-height: 1.2em;}#sk-container-id-7 div.sk-label-container {text-align: center;}#sk-container-id-7 div.sk-container {/* jupyter's `normalize.less` sets `[hidden] { display: none; }` but bootstrap.min.css set `[hidden] { display: none !important; }` so we also need the `!important` here to be able to override the default hidden behavior on the sphinx rendered scikit-learn.org. See: https://github.com/scikit-learn/scikit-learn/issues/21755 */display: inline-block !important;position: relative;}#sk-container-id-7 div.sk-text-repr-fallback {display: none;}</style><div id=\"sk-container-id-7\" class=\"sk-top-container\"><div class=\"sk-text-repr-fallback\"><pre>RandomForestRegressor(random_state=42)</pre><b>In a Jupyter environment, please rerun this cell to show the HTML representation or trust the notebook. <br />On GitHub, the HTML representation is unable to render, please try loading this page with nbviewer.org.</b></div><div class=\"sk-container\" hidden><div class=\"sk-item\"><div class=\"sk-estimator sk-toggleable\"><input class=\"sk-toggleable__control sk-hidden--visually\" id=\"sk-estimator-id-7\" type=\"checkbox\" checked><label for=\"sk-estimator-id-7\" class=\"sk-toggleable__label sk-toggleable__label-arrow\">RandomForestRegressor</label><div class=\"sk-toggleable__content\"><pre>RandomForestRegressor(random_state=42)</pre></div></div></div></div></div>"
      ],
      "text/plain": [
       "RandomForestRegressor(random_state=42)"
      ]
     },
     "execution_count": 66,
     "metadata": {},
     "output_type": "execute_result"
    },
    {
     "name": "stdout",
     "output_type": "stream",
     "text": [
      "Random Forest Mean Squared Error: 3.858706336939722\n"
     ]
    },
    {
     "data": {
      "text/html": [
       "<style>#sk-container-id-8 {color: black;background-color: white;}#sk-container-id-8 pre{padding: 0;}#sk-container-id-8 div.sk-toggleable {background-color: white;}#sk-container-id-8 label.sk-toggleable__label {cursor: pointer;display: block;width: 100%;margin-bottom: 0;padding: 0.3em;box-sizing: border-box;text-align: center;}#sk-container-id-8 label.sk-toggleable__label-arrow:before {content: \"▸\";float: left;margin-right: 0.25em;color: #696969;}#sk-container-id-8 label.sk-toggleable__label-arrow:hover:before {color: black;}#sk-container-id-8 div.sk-estimator:hover label.sk-toggleable__label-arrow:before {color: black;}#sk-container-id-8 div.sk-toggleable__content {max-height: 0;max-width: 0;overflow: hidden;text-align: left;background-color: #f0f8ff;}#sk-container-id-8 div.sk-toggleable__content pre {margin: 0.2em;color: black;border-radius: 0.25em;background-color: #f0f8ff;}#sk-container-id-8 input.sk-toggleable__control:checked~div.sk-toggleable__content {max-height: 200px;max-width: 100%;overflow: auto;}#sk-container-id-8 input.sk-toggleable__control:checked~label.sk-toggleable__label-arrow:before {content: \"▾\";}#sk-container-id-8 div.sk-estimator input.sk-toggleable__control:checked~label.sk-toggleable__label {background-color: #d4ebff;}#sk-container-id-8 div.sk-label input.sk-toggleable__control:checked~label.sk-toggleable__label {background-color: #d4ebff;}#sk-container-id-8 input.sk-hidden--visually {border: 0;clip: rect(1px 1px 1px 1px);clip: rect(1px, 1px, 1px, 1px);height: 1px;margin: -1px;overflow: hidden;padding: 0;position: absolute;width: 1px;}#sk-container-id-8 div.sk-estimator {font-family: monospace;background-color: #f0f8ff;border: 1px dotted black;border-radius: 0.25em;box-sizing: border-box;margin-bottom: 0.5em;}#sk-container-id-8 div.sk-estimator:hover {background-color: #d4ebff;}#sk-container-id-8 div.sk-parallel-item::after {content: \"\";width: 100%;border-bottom: 1px solid gray;flex-grow: 1;}#sk-container-id-8 div.sk-label:hover label.sk-toggleable__label {background-color: #d4ebff;}#sk-container-id-8 div.sk-serial::before {content: \"\";position: absolute;border-left: 1px solid gray;box-sizing: border-box;top: 0;bottom: 0;left: 50%;z-index: 0;}#sk-container-id-8 div.sk-serial {display: flex;flex-direction: column;align-items: center;background-color: white;padding-right: 0.2em;padding-left: 0.2em;position: relative;}#sk-container-id-8 div.sk-item {position: relative;z-index: 1;}#sk-container-id-8 div.sk-parallel {display: flex;align-items: stretch;justify-content: center;background-color: white;position: relative;}#sk-container-id-8 div.sk-item::before, #sk-container-id-8 div.sk-parallel-item::before {content: \"\";position: absolute;border-left: 1px solid gray;box-sizing: border-box;top: 0;bottom: 0;left: 50%;z-index: -1;}#sk-container-id-8 div.sk-parallel-item {display: flex;flex-direction: column;z-index: 1;position: relative;background-color: white;}#sk-container-id-8 div.sk-parallel-item:first-child::after {align-self: flex-end;width: 50%;}#sk-container-id-8 div.sk-parallel-item:last-child::after {align-self: flex-start;width: 50%;}#sk-container-id-8 div.sk-parallel-item:only-child::after {width: 0;}#sk-container-id-8 div.sk-dashed-wrapped {border: 1px dashed gray;margin: 0 0.4em 0.5em 0.4em;box-sizing: border-box;padding-bottom: 0.4em;background-color: white;}#sk-container-id-8 div.sk-label label {font-family: monospace;font-weight: bold;display: inline-block;line-height: 1.2em;}#sk-container-id-8 div.sk-label-container {text-align: center;}#sk-container-id-8 div.sk-container {/* jupyter's `normalize.less` sets `[hidden] { display: none; }` but bootstrap.min.css set `[hidden] { display: none !important; }` so we also need the `!important` here to be able to override the default hidden behavior on the sphinx rendered scikit-learn.org. See: https://github.com/scikit-learn/scikit-learn/issues/21755 */display: inline-block !important;position: relative;}#sk-container-id-8 div.sk-text-repr-fallback {display: none;}</style><div id=\"sk-container-id-8\" class=\"sk-top-container\"><div class=\"sk-text-repr-fallback\"><pre>DecisionTreeRegressor(min_samples_split=5, random_state=42)</pre><b>In a Jupyter environment, please rerun this cell to show the HTML representation or trust the notebook. <br />On GitHub, the HTML representation is unable to render, please try loading this page with nbviewer.org.</b></div><div class=\"sk-container\" hidden><div class=\"sk-item\"><div class=\"sk-estimator sk-toggleable\"><input class=\"sk-toggleable__control sk-hidden--visually\" id=\"sk-estimator-id-8\" type=\"checkbox\" checked><label for=\"sk-estimator-id-8\" class=\"sk-toggleable__label sk-toggleable__label-arrow\">DecisionTreeRegressor</label><div class=\"sk-toggleable__content\"><pre>DecisionTreeRegressor(min_samples_split=5, random_state=42)</pre></div></div></div></div></div>"
      ],
      "text/plain": [
       "DecisionTreeRegressor(min_samples_split=5, random_state=42)"
      ]
     },
     "execution_count": 66,
     "metadata": {},
     "output_type": "execute_result"
    },
    {
     "name": "stdout",
     "output_type": "stream",
     "text": [
      "Decision Tree Mean Squared Error: 5.719109565516057\n"
     ]
    },
    {
     "data": {
      "text/html": [
       "<style>#sk-container-id-9 {color: black;background-color: white;}#sk-container-id-9 pre{padding: 0;}#sk-container-id-9 div.sk-toggleable {background-color: white;}#sk-container-id-9 label.sk-toggleable__label {cursor: pointer;display: block;width: 100%;margin-bottom: 0;padding: 0.3em;box-sizing: border-box;text-align: center;}#sk-container-id-9 label.sk-toggleable__label-arrow:before {content: \"▸\";float: left;margin-right: 0.25em;color: #696969;}#sk-container-id-9 label.sk-toggleable__label-arrow:hover:before {color: black;}#sk-container-id-9 div.sk-estimator:hover label.sk-toggleable__label-arrow:before {color: black;}#sk-container-id-9 div.sk-toggleable__content {max-height: 0;max-width: 0;overflow: hidden;text-align: left;background-color: #f0f8ff;}#sk-container-id-9 div.sk-toggleable__content pre {margin: 0.2em;color: black;border-radius: 0.25em;background-color: #f0f8ff;}#sk-container-id-9 input.sk-toggleable__control:checked~div.sk-toggleable__content {max-height: 200px;max-width: 100%;overflow: auto;}#sk-container-id-9 input.sk-toggleable__control:checked~label.sk-toggleable__label-arrow:before {content: \"▾\";}#sk-container-id-9 div.sk-estimator input.sk-toggleable__control:checked~label.sk-toggleable__label {background-color: #d4ebff;}#sk-container-id-9 div.sk-label input.sk-toggleable__control:checked~label.sk-toggleable__label {background-color: #d4ebff;}#sk-container-id-9 input.sk-hidden--visually {border: 0;clip: rect(1px 1px 1px 1px);clip: rect(1px, 1px, 1px, 1px);height: 1px;margin: -1px;overflow: hidden;padding: 0;position: absolute;width: 1px;}#sk-container-id-9 div.sk-estimator {font-family: monospace;background-color: #f0f8ff;border: 1px dotted black;border-radius: 0.25em;box-sizing: border-box;margin-bottom: 0.5em;}#sk-container-id-9 div.sk-estimator:hover {background-color: #d4ebff;}#sk-container-id-9 div.sk-parallel-item::after {content: \"\";width: 100%;border-bottom: 1px solid gray;flex-grow: 1;}#sk-container-id-9 div.sk-label:hover label.sk-toggleable__label {background-color: #d4ebff;}#sk-container-id-9 div.sk-serial::before {content: \"\";position: absolute;border-left: 1px solid gray;box-sizing: border-box;top: 0;bottom: 0;left: 50%;z-index: 0;}#sk-container-id-9 div.sk-serial {display: flex;flex-direction: column;align-items: center;background-color: white;padding-right: 0.2em;padding-left: 0.2em;position: relative;}#sk-container-id-9 div.sk-item {position: relative;z-index: 1;}#sk-container-id-9 div.sk-parallel {display: flex;align-items: stretch;justify-content: center;background-color: white;position: relative;}#sk-container-id-9 div.sk-item::before, #sk-container-id-9 div.sk-parallel-item::before {content: \"\";position: absolute;border-left: 1px solid gray;box-sizing: border-box;top: 0;bottom: 0;left: 50%;z-index: -1;}#sk-container-id-9 div.sk-parallel-item {display: flex;flex-direction: column;z-index: 1;position: relative;background-color: white;}#sk-container-id-9 div.sk-parallel-item:first-child::after {align-self: flex-end;width: 50%;}#sk-container-id-9 div.sk-parallel-item:last-child::after {align-self: flex-start;width: 50%;}#sk-container-id-9 div.sk-parallel-item:only-child::after {width: 0;}#sk-container-id-9 div.sk-dashed-wrapped {border: 1px dashed gray;margin: 0 0.4em 0.5em 0.4em;box-sizing: border-box;padding-bottom: 0.4em;background-color: white;}#sk-container-id-9 div.sk-label label {font-family: monospace;font-weight: bold;display: inline-block;line-height: 1.2em;}#sk-container-id-9 div.sk-label-container {text-align: center;}#sk-container-id-9 div.sk-container {/* jupyter's `normalize.less` sets `[hidden] { display: none; }` but bootstrap.min.css set `[hidden] { display: none !important; }` so we also need the `!important` here to be able to override the default hidden behavior on the sphinx rendered scikit-learn.org. See: https://github.com/scikit-learn/scikit-learn/issues/21755 */display: inline-block !important;position: relative;}#sk-container-id-9 div.sk-text-repr-fallback {display: none;}</style><div id=\"sk-container-id-9\" class=\"sk-top-container\"><div class=\"sk-text-repr-fallback\"><pre>GradientBoostingRegressor(random_state=42)</pre><b>In a Jupyter environment, please rerun this cell to show the HTML representation or trust the notebook. <br />On GitHub, the HTML representation is unable to render, please try loading this page with nbviewer.org.</b></div><div class=\"sk-container\" hidden><div class=\"sk-item\"><div class=\"sk-estimator sk-toggleable\"><input class=\"sk-toggleable__control sk-hidden--visually\" id=\"sk-estimator-id-9\" type=\"checkbox\" checked><label for=\"sk-estimator-id-9\" class=\"sk-toggleable__label sk-toggleable__label-arrow\">GradientBoostingRegressor</label><div class=\"sk-toggleable__content\"><pre>GradientBoostingRegressor(random_state=42)</pre></div></div></div></div></div>"
      ],
      "text/plain": [
       "GradientBoostingRegressor(random_state=42)"
      ]
     },
     "execution_count": 66,
     "metadata": {},
     "output_type": "execute_result"
    },
    {
     "name": "stdout",
     "output_type": "stream",
     "text": [
      "Gradient Boosting Mean Squared Error: 3.300137581323751\n"
     ]
    },
    {
     "data": {
      "text/html": [
       "<style>#sk-container-id-10 {color: black;background-color: white;}#sk-container-id-10 pre{padding: 0;}#sk-container-id-10 div.sk-toggleable {background-color: white;}#sk-container-id-10 label.sk-toggleable__label {cursor: pointer;display: block;width: 100%;margin-bottom: 0;padding: 0.3em;box-sizing: border-box;text-align: center;}#sk-container-id-10 label.sk-toggleable__label-arrow:before {content: \"▸\";float: left;margin-right: 0.25em;color: #696969;}#sk-container-id-10 label.sk-toggleable__label-arrow:hover:before {color: black;}#sk-container-id-10 div.sk-estimator:hover label.sk-toggleable__label-arrow:before {color: black;}#sk-container-id-10 div.sk-toggleable__content {max-height: 0;max-width: 0;overflow: hidden;text-align: left;background-color: #f0f8ff;}#sk-container-id-10 div.sk-toggleable__content pre {margin: 0.2em;color: black;border-radius: 0.25em;background-color: #f0f8ff;}#sk-container-id-10 input.sk-toggleable__control:checked~div.sk-toggleable__content {max-height: 200px;max-width: 100%;overflow: auto;}#sk-container-id-10 input.sk-toggleable__control:checked~label.sk-toggleable__label-arrow:before {content: \"▾\";}#sk-container-id-10 div.sk-estimator input.sk-toggleable__control:checked~label.sk-toggleable__label {background-color: #d4ebff;}#sk-container-id-10 div.sk-label input.sk-toggleable__control:checked~label.sk-toggleable__label {background-color: #d4ebff;}#sk-container-id-10 input.sk-hidden--visually {border: 0;clip: rect(1px 1px 1px 1px);clip: rect(1px, 1px, 1px, 1px);height: 1px;margin: -1px;overflow: hidden;padding: 0;position: absolute;width: 1px;}#sk-container-id-10 div.sk-estimator {font-family: monospace;background-color: #f0f8ff;border: 1px dotted black;border-radius: 0.25em;box-sizing: border-box;margin-bottom: 0.5em;}#sk-container-id-10 div.sk-estimator:hover {background-color: #d4ebff;}#sk-container-id-10 div.sk-parallel-item::after {content: \"\";width: 100%;border-bottom: 1px solid gray;flex-grow: 1;}#sk-container-id-10 div.sk-label:hover label.sk-toggleable__label {background-color: #d4ebff;}#sk-container-id-10 div.sk-serial::before {content: \"\";position: absolute;border-left: 1px solid gray;box-sizing: border-box;top: 0;bottom: 0;left: 50%;z-index: 0;}#sk-container-id-10 div.sk-serial {display: flex;flex-direction: column;align-items: center;background-color: white;padding-right: 0.2em;padding-left: 0.2em;position: relative;}#sk-container-id-10 div.sk-item {position: relative;z-index: 1;}#sk-container-id-10 div.sk-parallel {display: flex;align-items: stretch;justify-content: center;background-color: white;position: relative;}#sk-container-id-10 div.sk-item::before, #sk-container-id-10 div.sk-parallel-item::before {content: \"\";position: absolute;border-left: 1px solid gray;box-sizing: border-box;top: 0;bottom: 0;left: 50%;z-index: -1;}#sk-container-id-10 div.sk-parallel-item {display: flex;flex-direction: column;z-index: 1;position: relative;background-color: white;}#sk-container-id-10 div.sk-parallel-item:first-child::after {align-self: flex-end;width: 50%;}#sk-container-id-10 div.sk-parallel-item:last-child::after {align-self: flex-start;width: 50%;}#sk-container-id-10 div.sk-parallel-item:only-child::after {width: 0;}#sk-container-id-10 div.sk-dashed-wrapped {border: 1px dashed gray;margin: 0 0.4em 0.5em 0.4em;box-sizing: border-box;padding-bottom: 0.4em;background-color: white;}#sk-container-id-10 div.sk-label label {font-family: monospace;font-weight: bold;display: inline-block;line-height: 1.2em;}#sk-container-id-10 div.sk-label-container {text-align: center;}#sk-container-id-10 div.sk-container {/* jupyter's `normalize.less` sets `[hidden] { display: none; }` but bootstrap.min.css set `[hidden] { display: none !important; }` so we also need the `!important` here to be able to override the default hidden behavior on the sphinx rendered scikit-learn.org. See: https://github.com/scikit-learn/scikit-learn/issues/21755 */display: inline-block !important;position: relative;}#sk-container-id-10 div.sk-text-repr-fallback {display: none;}</style><div id=\"sk-container-id-10\" class=\"sk-top-container\"><div class=\"sk-text-repr-fallback\"><pre>XGBRegressor(base_score=None, booster=None, callbacks=None,\n",
       "             colsample_bylevel=None, colsample_bynode=None,\n",
       "             colsample_bytree=None, device=None, early_stopping_rounds=None,\n",
       "             enable_categorical=False, eval_metric=None, feature_types=None,\n",
       "             gamma=None, grow_policy=None, importance_type=None,\n",
       "             interaction_constraints=None, learning_rate=None, max_bin=None,\n",
       "             max_cat_threshold=None, max_cat_to_onehot=None,\n",
       "             max_delta_step=None, max_depth=None, max_leaves=None,\n",
       "             min_child_weight=None, missing=nan, monotone_constraints=None,\n",
       "             multi_strategy=None, n_estimators=100, n_jobs=None,\n",
       "             num_parallel_tree=None, random_state=42, ...)</pre><b>In a Jupyter environment, please rerun this cell to show the HTML representation or trust the notebook. <br />On GitHub, the HTML representation is unable to render, please try loading this page with nbviewer.org.</b></div><div class=\"sk-container\" hidden><div class=\"sk-item\"><div class=\"sk-estimator sk-toggleable\"><input class=\"sk-toggleable__control sk-hidden--visually\" id=\"sk-estimator-id-10\" type=\"checkbox\" checked><label for=\"sk-estimator-id-10\" class=\"sk-toggleable__label sk-toggleable__label-arrow\">XGBRegressor</label><div class=\"sk-toggleable__content\"><pre>XGBRegressor(base_score=None, booster=None, callbacks=None,\n",
       "             colsample_bylevel=None, colsample_bynode=None,\n",
       "             colsample_bytree=None, device=None, early_stopping_rounds=None,\n",
       "             enable_categorical=False, eval_metric=None, feature_types=None,\n",
       "             gamma=None, grow_policy=None, importance_type=None,\n",
       "             interaction_constraints=None, learning_rate=None, max_bin=None,\n",
       "             max_cat_threshold=None, max_cat_to_onehot=None,\n",
       "             max_delta_step=None, max_depth=None, max_leaves=None,\n",
       "             min_child_weight=None, missing=nan, monotone_constraints=None,\n",
       "             multi_strategy=None, n_estimators=100, n_jobs=None,\n",
       "             num_parallel_tree=None, random_state=42, ...)</pre></div></div></div></div></div>"
      ],
      "text/plain": [
       "XGBRegressor(base_score=None, booster=None, callbacks=None,\n",
       "             colsample_bylevel=None, colsample_bynode=None,\n",
       "             colsample_bytree=None, device=None, early_stopping_rounds=None,\n",
       "             enable_categorical=False, eval_metric=None, feature_types=None,\n",
       "             gamma=None, grow_policy=None, importance_type=None,\n",
       "             interaction_constraints=None, learning_rate=None, max_bin=None,\n",
       "             max_cat_threshold=None, max_cat_to_onehot=None,\n",
       "             max_delta_step=None, max_depth=None, max_leaves=None,\n",
       "             min_child_weight=None, missing=nan, monotone_constraints=None,\n",
       "             multi_strategy=None, n_estimators=100, n_jobs=None,\n",
       "             num_parallel_tree=None, random_state=42, ...)"
      ]
     },
     "execution_count": 66,
     "metadata": {},
     "output_type": "execute_result"
    },
    {
     "name": "stdout",
     "output_type": "stream",
     "text": [
      "XGBoost Mean Squared Error: 3.2646125665400456\n",
      "Silver\n"
     ]
    },
    {
     "data": {
      "text/html": [
       "<style>#sk-container-id-11 {color: black;background-color: white;}#sk-container-id-11 pre{padding: 0;}#sk-container-id-11 div.sk-toggleable {background-color: white;}#sk-container-id-11 label.sk-toggleable__label {cursor: pointer;display: block;width: 100%;margin-bottom: 0;padding: 0.3em;box-sizing: border-box;text-align: center;}#sk-container-id-11 label.sk-toggleable__label-arrow:before {content: \"▸\";float: left;margin-right: 0.25em;color: #696969;}#sk-container-id-11 label.sk-toggleable__label-arrow:hover:before {color: black;}#sk-container-id-11 div.sk-estimator:hover label.sk-toggleable__label-arrow:before {color: black;}#sk-container-id-11 div.sk-toggleable__content {max-height: 0;max-width: 0;overflow: hidden;text-align: left;background-color: #f0f8ff;}#sk-container-id-11 div.sk-toggleable__content pre {margin: 0.2em;color: black;border-radius: 0.25em;background-color: #f0f8ff;}#sk-container-id-11 input.sk-toggleable__control:checked~div.sk-toggleable__content {max-height: 200px;max-width: 100%;overflow: auto;}#sk-container-id-11 input.sk-toggleable__control:checked~label.sk-toggleable__label-arrow:before {content: \"▾\";}#sk-container-id-11 div.sk-estimator input.sk-toggleable__control:checked~label.sk-toggleable__label {background-color: #d4ebff;}#sk-container-id-11 div.sk-label input.sk-toggleable__control:checked~label.sk-toggleable__label {background-color: #d4ebff;}#sk-container-id-11 input.sk-hidden--visually {border: 0;clip: rect(1px 1px 1px 1px);clip: rect(1px, 1px, 1px, 1px);height: 1px;margin: -1px;overflow: hidden;padding: 0;position: absolute;width: 1px;}#sk-container-id-11 div.sk-estimator {font-family: monospace;background-color: #f0f8ff;border: 1px dotted black;border-radius: 0.25em;box-sizing: border-box;margin-bottom: 0.5em;}#sk-container-id-11 div.sk-estimator:hover {background-color: #d4ebff;}#sk-container-id-11 div.sk-parallel-item::after {content: \"\";width: 100%;border-bottom: 1px solid gray;flex-grow: 1;}#sk-container-id-11 div.sk-label:hover label.sk-toggleable__label {background-color: #d4ebff;}#sk-container-id-11 div.sk-serial::before {content: \"\";position: absolute;border-left: 1px solid gray;box-sizing: border-box;top: 0;bottom: 0;left: 50%;z-index: 0;}#sk-container-id-11 div.sk-serial {display: flex;flex-direction: column;align-items: center;background-color: white;padding-right: 0.2em;padding-left: 0.2em;position: relative;}#sk-container-id-11 div.sk-item {position: relative;z-index: 1;}#sk-container-id-11 div.sk-parallel {display: flex;align-items: stretch;justify-content: center;background-color: white;position: relative;}#sk-container-id-11 div.sk-item::before, #sk-container-id-11 div.sk-parallel-item::before {content: \"\";position: absolute;border-left: 1px solid gray;box-sizing: border-box;top: 0;bottom: 0;left: 50%;z-index: -1;}#sk-container-id-11 div.sk-parallel-item {display: flex;flex-direction: column;z-index: 1;position: relative;background-color: white;}#sk-container-id-11 div.sk-parallel-item:first-child::after {align-self: flex-end;width: 50%;}#sk-container-id-11 div.sk-parallel-item:last-child::after {align-self: flex-start;width: 50%;}#sk-container-id-11 div.sk-parallel-item:only-child::after {width: 0;}#sk-container-id-11 div.sk-dashed-wrapped {border: 1px dashed gray;margin: 0 0.4em 0.5em 0.4em;box-sizing: border-box;padding-bottom: 0.4em;background-color: white;}#sk-container-id-11 div.sk-label label {font-family: monospace;font-weight: bold;display: inline-block;line-height: 1.2em;}#sk-container-id-11 div.sk-label-container {text-align: center;}#sk-container-id-11 div.sk-container {/* jupyter's `normalize.less` sets `[hidden] { display: none; }` but bootstrap.min.css set `[hidden] { display: none !important; }` so we also need the `!important` here to be able to override the default hidden behavior on the sphinx rendered scikit-learn.org. See: https://github.com/scikit-learn/scikit-learn/issues/21755 */display: inline-block !important;position: relative;}#sk-container-id-11 div.sk-text-repr-fallback {display: none;}</style><div id=\"sk-container-id-11\" class=\"sk-top-container\"><div class=\"sk-text-repr-fallback\"><pre>LinearRegression()</pre><b>In a Jupyter environment, please rerun this cell to show the HTML representation or trust the notebook. <br />On GitHub, the HTML representation is unable to render, please try loading this page with nbviewer.org.</b></div><div class=\"sk-container\" hidden><div class=\"sk-item\"><div class=\"sk-estimator sk-toggleable\"><input class=\"sk-toggleable__control sk-hidden--visually\" id=\"sk-estimator-id-11\" type=\"checkbox\" checked><label for=\"sk-estimator-id-11\" class=\"sk-toggleable__label sk-toggleable__label-arrow\">LinearRegression</label><div class=\"sk-toggleable__content\"><pre>LinearRegression()</pre></div></div></div></div></div>"
      ],
      "text/plain": [
       "LinearRegression()"
      ]
     },
     "execution_count": 66,
     "metadata": {},
     "output_type": "execute_result"
    },
    {
     "name": "stdout",
     "output_type": "stream",
     "text": [
      "Mean Squared Error: 3.3722249599796377\n"
     ]
    },
    {
     "data": {
      "text/html": [
       "<style>#sk-container-id-12 {color: black;background-color: white;}#sk-container-id-12 pre{padding: 0;}#sk-container-id-12 div.sk-toggleable {background-color: white;}#sk-container-id-12 label.sk-toggleable__label {cursor: pointer;display: block;width: 100%;margin-bottom: 0;padding: 0.3em;box-sizing: border-box;text-align: center;}#sk-container-id-12 label.sk-toggleable__label-arrow:before {content: \"▸\";float: left;margin-right: 0.25em;color: #696969;}#sk-container-id-12 label.sk-toggleable__label-arrow:hover:before {color: black;}#sk-container-id-12 div.sk-estimator:hover label.sk-toggleable__label-arrow:before {color: black;}#sk-container-id-12 div.sk-toggleable__content {max-height: 0;max-width: 0;overflow: hidden;text-align: left;background-color: #f0f8ff;}#sk-container-id-12 div.sk-toggleable__content pre {margin: 0.2em;color: black;border-radius: 0.25em;background-color: #f0f8ff;}#sk-container-id-12 input.sk-toggleable__control:checked~div.sk-toggleable__content {max-height: 200px;max-width: 100%;overflow: auto;}#sk-container-id-12 input.sk-toggleable__control:checked~label.sk-toggleable__label-arrow:before {content: \"▾\";}#sk-container-id-12 div.sk-estimator input.sk-toggleable__control:checked~label.sk-toggleable__label {background-color: #d4ebff;}#sk-container-id-12 div.sk-label input.sk-toggleable__control:checked~label.sk-toggleable__label {background-color: #d4ebff;}#sk-container-id-12 input.sk-hidden--visually {border: 0;clip: rect(1px 1px 1px 1px);clip: rect(1px, 1px, 1px, 1px);height: 1px;margin: -1px;overflow: hidden;padding: 0;position: absolute;width: 1px;}#sk-container-id-12 div.sk-estimator {font-family: monospace;background-color: #f0f8ff;border: 1px dotted black;border-radius: 0.25em;box-sizing: border-box;margin-bottom: 0.5em;}#sk-container-id-12 div.sk-estimator:hover {background-color: #d4ebff;}#sk-container-id-12 div.sk-parallel-item::after {content: \"\";width: 100%;border-bottom: 1px solid gray;flex-grow: 1;}#sk-container-id-12 div.sk-label:hover label.sk-toggleable__label {background-color: #d4ebff;}#sk-container-id-12 div.sk-serial::before {content: \"\";position: absolute;border-left: 1px solid gray;box-sizing: border-box;top: 0;bottom: 0;left: 50%;z-index: 0;}#sk-container-id-12 div.sk-serial {display: flex;flex-direction: column;align-items: center;background-color: white;padding-right: 0.2em;padding-left: 0.2em;position: relative;}#sk-container-id-12 div.sk-item {position: relative;z-index: 1;}#sk-container-id-12 div.sk-parallel {display: flex;align-items: stretch;justify-content: center;background-color: white;position: relative;}#sk-container-id-12 div.sk-item::before, #sk-container-id-12 div.sk-parallel-item::before {content: \"\";position: absolute;border-left: 1px solid gray;box-sizing: border-box;top: 0;bottom: 0;left: 50%;z-index: -1;}#sk-container-id-12 div.sk-parallel-item {display: flex;flex-direction: column;z-index: 1;position: relative;background-color: white;}#sk-container-id-12 div.sk-parallel-item:first-child::after {align-self: flex-end;width: 50%;}#sk-container-id-12 div.sk-parallel-item:last-child::after {align-self: flex-start;width: 50%;}#sk-container-id-12 div.sk-parallel-item:only-child::after {width: 0;}#sk-container-id-12 div.sk-dashed-wrapped {border: 1px dashed gray;margin: 0 0.4em 0.5em 0.4em;box-sizing: border-box;padding-bottom: 0.4em;background-color: white;}#sk-container-id-12 div.sk-label label {font-family: monospace;font-weight: bold;display: inline-block;line-height: 1.2em;}#sk-container-id-12 div.sk-label-container {text-align: center;}#sk-container-id-12 div.sk-container {/* jupyter's `normalize.less` sets `[hidden] { display: none; }` but bootstrap.min.css set `[hidden] { display: none !important; }` so we also need the `!important` here to be able to override the default hidden behavior on the sphinx rendered scikit-learn.org. See: https://github.com/scikit-learn/scikit-learn/issues/21755 */display: inline-block !important;position: relative;}#sk-container-id-12 div.sk-text-repr-fallback {display: none;}</style><div id=\"sk-container-id-12\" class=\"sk-top-container\"><div class=\"sk-text-repr-fallback\"><pre>RandomForestRegressor(random_state=42)</pre><b>In a Jupyter environment, please rerun this cell to show the HTML representation or trust the notebook. <br />On GitHub, the HTML representation is unable to render, please try loading this page with nbviewer.org.</b></div><div class=\"sk-container\" hidden><div class=\"sk-item\"><div class=\"sk-estimator sk-toggleable\"><input class=\"sk-toggleable__control sk-hidden--visually\" id=\"sk-estimator-id-12\" type=\"checkbox\" checked><label for=\"sk-estimator-id-12\" class=\"sk-toggleable__label sk-toggleable__label-arrow\">RandomForestRegressor</label><div class=\"sk-toggleable__content\"><pre>RandomForestRegressor(random_state=42)</pre></div></div></div></div></div>"
      ],
      "text/plain": [
       "RandomForestRegressor(random_state=42)"
      ]
     },
     "execution_count": 66,
     "metadata": {},
     "output_type": "execute_result"
    },
    {
     "name": "stdout",
     "output_type": "stream",
     "text": [
      "Random Forest Mean Squared Error: 3.3279647604327662\n"
     ]
    },
    {
     "data": {
      "text/html": [
       "<style>#sk-container-id-13 {color: black;background-color: white;}#sk-container-id-13 pre{padding: 0;}#sk-container-id-13 div.sk-toggleable {background-color: white;}#sk-container-id-13 label.sk-toggleable__label {cursor: pointer;display: block;width: 100%;margin-bottom: 0;padding: 0.3em;box-sizing: border-box;text-align: center;}#sk-container-id-13 label.sk-toggleable__label-arrow:before {content: \"▸\";float: left;margin-right: 0.25em;color: #696969;}#sk-container-id-13 label.sk-toggleable__label-arrow:hover:before {color: black;}#sk-container-id-13 div.sk-estimator:hover label.sk-toggleable__label-arrow:before {color: black;}#sk-container-id-13 div.sk-toggleable__content {max-height: 0;max-width: 0;overflow: hidden;text-align: left;background-color: #f0f8ff;}#sk-container-id-13 div.sk-toggleable__content pre {margin: 0.2em;color: black;border-radius: 0.25em;background-color: #f0f8ff;}#sk-container-id-13 input.sk-toggleable__control:checked~div.sk-toggleable__content {max-height: 200px;max-width: 100%;overflow: auto;}#sk-container-id-13 input.sk-toggleable__control:checked~label.sk-toggleable__label-arrow:before {content: \"▾\";}#sk-container-id-13 div.sk-estimator input.sk-toggleable__control:checked~label.sk-toggleable__label {background-color: #d4ebff;}#sk-container-id-13 div.sk-label input.sk-toggleable__control:checked~label.sk-toggleable__label {background-color: #d4ebff;}#sk-container-id-13 input.sk-hidden--visually {border: 0;clip: rect(1px 1px 1px 1px);clip: rect(1px, 1px, 1px, 1px);height: 1px;margin: -1px;overflow: hidden;padding: 0;position: absolute;width: 1px;}#sk-container-id-13 div.sk-estimator {font-family: monospace;background-color: #f0f8ff;border: 1px dotted black;border-radius: 0.25em;box-sizing: border-box;margin-bottom: 0.5em;}#sk-container-id-13 div.sk-estimator:hover {background-color: #d4ebff;}#sk-container-id-13 div.sk-parallel-item::after {content: \"\";width: 100%;border-bottom: 1px solid gray;flex-grow: 1;}#sk-container-id-13 div.sk-label:hover label.sk-toggleable__label {background-color: #d4ebff;}#sk-container-id-13 div.sk-serial::before {content: \"\";position: absolute;border-left: 1px solid gray;box-sizing: border-box;top: 0;bottom: 0;left: 50%;z-index: 0;}#sk-container-id-13 div.sk-serial {display: flex;flex-direction: column;align-items: center;background-color: white;padding-right: 0.2em;padding-left: 0.2em;position: relative;}#sk-container-id-13 div.sk-item {position: relative;z-index: 1;}#sk-container-id-13 div.sk-parallel {display: flex;align-items: stretch;justify-content: center;background-color: white;position: relative;}#sk-container-id-13 div.sk-item::before, #sk-container-id-13 div.sk-parallel-item::before {content: \"\";position: absolute;border-left: 1px solid gray;box-sizing: border-box;top: 0;bottom: 0;left: 50%;z-index: -1;}#sk-container-id-13 div.sk-parallel-item {display: flex;flex-direction: column;z-index: 1;position: relative;background-color: white;}#sk-container-id-13 div.sk-parallel-item:first-child::after {align-self: flex-end;width: 50%;}#sk-container-id-13 div.sk-parallel-item:last-child::after {align-self: flex-start;width: 50%;}#sk-container-id-13 div.sk-parallel-item:only-child::after {width: 0;}#sk-container-id-13 div.sk-dashed-wrapped {border: 1px dashed gray;margin: 0 0.4em 0.5em 0.4em;box-sizing: border-box;padding-bottom: 0.4em;background-color: white;}#sk-container-id-13 div.sk-label label {font-family: monospace;font-weight: bold;display: inline-block;line-height: 1.2em;}#sk-container-id-13 div.sk-label-container {text-align: center;}#sk-container-id-13 div.sk-container {/* jupyter's `normalize.less` sets `[hidden] { display: none; }` but bootstrap.min.css set `[hidden] { display: none !important; }` so we also need the `!important` here to be able to override the default hidden behavior on the sphinx rendered scikit-learn.org. See: https://github.com/scikit-learn/scikit-learn/issues/21755 */display: inline-block !important;position: relative;}#sk-container-id-13 div.sk-text-repr-fallback {display: none;}</style><div id=\"sk-container-id-13\" class=\"sk-top-container\"><div class=\"sk-text-repr-fallback\"><pre>DecisionTreeRegressor(min_samples_split=5, random_state=42)</pre><b>In a Jupyter environment, please rerun this cell to show the HTML representation or trust the notebook. <br />On GitHub, the HTML representation is unable to render, please try loading this page with nbviewer.org.</b></div><div class=\"sk-container\" hidden><div class=\"sk-item\"><div class=\"sk-estimator sk-toggleable\"><input class=\"sk-toggleable__control sk-hidden--visually\" id=\"sk-estimator-id-13\" type=\"checkbox\" checked><label for=\"sk-estimator-id-13\" class=\"sk-toggleable__label sk-toggleable__label-arrow\">DecisionTreeRegressor</label><div class=\"sk-toggleable__content\"><pre>DecisionTreeRegressor(min_samples_split=5, random_state=42)</pre></div></div></div></div></div>"
      ],
      "text/plain": [
       "DecisionTreeRegressor(min_samples_split=5, random_state=42)"
      ]
     },
     "execution_count": 66,
     "metadata": {},
     "output_type": "execute_result"
    },
    {
     "name": "stdout",
     "output_type": "stream",
     "text": [
      "Decision Tree Mean Squared Error: 5.0841651640048084\n"
     ]
    },
    {
     "data": {
      "text/html": [
       "<style>#sk-container-id-14 {color: black;background-color: white;}#sk-container-id-14 pre{padding: 0;}#sk-container-id-14 div.sk-toggleable {background-color: white;}#sk-container-id-14 label.sk-toggleable__label {cursor: pointer;display: block;width: 100%;margin-bottom: 0;padding: 0.3em;box-sizing: border-box;text-align: center;}#sk-container-id-14 label.sk-toggleable__label-arrow:before {content: \"▸\";float: left;margin-right: 0.25em;color: #696969;}#sk-container-id-14 label.sk-toggleable__label-arrow:hover:before {color: black;}#sk-container-id-14 div.sk-estimator:hover label.sk-toggleable__label-arrow:before {color: black;}#sk-container-id-14 div.sk-toggleable__content {max-height: 0;max-width: 0;overflow: hidden;text-align: left;background-color: #f0f8ff;}#sk-container-id-14 div.sk-toggleable__content pre {margin: 0.2em;color: black;border-radius: 0.25em;background-color: #f0f8ff;}#sk-container-id-14 input.sk-toggleable__control:checked~div.sk-toggleable__content {max-height: 200px;max-width: 100%;overflow: auto;}#sk-container-id-14 input.sk-toggleable__control:checked~label.sk-toggleable__label-arrow:before {content: \"▾\";}#sk-container-id-14 div.sk-estimator input.sk-toggleable__control:checked~label.sk-toggleable__label {background-color: #d4ebff;}#sk-container-id-14 div.sk-label input.sk-toggleable__control:checked~label.sk-toggleable__label {background-color: #d4ebff;}#sk-container-id-14 input.sk-hidden--visually {border: 0;clip: rect(1px 1px 1px 1px);clip: rect(1px, 1px, 1px, 1px);height: 1px;margin: -1px;overflow: hidden;padding: 0;position: absolute;width: 1px;}#sk-container-id-14 div.sk-estimator {font-family: monospace;background-color: #f0f8ff;border: 1px dotted black;border-radius: 0.25em;box-sizing: border-box;margin-bottom: 0.5em;}#sk-container-id-14 div.sk-estimator:hover {background-color: #d4ebff;}#sk-container-id-14 div.sk-parallel-item::after {content: \"\";width: 100%;border-bottom: 1px solid gray;flex-grow: 1;}#sk-container-id-14 div.sk-label:hover label.sk-toggleable__label {background-color: #d4ebff;}#sk-container-id-14 div.sk-serial::before {content: \"\";position: absolute;border-left: 1px solid gray;box-sizing: border-box;top: 0;bottom: 0;left: 50%;z-index: 0;}#sk-container-id-14 div.sk-serial {display: flex;flex-direction: column;align-items: center;background-color: white;padding-right: 0.2em;padding-left: 0.2em;position: relative;}#sk-container-id-14 div.sk-item {position: relative;z-index: 1;}#sk-container-id-14 div.sk-parallel {display: flex;align-items: stretch;justify-content: center;background-color: white;position: relative;}#sk-container-id-14 div.sk-item::before, #sk-container-id-14 div.sk-parallel-item::before {content: \"\";position: absolute;border-left: 1px solid gray;box-sizing: border-box;top: 0;bottom: 0;left: 50%;z-index: -1;}#sk-container-id-14 div.sk-parallel-item {display: flex;flex-direction: column;z-index: 1;position: relative;background-color: white;}#sk-container-id-14 div.sk-parallel-item:first-child::after {align-self: flex-end;width: 50%;}#sk-container-id-14 div.sk-parallel-item:last-child::after {align-self: flex-start;width: 50%;}#sk-container-id-14 div.sk-parallel-item:only-child::after {width: 0;}#sk-container-id-14 div.sk-dashed-wrapped {border: 1px dashed gray;margin: 0 0.4em 0.5em 0.4em;box-sizing: border-box;padding-bottom: 0.4em;background-color: white;}#sk-container-id-14 div.sk-label label {font-family: monospace;font-weight: bold;display: inline-block;line-height: 1.2em;}#sk-container-id-14 div.sk-label-container {text-align: center;}#sk-container-id-14 div.sk-container {/* jupyter's `normalize.less` sets `[hidden] { display: none; }` but bootstrap.min.css set `[hidden] { display: none !important; }` so we also need the `!important` here to be able to override the default hidden behavior on the sphinx rendered scikit-learn.org. See: https://github.com/scikit-learn/scikit-learn/issues/21755 */display: inline-block !important;position: relative;}#sk-container-id-14 div.sk-text-repr-fallback {display: none;}</style><div id=\"sk-container-id-14\" class=\"sk-top-container\"><div class=\"sk-text-repr-fallback\"><pre>GradientBoostingRegressor(random_state=42)</pre><b>In a Jupyter environment, please rerun this cell to show the HTML representation or trust the notebook. <br />On GitHub, the HTML representation is unable to render, please try loading this page with nbviewer.org.</b></div><div class=\"sk-container\" hidden><div class=\"sk-item\"><div class=\"sk-estimator sk-toggleable\"><input class=\"sk-toggleable__control sk-hidden--visually\" id=\"sk-estimator-id-14\" type=\"checkbox\" checked><label for=\"sk-estimator-id-14\" class=\"sk-toggleable__label sk-toggleable__label-arrow\">GradientBoostingRegressor</label><div class=\"sk-toggleable__content\"><pre>GradientBoostingRegressor(random_state=42)</pre></div></div></div></div></div>"
      ],
      "text/plain": [
       "GradientBoostingRegressor(random_state=42)"
      ]
     },
     "execution_count": 66,
     "metadata": {},
     "output_type": "execute_result"
    },
    {
     "name": "stdout",
     "output_type": "stream",
     "text": [
      "Gradient Boosting Mean Squared Error: 3.231006861846671\n"
     ]
    },
    {
     "data": {
      "text/html": [
       "<style>#sk-container-id-15 {color: black;background-color: white;}#sk-container-id-15 pre{padding: 0;}#sk-container-id-15 div.sk-toggleable {background-color: white;}#sk-container-id-15 label.sk-toggleable__label {cursor: pointer;display: block;width: 100%;margin-bottom: 0;padding: 0.3em;box-sizing: border-box;text-align: center;}#sk-container-id-15 label.sk-toggleable__label-arrow:before {content: \"▸\";float: left;margin-right: 0.25em;color: #696969;}#sk-container-id-15 label.sk-toggleable__label-arrow:hover:before {color: black;}#sk-container-id-15 div.sk-estimator:hover label.sk-toggleable__label-arrow:before {color: black;}#sk-container-id-15 div.sk-toggleable__content {max-height: 0;max-width: 0;overflow: hidden;text-align: left;background-color: #f0f8ff;}#sk-container-id-15 div.sk-toggleable__content pre {margin: 0.2em;color: black;border-radius: 0.25em;background-color: #f0f8ff;}#sk-container-id-15 input.sk-toggleable__control:checked~div.sk-toggleable__content {max-height: 200px;max-width: 100%;overflow: auto;}#sk-container-id-15 input.sk-toggleable__control:checked~label.sk-toggleable__label-arrow:before {content: \"▾\";}#sk-container-id-15 div.sk-estimator input.sk-toggleable__control:checked~label.sk-toggleable__label {background-color: #d4ebff;}#sk-container-id-15 div.sk-label input.sk-toggleable__control:checked~label.sk-toggleable__label {background-color: #d4ebff;}#sk-container-id-15 input.sk-hidden--visually {border: 0;clip: rect(1px 1px 1px 1px);clip: rect(1px, 1px, 1px, 1px);height: 1px;margin: -1px;overflow: hidden;padding: 0;position: absolute;width: 1px;}#sk-container-id-15 div.sk-estimator {font-family: monospace;background-color: #f0f8ff;border: 1px dotted black;border-radius: 0.25em;box-sizing: border-box;margin-bottom: 0.5em;}#sk-container-id-15 div.sk-estimator:hover {background-color: #d4ebff;}#sk-container-id-15 div.sk-parallel-item::after {content: \"\";width: 100%;border-bottom: 1px solid gray;flex-grow: 1;}#sk-container-id-15 div.sk-label:hover label.sk-toggleable__label {background-color: #d4ebff;}#sk-container-id-15 div.sk-serial::before {content: \"\";position: absolute;border-left: 1px solid gray;box-sizing: border-box;top: 0;bottom: 0;left: 50%;z-index: 0;}#sk-container-id-15 div.sk-serial {display: flex;flex-direction: column;align-items: center;background-color: white;padding-right: 0.2em;padding-left: 0.2em;position: relative;}#sk-container-id-15 div.sk-item {position: relative;z-index: 1;}#sk-container-id-15 div.sk-parallel {display: flex;align-items: stretch;justify-content: center;background-color: white;position: relative;}#sk-container-id-15 div.sk-item::before, #sk-container-id-15 div.sk-parallel-item::before {content: \"\";position: absolute;border-left: 1px solid gray;box-sizing: border-box;top: 0;bottom: 0;left: 50%;z-index: -1;}#sk-container-id-15 div.sk-parallel-item {display: flex;flex-direction: column;z-index: 1;position: relative;background-color: white;}#sk-container-id-15 div.sk-parallel-item:first-child::after {align-self: flex-end;width: 50%;}#sk-container-id-15 div.sk-parallel-item:last-child::after {align-self: flex-start;width: 50%;}#sk-container-id-15 div.sk-parallel-item:only-child::after {width: 0;}#sk-container-id-15 div.sk-dashed-wrapped {border: 1px dashed gray;margin: 0 0.4em 0.5em 0.4em;box-sizing: border-box;padding-bottom: 0.4em;background-color: white;}#sk-container-id-15 div.sk-label label {font-family: monospace;font-weight: bold;display: inline-block;line-height: 1.2em;}#sk-container-id-15 div.sk-label-container {text-align: center;}#sk-container-id-15 div.sk-container {/* jupyter's `normalize.less` sets `[hidden] { display: none; }` but bootstrap.min.css set `[hidden] { display: none !important; }` so we also need the `!important` here to be able to override the default hidden behavior on the sphinx rendered scikit-learn.org. See: https://github.com/scikit-learn/scikit-learn/issues/21755 */display: inline-block !important;position: relative;}#sk-container-id-15 div.sk-text-repr-fallback {display: none;}</style><div id=\"sk-container-id-15\" class=\"sk-top-container\"><div class=\"sk-text-repr-fallback\"><pre>XGBRegressor(base_score=None, booster=None, callbacks=None,\n",
       "             colsample_bylevel=None, colsample_bynode=None,\n",
       "             colsample_bytree=None, device=None, early_stopping_rounds=None,\n",
       "             enable_categorical=False, eval_metric=None, feature_types=None,\n",
       "             gamma=None, grow_policy=None, importance_type=None,\n",
       "             interaction_constraints=None, learning_rate=None, max_bin=None,\n",
       "             max_cat_threshold=None, max_cat_to_onehot=None,\n",
       "             max_delta_step=None, max_depth=None, max_leaves=None,\n",
       "             min_child_weight=None, missing=nan, monotone_constraints=None,\n",
       "             multi_strategy=None, n_estimators=100, n_jobs=None,\n",
       "             num_parallel_tree=None, random_state=42, ...)</pre><b>In a Jupyter environment, please rerun this cell to show the HTML representation or trust the notebook. <br />On GitHub, the HTML representation is unable to render, please try loading this page with nbviewer.org.</b></div><div class=\"sk-container\" hidden><div class=\"sk-item\"><div class=\"sk-estimator sk-toggleable\"><input class=\"sk-toggleable__control sk-hidden--visually\" id=\"sk-estimator-id-15\" type=\"checkbox\" checked><label for=\"sk-estimator-id-15\" class=\"sk-toggleable__label sk-toggleable__label-arrow\">XGBRegressor</label><div class=\"sk-toggleable__content\"><pre>XGBRegressor(base_score=None, booster=None, callbacks=None,\n",
       "             colsample_bylevel=None, colsample_bynode=None,\n",
       "             colsample_bytree=None, device=None, early_stopping_rounds=None,\n",
       "             enable_categorical=False, eval_metric=None, feature_types=None,\n",
       "             gamma=None, grow_policy=None, importance_type=None,\n",
       "             interaction_constraints=None, learning_rate=None, max_bin=None,\n",
       "             max_cat_threshold=None, max_cat_to_onehot=None,\n",
       "             max_delta_step=None, max_depth=None, max_leaves=None,\n",
       "             min_child_weight=None, missing=nan, monotone_constraints=None,\n",
       "             multi_strategy=None, n_estimators=100, n_jobs=None,\n",
       "             num_parallel_tree=None, random_state=42, ...)</pre></div></div></div></div></div>"
      ],
      "text/plain": [
       "XGBRegressor(base_score=None, booster=None, callbacks=None,\n",
       "             colsample_bylevel=None, colsample_bynode=None,\n",
       "             colsample_bytree=None, device=None, early_stopping_rounds=None,\n",
       "             enable_categorical=False, eval_metric=None, feature_types=None,\n",
       "             gamma=None, grow_policy=None, importance_type=None,\n",
       "             interaction_constraints=None, learning_rate=None, max_bin=None,\n",
       "             max_cat_threshold=None, max_cat_to_onehot=None,\n",
       "             max_delta_step=None, max_depth=None, max_leaves=None,\n",
       "             min_child_weight=None, missing=nan, monotone_constraints=None,\n",
       "             multi_strategy=None, n_estimators=100, n_jobs=None,\n",
       "             num_parallel_tree=None, random_state=42, ...)"
      ]
     },
     "execution_count": 66,
     "metadata": {},
     "output_type": "execute_result"
    },
    {
     "name": "stdout",
     "output_type": "stream",
     "text": [
      "XGBoost Mean Squared Error: 3.638719342180534\n",
      "Bronze\n"
     ]
    },
    {
     "data": {
      "text/html": [
       "<style>#sk-container-id-16 {color: black;background-color: white;}#sk-container-id-16 pre{padding: 0;}#sk-container-id-16 div.sk-toggleable {background-color: white;}#sk-container-id-16 label.sk-toggleable__label {cursor: pointer;display: block;width: 100%;margin-bottom: 0;padding: 0.3em;box-sizing: border-box;text-align: center;}#sk-container-id-16 label.sk-toggleable__label-arrow:before {content: \"▸\";float: left;margin-right: 0.25em;color: #696969;}#sk-container-id-16 label.sk-toggleable__label-arrow:hover:before {color: black;}#sk-container-id-16 div.sk-estimator:hover label.sk-toggleable__label-arrow:before {color: black;}#sk-container-id-16 div.sk-toggleable__content {max-height: 0;max-width: 0;overflow: hidden;text-align: left;background-color: #f0f8ff;}#sk-container-id-16 div.sk-toggleable__content pre {margin: 0.2em;color: black;border-radius: 0.25em;background-color: #f0f8ff;}#sk-container-id-16 input.sk-toggleable__control:checked~div.sk-toggleable__content {max-height: 200px;max-width: 100%;overflow: auto;}#sk-container-id-16 input.sk-toggleable__control:checked~label.sk-toggleable__label-arrow:before {content: \"▾\";}#sk-container-id-16 div.sk-estimator input.sk-toggleable__control:checked~label.sk-toggleable__label {background-color: #d4ebff;}#sk-container-id-16 div.sk-label input.sk-toggleable__control:checked~label.sk-toggleable__label {background-color: #d4ebff;}#sk-container-id-16 input.sk-hidden--visually {border: 0;clip: rect(1px 1px 1px 1px);clip: rect(1px, 1px, 1px, 1px);height: 1px;margin: -1px;overflow: hidden;padding: 0;position: absolute;width: 1px;}#sk-container-id-16 div.sk-estimator {font-family: monospace;background-color: #f0f8ff;border: 1px dotted black;border-radius: 0.25em;box-sizing: border-box;margin-bottom: 0.5em;}#sk-container-id-16 div.sk-estimator:hover {background-color: #d4ebff;}#sk-container-id-16 div.sk-parallel-item::after {content: \"\";width: 100%;border-bottom: 1px solid gray;flex-grow: 1;}#sk-container-id-16 div.sk-label:hover label.sk-toggleable__label {background-color: #d4ebff;}#sk-container-id-16 div.sk-serial::before {content: \"\";position: absolute;border-left: 1px solid gray;box-sizing: border-box;top: 0;bottom: 0;left: 50%;z-index: 0;}#sk-container-id-16 div.sk-serial {display: flex;flex-direction: column;align-items: center;background-color: white;padding-right: 0.2em;padding-left: 0.2em;position: relative;}#sk-container-id-16 div.sk-item {position: relative;z-index: 1;}#sk-container-id-16 div.sk-parallel {display: flex;align-items: stretch;justify-content: center;background-color: white;position: relative;}#sk-container-id-16 div.sk-item::before, #sk-container-id-16 div.sk-parallel-item::before {content: \"\";position: absolute;border-left: 1px solid gray;box-sizing: border-box;top: 0;bottom: 0;left: 50%;z-index: -1;}#sk-container-id-16 div.sk-parallel-item {display: flex;flex-direction: column;z-index: 1;position: relative;background-color: white;}#sk-container-id-16 div.sk-parallel-item:first-child::after {align-self: flex-end;width: 50%;}#sk-container-id-16 div.sk-parallel-item:last-child::after {align-self: flex-start;width: 50%;}#sk-container-id-16 div.sk-parallel-item:only-child::after {width: 0;}#sk-container-id-16 div.sk-dashed-wrapped {border: 1px dashed gray;margin: 0 0.4em 0.5em 0.4em;box-sizing: border-box;padding-bottom: 0.4em;background-color: white;}#sk-container-id-16 div.sk-label label {font-family: monospace;font-weight: bold;display: inline-block;line-height: 1.2em;}#sk-container-id-16 div.sk-label-container {text-align: center;}#sk-container-id-16 div.sk-container {/* jupyter's `normalize.less` sets `[hidden] { display: none; }` but bootstrap.min.css set `[hidden] { display: none !important; }` so we also need the `!important` here to be able to override the default hidden behavior on the sphinx rendered scikit-learn.org. See: https://github.com/scikit-learn/scikit-learn/issues/21755 */display: inline-block !important;position: relative;}#sk-container-id-16 div.sk-text-repr-fallback {display: none;}</style><div id=\"sk-container-id-16\" class=\"sk-top-container\"><div class=\"sk-text-repr-fallback\"><pre>LinearRegression()</pre><b>In a Jupyter environment, please rerun this cell to show the HTML representation or trust the notebook. <br />On GitHub, the HTML representation is unable to render, please try loading this page with nbviewer.org.</b></div><div class=\"sk-container\" hidden><div class=\"sk-item\"><div class=\"sk-estimator sk-toggleable\"><input class=\"sk-toggleable__control sk-hidden--visually\" id=\"sk-estimator-id-16\" type=\"checkbox\" checked><label for=\"sk-estimator-id-16\" class=\"sk-toggleable__label sk-toggleable__label-arrow\">LinearRegression</label><div class=\"sk-toggleable__content\"><pre>LinearRegression()</pre></div></div></div></div></div>"
      ],
      "text/plain": [
       "LinearRegression()"
      ]
     },
     "execution_count": 66,
     "metadata": {},
     "output_type": "execute_result"
    },
    {
     "name": "stdout",
     "output_type": "stream",
     "text": [
      "Mean Squared Error: 3.3870604054977633\n"
     ]
    },
    {
     "data": {
      "text/html": [
       "<style>#sk-container-id-17 {color: black;background-color: white;}#sk-container-id-17 pre{padding: 0;}#sk-container-id-17 div.sk-toggleable {background-color: white;}#sk-container-id-17 label.sk-toggleable__label {cursor: pointer;display: block;width: 100%;margin-bottom: 0;padding: 0.3em;box-sizing: border-box;text-align: center;}#sk-container-id-17 label.sk-toggleable__label-arrow:before {content: \"▸\";float: left;margin-right: 0.25em;color: #696969;}#sk-container-id-17 label.sk-toggleable__label-arrow:hover:before {color: black;}#sk-container-id-17 div.sk-estimator:hover label.sk-toggleable__label-arrow:before {color: black;}#sk-container-id-17 div.sk-toggleable__content {max-height: 0;max-width: 0;overflow: hidden;text-align: left;background-color: #f0f8ff;}#sk-container-id-17 div.sk-toggleable__content pre {margin: 0.2em;color: black;border-radius: 0.25em;background-color: #f0f8ff;}#sk-container-id-17 input.sk-toggleable__control:checked~div.sk-toggleable__content {max-height: 200px;max-width: 100%;overflow: auto;}#sk-container-id-17 input.sk-toggleable__control:checked~label.sk-toggleable__label-arrow:before {content: \"▾\";}#sk-container-id-17 div.sk-estimator input.sk-toggleable__control:checked~label.sk-toggleable__label {background-color: #d4ebff;}#sk-container-id-17 div.sk-label input.sk-toggleable__control:checked~label.sk-toggleable__label {background-color: #d4ebff;}#sk-container-id-17 input.sk-hidden--visually {border: 0;clip: rect(1px 1px 1px 1px);clip: rect(1px, 1px, 1px, 1px);height: 1px;margin: -1px;overflow: hidden;padding: 0;position: absolute;width: 1px;}#sk-container-id-17 div.sk-estimator {font-family: monospace;background-color: #f0f8ff;border: 1px dotted black;border-radius: 0.25em;box-sizing: border-box;margin-bottom: 0.5em;}#sk-container-id-17 div.sk-estimator:hover {background-color: #d4ebff;}#sk-container-id-17 div.sk-parallel-item::after {content: \"\";width: 100%;border-bottom: 1px solid gray;flex-grow: 1;}#sk-container-id-17 div.sk-label:hover label.sk-toggleable__label {background-color: #d4ebff;}#sk-container-id-17 div.sk-serial::before {content: \"\";position: absolute;border-left: 1px solid gray;box-sizing: border-box;top: 0;bottom: 0;left: 50%;z-index: 0;}#sk-container-id-17 div.sk-serial {display: flex;flex-direction: column;align-items: center;background-color: white;padding-right: 0.2em;padding-left: 0.2em;position: relative;}#sk-container-id-17 div.sk-item {position: relative;z-index: 1;}#sk-container-id-17 div.sk-parallel {display: flex;align-items: stretch;justify-content: center;background-color: white;position: relative;}#sk-container-id-17 div.sk-item::before, #sk-container-id-17 div.sk-parallel-item::before {content: \"\";position: absolute;border-left: 1px solid gray;box-sizing: border-box;top: 0;bottom: 0;left: 50%;z-index: -1;}#sk-container-id-17 div.sk-parallel-item {display: flex;flex-direction: column;z-index: 1;position: relative;background-color: white;}#sk-container-id-17 div.sk-parallel-item:first-child::after {align-self: flex-end;width: 50%;}#sk-container-id-17 div.sk-parallel-item:last-child::after {align-self: flex-start;width: 50%;}#sk-container-id-17 div.sk-parallel-item:only-child::after {width: 0;}#sk-container-id-17 div.sk-dashed-wrapped {border: 1px dashed gray;margin: 0 0.4em 0.5em 0.4em;box-sizing: border-box;padding-bottom: 0.4em;background-color: white;}#sk-container-id-17 div.sk-label label {font-family: monospace;font-weight: bold;display: inline-block;line-height: 1.2em;}#sk-container-id-17 div.sk-label-container {text-align: center;}#sk-container-id-17 div.sk-container {/* jupyter's `normalize.less` sets `[hidden] { display: none; }` but bootstrap.min.css set `[hidden] { display: none !important; }` so we also need the `!important` here to be able to override the default hidden behavior on the sphinx rendered scikit-learn.org. See: https://github.com/scikit-learn/scikit-learn/issues/21755 */display: inline-block !important;position: relative;}#sk-container-id-17 div.sk-text-repr-fallback {display: none;}</style><div id=\"sk-container-id-17\" class=\"sk-top-container\"><div class=\"sk-text-repr-fallback\"><pre>RandomForestRegressor(random_state=42)</pre><b>In a Jupyter environment, please rerun this cell to show the HTML representation or trust the notebook. <br />On GitHub, the HTML representation is unable to render, please try loading this page with nbviewer.org.</b></div><div class=\"sk-container\" hidden><div class=\"sk-item\"><div class=\"sk-estimator sk-toggleable\"><input class=\"sk-toggleable__control sk-hidden--visually\" id=\"sk-estimator-id-17\" type=\"checkbox\" checked><label for=\"sk-estimator-id-17\" class=\"sk-toggleable__label sk-toggleable__label-arrow\">RandomForestRegressor</label><div class=\"sk-toggleable__content\"><pre>RandomForestRegressor(random_state=42)</pre></div></div></div></div></div>"
      ],
      "text/plain": [
       "RandomForestRegressor(random_state=42)"
      ]
     },
     "execution_count": 66,
     "metadata": {},
     "output_type": "execute_result"
    },
    {
     "name": "stdout",
     "output_type": "stream",
     "text": [
      "Random Forest Mean Squared Error: 3.6398804482225664\n"
     ]
    },
    {
     "data": {
      "text/html": [
       "<style>#sk-container-id-18 {color: black;background-color: white;}#sk-container-id-18 pre{padding: 0;}#sk-container-id-18 div.sk-toggleable {background-color: white;}#sk-container-id-18 label.sk-toggleable__label {cursor: pointer;display: block;width: 100%;margin-bottom: 0;padding: 0.3em;box-sizing: border-box;text-align: center;}#sk-container-id-18 label.sk-toggleable__label-arrow:before {content: \"▸\";float: left;margin-right: 0.25em;color: #696969;}#sk-container-id-18 label.sk-toggleable__label-arrow:hover:before {color: black;}#sk-container-id-18 div.sk-estimator:hover label.sk-toggleable__label-arrow:before {color: black;}#sk-container-id-18 div.sk-toggleable__content {max-height: 0;max-width: 0;overflow: hidden;text-align: left;background-color: #f0f8ff;}#sk-container-id-18 div.sk-toggleable__content pre {margin: 0.2em;color: black;border-radius: 0.25em;background-color: #f0f8ff;}#sk-container-id-18 input.sk-toggleable__control:checked~div.sk-toggleable__content {max-height: 200px;max-width: 100%;overflow: auto;}#sk-container-id-18 input.sk-toggleable__control:checked~label.sk-toggleable__label-arrow:before {content: \"▾\";}#sk-container-id-18 div.sk-estimator input.sk-toggleable__control:checked~label.sk-toggleable__label {background-color: #d4ebff;}#sk-container-id-18 div.sk-label input.sk-toggleable__control:checked~label.sk-toggleable__label {background-color: #d4ebff;}#sk-container-id-18 input.sk-hidden--visually {border: 0;clip: rect(1px 1px 1px 1px);clip: rect(1px, 1px, 1px, 1px);height: 1px;margin: -1px;overflow: hidden;padding: 0;position: absolute;width: 1px;}#sk-container-id-18 div.sk-estimator {font-family: monospace;background-color: #f0f8ff;border: 1px dotted black;border-radius: 0.25em;box-sizing: border-box;margin-bottom: 0.5em;}#sk-container-id-18 div.sk-estimator:hover {background-color: #d4ebff;}#sk-container-id-18 div.sk-parallel-item::after {content: \"\";width: 100%;border-bottom: 1px solid gray;flex-grow: 1;}#sk-container-id-18 div.sk-label:hover label.sk-toggleable__label {background-color: #d4ebff;}#sk-container-id-18 div.sk-serial::before {content: \"\";position: absolute;border-left: 1px solid gray;box-sizing: border-box;top: 0;bottom: 0;left: 50%;z-index: 0;}#sk-container-id-18 div.sk-serial {display: flex;flex-direction: column;align-items: center;background-color: white;padding-right: 0.2em;padding-left: 0.2em;position: relative;}#sk-container-id-18 div.sk-item {position: relative;z-index: 1;}#sk-container-id-18 div.sk-parallel {display: flex;align-items: stretch;justify-content: center;background-color: white;position: relative;}#sk-container-id-18 div.sk-item::before, #sk-container-id-18 div.sk-parallel-item::before {content: \"\";position: absolute;border-left: 1px solid gray;box-sizing: border-box;top: 0;bottom: 0;left: 50%;z-index: -1;}#sk-container-id-18 div.sk-parallel-item {display: flex;flex-direction: column;z-index: 1;position: relative;background-color: white;}#sk-container-id-18 div.sk-parallel-item:first-child::after {align-self: flex-end;width: 50%;}#sk-container-id-18 div.sk-parallel-item:last-child::after {align-self: flex-start;width: 50%;}#sk-container-id-18 div.sk-parallel-item:only-child::after {width: 0;}#sk-container-id-18 div.sk-dashed-wrapped {border: 1px dashed gray;margin: 0 0.4em 0.5em 0.4em;box-sizing: border-box;padding-bottom: 0.4em;background-color: white;}#sk-container-id-18 div.sk-label label {font-family: monospace;font-weight: bold;display: inline-block;line-height: 1.2em;}#sk-container-id-18 div.sk-label-container {text-align: center;}#sk-container-id-18 div.sk-container {/* jupyter's `normalize.less` sets `[hidden] { display: none; }` but bootstrap.min.css set `[hidden] { display: none !important; }` so we also need the `!important` here to be able to override the default hidden behavior on the sphinx rendered scikit-learn.org. See: https://github.com/scikit-learn/scikit-learn/issues/21755 */display: inline-block !important;position: relative;}#sk-container-id-18 div.sk-text-repr-fallback {display: none;}</style><div id=\"sk-container-id-18\" class=\"sk-top-container\"><div class=\"sk-text-repr-fallback\"><pre>DecisionTreeRegressor(min_samples_split=5, random_state=42)</pre><b>In a Jupyter environment, please rerun this cell to show the HTML representation or trust the notebook. <br />On GitHub, the HTML representation is unable to render, please try loading this page with nbviewer.org.</b></div><div class=\"sk-container\" hidden><div class=\"sk-item\"><div class=\"sk-estimator sk-toggleable\"><input class=\"sk-toggleable__control sk-hidden--visually\" id=\"sk-estimator-id-18\" type=\"checkbox\" checked><label for=\"sk-estimator-id-18\" class=\"sk-toggleable__label sk-toggleable__label-arrow\">DecisionTreeRegressor</label><div class=\"sk-toggleable__content\"><pre>DecisionTreeRegressor(min_samples_split=5, random_state=42)</pre></div></div></div></div></div>"
      ],
      "text/plain": [
       "DecisionTreeRegressor(min_samples_split=5, random_state=42)"
      ]
     },
     "execution_count": 66,
     "metadata": {},
     "output_type": "execute_result"
    },
    {
     "name": "stdout",
     "output_type": "stream",
     "text": [
      "Decision Tree Mean Squared Error: 6.269094538897476\n"
     ]
    },
    {
     "data": {
      "text/html": [
       "<style>#sk-container-id-19 {color: black;background-color: white;}#sk-container-id-19 pre{padding: 0;}#sk-container-id-19 div.sk-toggleable {background-color: white;}#sk-container-id-19 label.sk-toggleable__label {cursor: pointer;display: block;width: 100%;margin-bottom: 0;padding: 0.3em;box-sizing: border-box;text-align: center;}#sk-container-id-19 label.sk-toggleable__label-arrow:before {content: \"▸\";float: left;margin-right: 0.25em;color: #696969;}#sk-container-id-19 label.sk-toggleable__label-arrow:hover:before {color: black;}#sk-container-id-19 div.sk-estimator:hover label.sk-toggleable__label-arrow:before {color: black;}#sk-container-id-19 div.sk-toggleable__content {max-height: 0;max-width: 0;overflow: hidden;text-align: left;background-color: #f0f8ff;}#sk-container-id-19 div.sk-toggleable__content pre {margin: 0.2em;color: black;border-radius: 0.25em;background-color: #f0f8ff;}#sk-container-id-19 input.sk-toggleable__control:checked~div.sk-toggleable__content {max-height: 200px;max-width: 100%;overflow: auto;}#sk-container-id-19 input.sk-toggleable__control:checked~label.sk-toggleable__label-arrow:before {content: \"▾\";}#sk-container-id-19 div.sk-estimator input.sk-toggleable__control:checked~label.sk-toggleable__label {background-color: #d4ebff;}#sk-container-id-19 div.sk-label input.sk-toggleable__control:checked~label.sk-toggleable__label {background-color: #d4ebff;}#sk-container-id-19 input.sk-hidden--visually {border: 0;clip: rect(1px 1px 1px 1px);clip: rect(1px, 1px, 1px, 1px);height: 1px;margin: -1px;overflow: hidden;padding: 0;position: absolute;width: 1px;}#sk-container-id-19 div.sk-estimator {font-family: monospace;background-color: #f0f8ff;border: 1px dotted black;border-radius: 0.25em;box-sizing: border-box;margin-bottom: 0.5em;}#sk-container-id-19 div.sk-estimator:hover {background-color: #d4ebff;}#sk-container-id-19 div.sk-parallel-item::after {content: \"\";width: 100%;border-bottom: 1px solid gray;flex-grow: 1;}#sk-container-id-19 div.sk-label:hover label.sk-toggleable__label {background-color: #d4ebff;}#sk-container-id-19 div.sk-serial::before {content: \"\";position: absolute;border-left: 1px solid gray;box-sizing: border-box;top: 0;bottom: 0;left: 50%;z-index: 0;}#sk-container-id-19 div.sk-serial {display: flex;flex-direction: column;align-items: center;background-color: white;padding-right: 0.2em;padding-left: 0.2em;position: relative;}#sk-container-id-19 div.sk-item {position: relative;z-index: 1;}#sk-container-id-19 div.sk-parallel {display: flex;align-items: stretch;justify-content: center;background-color: white;position: relative;}#sk-container-id-19 div.sk-item::before, #sk-container-id-19 div.sk-parallel-item::before {content: \"\";position: absolute;border-left: 1px solid gray;box-sizing: border-box;top: 0;bottom: 0;left: 50%;z-index: -1;}#sk-container-id-19 div.sk-parallel-item {display: flex;flex-direction: column;z-index: 1;position: relative;background-color: white;}#sk-container-id-19 div.sk-parallel-item:first-child::after {align-self: flex-end;width: 50%;}#sk-container-id-19 div.sk-parallel-item:last-child::after {align-self: flex-start;width: 50%;}#sk-container-id-19 div.sk-parallel-item:only-child::after {width: 0;}#sk-container-id-19 div.sk-dashed-wrapped {border: 1px dashed gray;margin: 0 0.4em 0.5em 0.4em;box-sizing: border-box;padding-bottom: 0.4em;background-color: white;}#sk-container-id-19 div.sk-label label {font-family: monospace;font-weight: bold;display: inline-block;line-height: 1.2em;}#sk-container-id-19 div.sk-label-container {text-align: center;}#sk-container-id-19 div.sk-container {/* jupyter's `normalize.less` sets `[hidden] { display: none; }` but bootstrap.min.css set `[hidden] { display: none !important; }` so we also need the `!important` here to be able to override the default hidden behavior on the sphinx rendered scikit-learn.org. See: https://github.com/scikit-learn/scikit-learn/issues/21755 */display: inline-block !important;position: relative;}#sk-container-id-19 div.sk-text-repr-fallback {display: none;}</style><div id=\"sk-container-id-19\" class=\"sk-top-container\"><div class=\"sk-text-repr-fallback\"><pre>GradientBoostingRegressor(random_state=42)</pre><b>In a Jupyter environment, please rerun this cell to show the HTML representation or trust the notebook. <br />On GitHub, the HTML representation is unable to render, please try loading this page with nbviewer.org.</b></div><div class=\"sk-container\" hidden><div class=\"sk-item\"><div class=\"sk-estimator sk-toggleable\"><input class=\"sk-toggleable__control sk-hidden--visually\" id=\"sk-estimator-id-19\" type=\"checkbox\" checked><label for=\"sk-estimator-id-19\" class=\"sk-toggleable__label sk-toggleable__label-arrow\">GradientBoostingRegressor</label><div class=\"sk-toggleable__content\"><pre>GradientBoostingRegressor(random_state=42)</pre></div></div></div></div></div>"
      ],
      "text/plain": [
       "GradientBoostingRegressor(random_state=42)"
      ]
     },
     "execution_count": 66,
     "metadata": {},
     "output_type": "execute_result"
    },
    {
     "name": "stdout",
     "output_type": "stream",
     "text": [
      "Gradient Boosting Mean Squared Error: 3.3326923315839525\n"
     ]
    },
    {
     "data": {
      "text/html": [
       "<style>#sk-container-id-20 {color: black;background-color: white;}#sk-container-id-20 pre{padding: 0;}#sk-container-id-20 div.sk-toggleable {background-color: white;}#sk-container-id-20 label.sk-toggleable__label {cursor: pointer;display: block;width: 100%;margin-bottom: 0;padding: 0.3em;box-sizing: border-box;text-align: center;}#sk-container-id-20 label.sk-toggleable__label-arrow:before {content: \"▸\";float: left;margin-right: 0.25em;color: #696969;}#sk-container-id-20 label.sk-toggleable__label-arrow:hover:before {color: black;}#sk-container-id-20 div.sk-estimator:hover label.sk-toggleable__label-arrow:before {color: black;}#sk-container-id-20 div.sk-toggleable__content {max-height: 0;max-width: 0;overflow: hidden;text-align: left;background-color: #f0f8ff;}#sk-container-id-20 div.sk-toggleable__content pre {margin: 0.2em;color: black;border-radius: 0.25em;background-color: #f0f8ff;}#sk-container-id-20 input.sk-toggleable__control:checked~div.sk-toggleable__content {max-height: 200px;max-width: 100%;overflow: auto;}#sk-container-id-20 input.sk-toggleable__control:checked~label.sk-toggleable__label-arrow:before {content: \"▾\";}#sk-container-id-20 div.sk-estimator input.sk-toggleable__control:checked~label.sk-toggleable__label {background-color: #d4ebff;}#sk-container-id-20 div.sk-label input.sk-toggleable__control:checked~label.sk-toggleable__label {background-color: #d4ebff;}#sk-container-id-20 input.sk-hidden--visually {border: 0;clip: rect(1px 1px 1px 1px);clip: rect(1px, 1px, 1px, 1px);height: 1px;margin: -1px;overflow: hidden;padding: 0;position: absolute;width: 1px;}#sk-container-id-20 div.sk-estimator {font-family: monospace;background-color: #f0f8ff;border: 1px dotted black;border-radius: 0.25em;box-sizing: border-box;margin-bottom: 0.5em;}#sk-container-id-20 div.sk-estimator:hover {background-color: #d4ebff;}#sk-container-id-20 div.sk-parallel-item::after {content: \"\";width: 100%;border-bottom: 1px solid gray;flex-grow: 1;}#sk-container-id-20 div.sk-label:hover label.sk-toggleable__label {background-color: #d4ebff;}#sk-container-id-20 div.sk-serial::before {content: \"\";position: absolute;border-left: 1px solid gray;box-sizing: border-box;top: 0;bottom: 0;left: 50%;z-index: 0;}#sk-container-id-20 div.sk-serial {display: flex;flex-direction: column;align-items: center;background-color: white;padding-right: 0.2em;padding-left: 0.2em;position: relative;}#sk-container-id-20 div.sk-item {position: relative;z-index: 1;}#sk-container-id-20 div.sk-parallel {display: flex;align-items: stretch;justify-content: center;background-color: white;position: relative;}#sk-container-id-20 div.sk-item::before, #sk-container-id-20 div.sk-parallel-item::before {content: \"\";position: absolute;border-left: 1px solid gray;box-sizing: border-box;top: 0;bottom: 0;left: 50%;z-index: -1;}#sk-container-id-20 div.sk-parallel-item {display: flex;flex-direction: column;z-index: 1;position: relative;background-color: white;}#sk-container-id-20 div.sk-parallel-item:first-child::after {align-self: flex-end;width: 50%;}#sk-container-id-20 div.sk-parallel-item:last-child::after {align-self: flex-start;width: 50%;}#sk-container-id-20 div.sk-parallel-item:only-child::after {width: 0;}#sk-container-id-20 div.sk-dashed-wrapped {border: 1px dashed gray;margin: 0 0.4em 0.5em 0.4em;box-sizing: border-box;padding-bottom: 0.4em;background-color: white;}#sk-container-id-20 div.sk-label label {font-family: monospace;font-weight: bold;display: inline-block;line-height: 1.2em;}#sk-container-id-20 div.sk-label-container {text-align: center;}#sk-container-id-20 div.sk-container {/* jupyter's `normalize.less` sets `[hidden] { display: none; }` but bootstrap.min.css set `[hidden] { display: none !important; }` so we also need the `!important` here to be able to override the default hidden behavior on the sphinx rendered scikit-learn.org. See: https://github.com/scikit-learn/scikit-learn/issues/21755 */display: inline-block !important;position: relative;}#sk-container-id-20 div.sk-text-repr-fallback {display: none;}</style><div id=\"sk-container-id-20\" class=\"sk-top-container\"><div class=\"sk-text-repr-fallback\"><pre>XGBRegressor(base_score=None, booster=None, callbacks=None,\n",
       "             colsample_bylevel=None, colsample_bynode=None,\n",
       "             colsample_bytree=None, device=None, early_stopping_rounds=None,\n",
       "             enable_categorical=False, eval_metric=None, feature_types=None,\n",
       "             gamma=None, grow_policy=None, importance_type=None,\n",
       "             interaction_constraints=None, learning_rate=None, max_bin=None,\n",
       "             max_cat_threshold=None, max_cat_to_onehot=None,\n",
       "             max_delta_step=None, max_depth=None, max_leaves=None,\n",
       "             min_child_weight=None, missing=nan, monotone_constraints=None,\n",
       "             multi_strategy=None, n_estimators=100, n_jobs=None,\n",
       "             num_parallel_tree=None, random_state=42, ...)</pre><b>In a Jupyter environment, please rerun this cell to show the HTML representation or trust the notebook. <br />On GitHub, the HTML representation is unable to render, please try loading this page with nbviewer.org.</b></div><div class=\"sk-container\" hidden><div class=\"sk-item\"><div class=\"sk-estimator sk-toggleable\"><input class=\"sk-toggleable__control sk-hidden--visually\" id=\"sk-estimator-id-20\" type=\"checkbox\" checked><label for=\"sk-estimator-id-20\" class=\"sk-toggleable__label sk-toggleable__label-arrow\">XGBRegressor</label><div class=\"sk-toggleable__content\"><pre>XGBRegressor(base_score=None, booster=None, callbacks=None,\n",
       "             colsample_bylevel=None, colsample_bynode=None,\n",
       "             colsample_bytree=None, device=None, early_stopping_rounds=None,\n",
       "             enable_categorical=False, eval_metric=None, feature_types=None,\n",
       "             gamma=None, grow_policy=None, importance_type=None,\n",
       "             interaction_constraints=None, learning_rate=None, max_bin=None,\n",
       "             max_cat_threshold=None, max_cat_to_onehot=None,\n",
       "             max_delta_step=None, max_depth=None, max_leaves=None,\n",
       "             min_child_weight=None, missing=nan, monotone_constraints=None,\n",
       "             multi_strategy=None, n_estimators=100, n_jobs=None,\n",
       "             num_parallel_tree=None, random_state=42, ...)</pre></div></div></div></div></div>"
      ],
      "text/plain": [
       "XGBRegressor(base_score=None, booster=None, callbacks=None,\n",
       "             colsample_bylevel=None, colsample_bynode=None,\n",
       "             colsample_bytree=None, device=None, early_stopping_rounds=None,\n",
       "             enable_categorical=False, eval_metric=None, feature_types=None,\n",
       "             gamma=None, grow_policy=None, importance_type=None,\n",
       "             interaction_constraints=None, learning_rate=None, max_bin=None,\n",
       "             max_cat_threshold=None, max_cat_to_onehot=None,\n",
       "             max_delta_step=None, max_depth=None, max_leaves=None,\n",
       "             min_child_weight=None, missing=nan, monotone_constraints=None,\n",
       "             multi_strategy=None, n_estimators=100, n_jobs=None,\n",
       "             num_parallel_tree=None, random_state=42, ...)"
      ]
     },
     "execution_count": 66,
     "metadata": {},
     "output_type": "execute_result"
    },
    {
     "name": "stdout",
     "output_type": "stream",
     "text": [
      "XGBoost Mean Squared Error: 3.776687412869633\n"
     ]
    }
   ],
   "source": [
    "# 对 'NOC' 和 'Sport' 进行 one-hot 编码，并在 train 和 test 上分别应用相同的列\n",
    "total_encoded = pd.get_dummies(summary, columns=['NOC', 'Sport'], drop_first=True)\n",
    "\n",
    "train = total_encoded[total_encoded['Year'] != 2024]\n",
    "test = total_encoded[total_encoded['Year'] == 2024]\n",
    "\n",
    "# 获取训练集的特征列\n",
    "X_train = train[['Year', 'Past_Gold', 'Past_Silver', 'Past_Bronze', 'Past_Participants', 'Past_Female', 'Past_Male']\n",
    "                + [col for col in total_encoded.columns if col.startswith('NOC_') or col.startswith('Sport_')]]\n",
    "# 获取训练集的标签（目标变量）\n",
    "y_train1 = train['Gold']\n",
    "y_train2 = train['Silver']\n",
    "y_train3 = train['Bronze']\n",
    "# 获取测试集的特征列\n",
    "X_test = test[['Year', 'Past_Gold', 'Past_Silver', 'Past_Bronze', 'Past_Participants', 'Past_Female', 'Past_Male']\n",
    "                + [col for col in total_encoded.columns if col.startswith('NOC_') or col.startswith('Sport_')]]\n",
    "y_test1 = test['Gold']\n",
    "y_test2 = test['Silver']\n",
    "y_test3 = test['Bronze']\n",
    "\n",
    "print(\"Gold\")\n",
    "# 线性回归\n",
    "model = LinearRegression()\n",
    "model.fit(X_train, y_train1)\n",
    "y_pred = model.predict(X_test)\n",
    "\n",
    "mse = mean_squared_error(y_test1, y_pred)\n",
    "print(f\"Mean Squared Error: {mse}\")\n",
    "\n",
    "# 随机森林回归\n",
    "rf_model = RandomForestRegressor(n_estimators=100, random_state=42)\n",
    "rf_model.fit(X_train, y_train1)\n",
    "rf_y_pred = rf_model.predict(X_test)\n",
    "\n",
    "rf_mse = mean_squared_error(y_test1, rf_y_pred)\n",
    "print(f'Random Forest Mean Squared Error: {rf_mse}')\n",
    "\n",
    "# 决策树\n",
    "dt_model = DecisionTreeRegressor(max_depth=None, min_samples_split=5, max_features=None, max_leaf_nodes=None, random_state=42)\n",
    "dt_model.fit(X_train, y_train1)\n",
    "dt_y_pred = dt_model.predict(X_test)\n",
    "\n",
    "dt_mse = mean_squared_error(y_test1, dt_y_pred)\n",
    "print(f'Decision Tree Mean Squared Error: {dt_mse}')\n",
    "\n",
    "# 梯度回归提升\n",
    "gb_model = GradientBoostingRegressor(n_estimators=100, random_state=42)\n",
    "gb_model.fit(X_train, y_train1)\n",
    "gb_y_pred = gb_model.predict(X_test)\n",
    "\n",
    "gb_mse = mean_squared_error(y_test1, gb_y_pred)\n",
    "print(\"Gradient Boosting Mean Squared Error:\", gb_mse)\n",
    "\n",
    "# XBGBoost\n",
    "xgb_model = xgb.XGBRegressor(n_estimators=100, random_state=42)\n",
    "xgb_model.fit(X_train, y_train1)\n",
    "xgb_y_pred = xgb_model.predict(X_test)\n",
    "\n",
    "xgb_mse = mean_squared_error(y_test1, xgb_y_pred)\n",
    "print(\"XGBoost Mean Squared Error:\", xgb_mse)\n",
    "\n",
    "print(\"Silver\")\n",
    "# 线性回归\n",
    "model = LinearRegression()\n",
    "model.fit(X_train, y_train2)\n",
    "y_pred = model.predict(X_test)\n",
    "\n",
    "mse = mean_squared_error(y_test2, y_pred)\n",
    "print(f\"Mean Squared Error: {mse}\")\n",
    "\n",
    "# 随机森林回归\n",
    "rf_model = RandomForestRegressor(n_estimators=100, random_state=42)\n",
    "rf_model.fit(X_train, y_train2)\n",
    "rf_y_pred = rf_model.predict(X_test)\n",
    "\n",
    "rf_mse = mean_squared_error(y_test2, rf_y_pred)\n",
    "print(f'Random Forest Mean Squared Error: {rf_mse}')\n",
    "\n",
    "# 决策树\n",
    "dt_model = DecisionTreeRegressor(max_depth=None, min_samples_split=5, max_features=None, max_leaf_nodes=None, random_state=42)\n",
    "dt_model.fit(X_train, y_train2)\n",
    "dt_y_pred = dt_model.predict(X_test)\n",
    "\n",
    "dt_mse = mean_squared_error(y_test2, dt_y_pred)\n",
    "print(f'Decision Tree Mean Squared Error: {dt_mse}')\n",
    "\n",
    "# 梯度回归提升\n",
    "gb_model = GradientBoostingRegressor(n_estimators=100, random_state=42)\n",
    "gb_model.fit(X_train, y_train2)\n",
    "gb_y_pred = gb_model.predict(X_test)\n",
    "\n",
    "gb_mse = mean_squared_error(y_test2, gb_y_pred)\n",
    "print(\"Gradient Boosting Mean Squared Error:\", gb_mse)\n",
    "\n",
    "# XBGBoost\n",
    "xgb_model = xgb.XGBRegressor(n_estimators=100, random_state=42)\n",
    "xgb_model.fit(X_train, y_train2)\n",
    "xgb_y_pred = xgb_model.predict(X_test)\n",
    "\n",
    "xgb_mse = mean_squared_error(y_test2, xgb_y_pred)\n",
    "print(\"XGBoost Mean Squared Error:\", xgb_mse)\n",
    "\n",
    "print(\"Bronze\")\n",
    "# 线性回归\n",
    "model = LinearRegression()\n",
    "model.fit(X_train, y_train3)\n",
    "y_pred = model.predict(X_test)\n",
    "\n",
    "mse = mean_squared_error(y_test3, y_pred)\n",
    "print(f\"Mean Squared Error: {mse}\")\n",
    "\n",
    "# 随机森林回归\n",
    "rf_model = RandomForestRegressor(n_estimators=100, random_state=42)\n",
    "rf_model.fit(X_train, y_train3)\n",
    "rf_y_pred = rf_model.predict(X_test)\n",
    "\n",
    "rf_mse = mean_squared_error(y_test3, rf_y_pred)\n",
    "print(f'Random Forest Mean Squared Error: {rf_mse}')\n",
    "\n",
    "# 决策树\n",
    "dt_model = DecisionTreeRegressor(max_depth=None, min_samples_split=5, max_features=None, max_leaf_nodes=None, random_state=42)\n",
    "dt_model.fit(X_train, y_train3)\n",
    "dt_y_pred = dt_model.predict(X_test)\n",
    "\n",
    "dt_mse = mean_squared_error(y_test3, dt_y_pred)\n",
    "print(f'Decision Tree Mean Squared Error: {dt_mse}')\n",
    "\n",
    "# 梯度回归提升\n",
    "gb_model = GradientBoostingRegressor(n_estimators=100, random_state=42)\n",
    "gb_model.fit(X_train, y_train3)\n",
    "gb_y_pred = gb_model.predict(X_test)\n",
    "\n",
    "gb_mse = mean_squared_error(y_test3, gb_y_pred)\n",
    "print(\"Gradient Boosting Mean Squared Error:\", gb_mse)\n",
    "\n",
    "# XBGBoost\n",
    "xgb_model = xgb.XGBRegressor(n_estimators=100, random_state=42)\n",
    "xgb_model.fit(X_train, y_train3)\n",
    "xgb_y_pred = xgb_model.predict(X_test)\n",
    "\n",
    "xgb_mse = mean_squared_error(y_test3, xgb_y_pred)\n",
    "print(\"XGBoost Mean Squared Error:\", xgb_mse)"
   ]
  },
  {
   "cell_type": "markdown",
   "id": "d6d76b2d-31fe-4ed1-975c-24252b30c7bb",
   "metadata": {},
   "source": [
    "### 使用历史数据预测（使用随机森林）"
   ]
  },
  {
   "cell_type": "code",
   "execution_count": 12,
   "id": "137e8c0a-e143-4f0a-9d8a-99d782877b05",
   "metadata": {},
   "outputs": [],
   "source": [
    "summary['Past_Gold'] = summary.groupby(['NOC','Sport'])['Gold'].shift(1)\n",
    "summary['Past_Silver'] = summary.groupby(['NOC','Sport'])['Silver'].shift(1)\n",
    "summary['Past_Bronze'] = summary.groupby(['NOC','Sport'])['Bronze'].shift(1)\n",
    "summary['Past_Participants'] = summary.groupby(['NOC','Sport'])['Participants'].shift(1)\n",
    "summary['Past_Female'] = summary.groupby(['NOC','Sport'])['Female'].shift(1)\n",
    "summary['Past_Male'] = summary.groupby(['NOC','Sport'])['Male'].shift(1)\n",
    "summary = summary[~pd.isna(summary['Past_Gold'])]"
   ]
  },
  {
   "cell_type": "code",
   "execution_count": 13,
   "id": "e6100ab9-fee1-49bd-b23e-51aa1b58e348",
   "metadata": {},
   "outputs": [],
   "source": [
    "summary.to_csv(\"sports_summary.csv\")"
   ]
  },
  {
   "cell_type": "code",
   "execution_count": 14,
   "id": "73f5adde-3628-4c39-b5c2-7a2a7ba73acc",
   "metadata": {},
   "outputs": [
    {
     "name": "stderr",
     "output_type": "stream",
     "text": [
      "C:\\Users\\Lenovo\\AppData\\Local\\Temp\\ipykernel_14928\\418316920.py:2: SettingWithCopyWarning: \n",
      "A value is trying to be set on a copy of a slice from a DataFrame.\n",
      "Try using .loc[row_indexer,col_indexer] = value instead\n",
      "\n",
      "See the caveats in the documentation: https://pandas.pydata.org/pandas-docs/stable/user_guide/indexing.html#returning-a-view-versus-a-copy\n",
      "  test['Year'] = 2028\n",
      "C:\\Users\\Lenovo\\AppData\\Local\\Temp\\ipykernel_14928\\418316920.py:3: SettingWithCopyWarning: \n",
      "A value is trying to be set on a copy of a slice from a DataFrame.\n",
      "Try using .loc[row_indexer,col_indexer] = value instead\n",
      "\n",
      "See the caveats in the documentation: https://pandas.pydata.org/pandas-docs/stable/user_guide/indexing.html#returning-a-view-versus-a-copy\n",
      "  test['Participants'] = 0\n",
      "C:\\Users\\Lenovo\\AppData\\Local\\Temp\\ipykernel_14928\\418316920.py:4: SettingWithCopyWarning: \n",
      "A value is trying to be set on a copy of a slice from a DataFrame.\n",
      "Try using .loc[row_indexer,col_indexer] = value instead\n",
      "\n",
      "See the caveats in the documentation: https://pandas.pydata.org/pandas-docs/stable/user_guide/indexing.html#returning-a-view-versus-a-copy\n",
      "  test['Female'] = 0\n",
      "C:\\Users\\Lenovo\\AppData\\Local\\Temp\\ipykernel_14928\\418316920.py:5: SettingWithCopyWarning: \n",
      "A value is trying to be set on a copy of a slice from a DataFrame.\n",
      "Try using .loc[row_indexer,col_indexer] = value instead\n",
      "\n",
      "See the caveats in the documentation: https://pandas.pydata.org/pandas-docs/stable/user_guide/indexing.html#returning-a-view-versus-a-copy\n",
      "  test['Male'] = 0\n",
      "C:\\Users\\Lenovo\\AppData\\Local\\Temp\\ipykernel_14928\\418316920.py:6: SettingWithCopyWarning: \n",
      "A value is trying to be set on a copy of a slice from a DataFrame.\n",
      "Try using .loc[row_indexer,col_indexer] = value instead\n",
      "\n",
      "See the caveats in the documentation: https://pandas.pydata.org/pandas-docs/stable/user_guide/indexing.html#returning-a-view-versus-a-copy\n",
      "  test['Bronze'] = 0\n",
      "C:\\Users\\Lenovo\\AppData\\Local\\Temp\\ipykernel_14928\\418316920.py:7: SettingWithCopyWarning: \n",
      "A value is trying to be set on a copy of a slice from a DataFrame.\n",
      "Try using .loc[row_indexer,col_indexer] = value instead\n",
      "\n",
      "See the caveats in the documentation: https://pandas.pydata.org/pandas-docs/stable/user_guide/indexing.html#returning-a-view-versus-a-copy\n",
      "  test['Gold'] = 0\n",
      "C:\\Users\\Lenovo\\AppData\\Local\\Temp\\ipykernel_14928\\418316920.py:8: SettingWithCopyWarning: \n",
      "A value is trying to be set on a copy of a slice from a DataFrame.\n",
      "Try using .loc[row_indexer,col_indexer] = value instead\n",
      "\n",
      "See the caveats in the documentation: https://pandas.pydata.org/pandas-docs/stable/user_guide/indexing.html#returning-a-view-versus-a-copy\n",
      "  test['No medal'] = 0\n",
      "C:\\Users\\Lenovo\\AppData\\Local\\Temp\\ipykernel_14928\\418316920.py:9: SettingWithCopyWarning: \n",
      "A value is trying to be set on a copy of a slice from a DataFrame.\n",
      "Try using .loc[row_indexer,col_indexer] = value instead\n",
      "\n",
      "See the caveats in the documentation: https://pandas.pydata.org/pandas-docs/stable/user_guide/indexing.html#returning-a-view-versus-a-copy\n",
      "  test['Silver'] = 0\n"
     ]
    }
   ],
   "source": [
    "test = summary[summary['Year']==2024]\n",
    "test['Year'] = 2028\n",
    "test['Participants'] = 0\n",
    "test['Female'] = 0\n",
    "test['Male'] = 0\n",
    "test['Bronze'] = 0\n",
    "test['Gold'] = 0\n",
    "test['No medal'] = 0\n",
    "test['Silver'] = 0\n",
    "\n",
    "total = pd.concat([summary, test], axis=0, ignore_index=True)"
   ]
  },
  {
   "cell_type": "code",
   "execution_count": null,
   "id": "82c51e53-e2ef-4970-9b7e-4d9373939ad4",
   "metadata": {},
   "outputs": [],
   "source": [
    "# 对 'NOC' 和 'Sport' 进行 one-hot 编码，并在 train 和 test 上分别应用相同的列\n",
    "total_encoded = pd.get_dummies(total, columns=['NOC', 'Sport'], drop_first=True)\n",
    "\n",
    "train = total_encoded[total_encoded['Year'] != 2028]\n",
    "test = total_encoded[total_encoded['Year'] == 2028]\n",
    "\n",
    "# 获取训练集的特征列\n",
    "X_train = train[['Year', 'Past_Gold', 'Past_Silver', 'Past_Bronze', 'Past_Participants', 'Past_Female', 'Past_Male']\n",
    "                + [col for col in total_encoded.columns if col.startswith('NOC_') or col.startswith('Sport_')]]\n",
    "# 获取训练集的标签（目标变量）\n",
    "y_train1 = train['Gold']\n",
    "y_train2 = train['Silver']\n",
    "y_train3 = train['Bronze']\n",
    "# 获取测试集的特征列\n",
    "X_test = test[['Year', 'Past_Gold', 'Past_Silver', 'Past_Bronze', 'Past_Participants', 'Past_Female', 'Past_Male']\n",
    "                + [col for col in total_encoded.columns if col.startswith('NOC_') or col.startswith('Sport_')]]\n",
    "\n",
    "# 随机森林回归\n",
    "rf_model = RandomForestRegressor(n_estimators=100, random_state=42)\n",
    "rf_model.fit(X_train, y_train1)\n",
    "rf_y_pred1 = rf_model.predict(X_test)\n",
    "print(rf_y_pred1)\n",
    "rf_model = RandomForestRegressor(n_estimators=100, random_state=42)\n",
    "rf_model.fit(X_train, y_train2)\n",
    "rf_y_pred2 = rf_model.predict(X_test)\n",
    "print(rf_y_pred2)\n",
    "rf_model = RandomForestRegressor(n_estimators=100, random_state=42)\n",
    "rf_model.fit(X_train, y_train3)\n",
    "rf_y_pred3 = rf_model.predict(X_test)\n",
    "print(rf_y_pred3)"
   ]
  },
  {
   "cell_type": "code",
   "execution_count": 47,
   "id": "aa4f496e-d483-4bd6-a4c3-7ffade889de3",
   "metadata": {},
   "outputs": [],
   "source": [
    "rf_y_pred1_df = pd.DataFrame(rf_y_pred1, columns=['Pred_Gold']).reset_index(drop=True)\n",
    "rf_y_pred2_df = pd.DataFrame(rf_y_pred2, columns=['Pred_Silver']).reset_index(drop=True)\n",
    "rf_y_pred3_df = pd.DataFrame(rf_y_pred3, columns=['Pred_Bronze']).reset_index(drop=True)\n",
    "X_test = X_test.reset_index(drop=True)\n",
    "X_test_with_predictions = pd.concat([X_test, rf_y_pred1_df, rf_y_pred2_df, rf_y_pred3_df], axis=1)\n",
    "X_test_with_predictions.to_csv(\"pred.csv\")"
   ]
  },
  {
   "cell_type": "code",
   "execution_count": null,
   "id": "61671257-4937-42e3-a8b4-44a66a1549bb",
   "metadata": {},
   "outputs": [],
   "source": []
  }
 ],
 "metadata": {
  "kernelspec": {
   "display_name": "Python 3 (ipykernel)",
   "language": "python",
   "name": "python3"
  },
  "language_info": {
   "codemirror_mode": {
    "name": "ipython",
    "version": 3
   },
   "file_extension": ".py",
   "mimetype": "text/x-python",
   "name": "python",
   "nbconvert_exporter": "python",
   "pygments_lexer": "ipython3",
   "version": "3.11.7"
  }
 },
 "nbformat": 4,
 "nbformat_minor": 5
}
